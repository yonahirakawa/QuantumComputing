{
 "cells": [
  {
   "cell_type": "markdown",
   "metadata": {},
   "source": [
    "<table  align=\"left\" width=\"100%\"> <tr>\n",
    "        <td  style=\"background-color:#ffffff;\"><a href=\"https://qsoftware.lu.lv/index.php/qworld/\" target=\"_blank\"><img src=\"../images/qworld.jpg\" width=\"35%\" align=\"left\"></a></td>\n",
    "        <td  align=\"right\" style=\"background-color:#ffffff;vertical-align:bottom;horizontal-align:right\">\n",
    "            prepared by Özlem Salehi (<a href=\"http://qworld.lu.lv/index.php/qturkey/\" target=\"_blank\">QTurkey</a>)\n",
    "        </td>        \n",
    "</tr></table>"
   ]
  },
  {
   "cell_type": "markdown",
   "metadata": {},
   "source": [
    "<table width=\"100%\"><tr><td style=\"color:#bbbbbb;background-color:#ffffff;font-size:11px;font-style:italic;text-align:right;\">This cell contains some macros. If there is a problem with displaying mathematical formulas, please run this cell to load these macros. </td></tr></table>\n",
    "$\\newcommand{\\Mod}[1]{\\ (\\mathrm{mod}\\ #1)}$\n",
    "$ \\newcommand{\\bra}[1]{\\langle #1|} $\n",
    "$ \\newcommand{\\ket}[1]{|#1\\rangle} $\n",
    "$ \\newcommand{\\braket}[2]{\\langle #1|#2\\rangle} $\n",
    "$ \\newcommand{\\dot}[2]{ #1 \\cdot #2} $\n",
    "$ \\newcommand{\\biginner}[2]{\\left\\langle #1,#2\\right\\rangle} $\n",
    "$ \\newcommand{\\mymatrix}[2]{\\left( \\begin{array}{#1} #2\\end{array} \\right)} $\n",
    "$ \\newcommand{\\myvector}[1]{\\mymatrix{c}{#1}} $\n",
    "$ \\newcommand{\\myrvector}[1]{\\mymatrix{r}{#1}} $\n",
    "$ \\newcommand{\\mypar}[1]{\\left( #1 \\right)} $\n",
    "$ \\newcommand{\\mybigpar}[1]{ \\Big( #1 \\Big)} $\n",
    "$ \\newcommand{\\sqrttwo}{\\frac{1}{\\sqrt{2}}} $\n",
    "$ \\newcommand{\\dsqrttwo}{\\dfrac{1}{\\sqrt{2}}} $\n",
    "$ \\newcommand{\\onehalf}{\\frac{1}{2}} $\n",
    "$ \\newcommand{\\donehalf}{\\dfrac{1}{2}} $\n",
    "$ \\newcommand{\\hadamard}{ \\mymatrix{rr}{ \\sqrttwo & \\sqrttwo \\\\ \\sqrttwo & -\\sqrttwo }} $\n",
    "$ \\newcommand{\\vzero}{\\myvector{1\\\\0}} $\n",
    "$ \\newcommand{\\vone}{\\myvector{0\\\\1}} $\n",
    "$ \\newcommand{\\stateplus}{\\myvector{ \\sqrttwo \\\\  \\sqrttwo } } $\n",
    "$ \\newcommand{\\stateminus}{ \\myrvector{ \\sqrttwo \\\\ -\\sqrttwo } } $\n",
    "$ \\newcommand{\\myarray}[2]{ \\begin{array}{#1}#2\\end{array}} $\n",
    "$ \\newcommand{\\X}{ \\mymatrix{cc}{0 & 1 \\\\ 1 & 0}  } $\n",
    "$ \\newcommand{\\Z}{ \\mymatrix{rr}{1 & 0 \\\\ 0 & -1}  } $\n",
    "$ \\newcommand{\\Htwo}{ \\mymatrix{rrrr}{ \\frac{1}{2} & \\frac{1}{2} & \\frac{1}{2} & \\frac{1}{2} \\\\ \\frac{1}{2} & -\\frac{1}{2} & \\frac{1}{2} & -\\frac{1}{2} \\\\ \\frac{1}{2} & \\frac{1}{2} & -\\frac{1}{2} & -\\frac{1}{2} \\\\ \\frac{1}{2} & -\\frac{1}{2} & -\\frac{1}{2} & \\frac{1}{2} } } $\n",
    "$ \\newcommand{\\CNOT}{ \\mymatrix{cccc}{1 & 0 & 0 & 0 \\\\ 0 & 1 & 0 & 0 \\\\ 0 & 0 & 0 & 1 \\\\ 0 & 0 & 1 & 0} } $\n",
    "$ \\newcommand{\\norm}[1]{ \\left\\lVert #1 \\right\\rVert } $\n",
    "$ \\newcommand{\\pstate}[1]{ \\lceil \\mspace{-1mu} #1 \\mspace{-1.5mu} \\rfloor } $"
   ]
  },
  {
   "cell_type": "markdown",
   "metadata": {},
   "source": [
    "# Cirq installation and test\n"
   ]
  },
  {
   "cell_type": "markdown",
   "metadata": {},
   "source": [
    "<hr id=\"install\">\n",
    "\n",
    "## Install Cirq\n"
   ]
  },
  {
   "cell_type": "markdown",
   "metadata": {},
   "source": [
    "Type\n",
    "\n",
    "    !pip install cirq\n",
    "    \n",
    "directly inside the cell of a Jupyter notebook.\n",
    "\n",
    "You may also visit the following links for further information.\n",
    "\n",
    "- https://pypi.org/project/cirq/\n",
    "\n",
    "- https://quantumai.google/cirq/install?hl=en"
   ]
  },
  {
   "cell_type": "code",
   "execution_count": 1,
   "metadata": {},
   "outputs": [
    {
     "name": "stdout",
     "output_type": "stream",
     "text": [
      "Collecting cirq\n",
      "  Downloading cirq-1.0.0-py3-none-any.whl (7.8 kB)\n",
      "Collecting cirq-core==1.0.0\n",
      "  Downloading cirq_core-1.0.0-py3-none-any.whl (1.8 MB)\n",
      "     ---------------------------------------- 1.8/1.8 MB 660.3 kB/s eta 0:00:00\n",
      "Collecting cirq-aqt==1.0.0\n",
      "  Downloading cirq_aqt-1.0.0-py3-none-any.whl (27 kB)\n",
      "Collecting cirq-google==1.0.0\n",
      "  Downloading cirq_google-1.0.0-py3-none-any.whl (576 kB)\n",
      "     ------------------------------------ 576.5/576.5 kB 594.2 kB/s eta 0:00:00\n",
      "Collecting cirq-web==1.0.0\n",
      "  Downloading cirq_web-1.0.0-py3-none-any.whl (594 kB)\n",
      "     ------------------------------------ 594.2/594.2 kB 644.5 kB/s eta 0:00:00\n",
      "Collecting cirq-ionq==1.0.0\n",
      "  Downloading cirq_ionq-1.0.0-py3-none-any.whl (57 kB)\n",
      "     -------------------------------------- 57.1/57.1 kB 498.3 kB/s eta 0:00:00\n",
      "Collecting cirq-pasqal==1.0.0\n",
      "  Downloading cirq_pasqal-1.0.0-py3-none-any.whl (31 kB)\n",
      "Collecting cirq-rigetti==1.0.0\n",
      "  Downloading cirq_rigetti-1.0.0-py3-none-any.whl (66 kB)\n",
      "     -------------------------------------- 66.5/66.5 kB 399.2 kB/s eta 0:00:00\n",
      "Requirement already satisfied: requests~=2.18 in c:\\users\\blueshift\\anaconda3\\lib\\site-packages (from cirq-aqt==1.0.0->cirq) (2.26.0)\n",
      "Requirement already satisfied: matplotlib~=3.0 in c:\\users\\blueshift\\anaconda3\\lib\\site-packages (from cirq-core==1.0.0->cirq) (3.4.3)\n",
      "Requirement already satisfied: numpy~=1.16 in c:\\users\\blueshift\\anaconda3\\lib\\site-packages (from cirq-core==1.0.0->cirq) (1.20.3)\n",
      "Requirement already satisfied: sympy in c:\\users\\blueshift\\anaconda3\\lib\\site-packages (from cirq-core==1.0.0->cirq) (1.9)\n",
      "Requirement already satisfied: scipy in c:\\users\\blueshift\\anaconda3\\lib\\site-packages (from cirq-core==1.0.0->cirq) (1.7.1)\n",
      "Requirement already satisfied: tqdm in c:\\users\\blueshift\\appdata\\roaming\\python\\python39\\site-packages (from cirq-core==1.0.0->cirq) (4.50.2)\n",
      "Requirement already satisfied: typing-extensions in c:\\users\\blueshift\\anaconda3\\lib\\site-packages (from cirq-core==1.0.0->cirq) (3.10.0.2)\n",
      "Requirement already satisfied: pandas in c:\\users\\blueshift\\anaconda3\\lib\\site-packages (from cirq-core==1.0.0->cirq) (1.2.4)\n",
      "Collecting duet~=0.2.7\n",
      "  Downloading duet-0.2.7-py3-none-any.whl (28 kB)\n",
      "Requirement already satisfied: networkx~=2.4 in c:\\users\\blueshift\\anaconda3\\lib\\site-packages (from cirq-core==1.0.0->cirq) (2.6.3)\n",
      "Requirement already satisfied: sortedcontainers~=2.0 in c:\\users\\blueshift\\anaconda3\\lib\\site-packages (from cirq-core==1.0.0->cirq) (2.4.0)\n",
      "Requirement already satisfied: protobuf<4,>=3.15.0 in c:\\users\\blueshift\\anaconda3\\lib\\site-packages (from cirq-google==1.0.0->cirq) (3.20.1)\n",
      "Requirement already satisfied: google-api-core[grpc]<2.0.0dev,>=1.14.0 in c:\\users\\blueshift\\anaconda3\\lib\\site-packages (from cirq-google==1.0.0->cirq) (1.31.5)\n",
      "Requirement already satisfied: proto-plus>=1.20.0 in c:\\users\\blueshift\\anaconda3\\lib\\site-packages (from cirq-google==1.0.0->cirq) (1.20.3)\n",
      "Collecting pyquil>=3.0.0\n",
      "  Downloading pyquil-3.1.0-py3-none-any.whl (220 kB)\n",
      "     ------------------------------------ 220.8/220.8 kB 612.1 kB/s eta 0:00:00\n",
      "Requirement already satisfied: google-auth<2.0dev,>=1.25.0 in c:\\users\\blueshift\\anaconda3\\lib\\site-packages (from google-api-core[grpc]<2.0.0dev,>=1.14.0->cirq-google==1.0.0->cirq) (1.35.0)\n",
      "Requirement already satisfied: googleapis-common-protos<2.0dev,>=1.6.0 in c:\\users\\blueshift\\anaconda3\\lib\\site-packages (from google-api-core[grpc]<2.0.0dev,>=1.14.0->cirq-google==1.0.0->cirq) (1.56.0)\n",
      "Requirement already satisfied: packaging>=14.3 in c:\\users\\blueshift\\anaconda3\\lib\\site-packages (from google-api-core[grpc]<2.0.0dev,>=1.14.0->cirq-google==1.0.0->cirq) (21.0)\n",
      "Requirement already satisfied: setuptools>=40.3.0 in c:\\users\\blueshift\\anaconda3\\lib\\site-packages (from google-api-core[grpc]<2.0.0dev,>=1.14.0->cirq-google==1.0.0->cirq) (58.0.4)\n",
      "Requirement already satisfied: pytz in c:\\users\\blueshift\\anaconda3\\lib\\site-packages (from google-api-core[grpc]<2.0.0dev,>=1.14.0->cirq-google==1.0.0->cirq) (2021.3)\n",
      "Requirement already satisfied: six>=1.13.0 in c:\\users\\blueshift\\anaconda3\\lib\\site-packages (from google-api-core[grpc]<2.0.0dev,>=1.14.0->cirq-google==1.0.0->cirq) (1.16.0)\n",
      "Requirement already satisfied: grpcio<2.0dev,>=1.29.0 in c:\\users\\blueshift\\anaconda3\\lib\\site-packages (from google-api-core[grpc]<2.0.0dev,>=1.14.0->cirq-google==1.0.0->cirq) (1.46.0)\n",
      "Requirement already satisfied: python-dateutil>=2.7 in c:\\users\\blueshift\\anaconda3\\lib\\site-packages (from matplotlib~=3.0->cirq-core==1.0.0->cirq) (2.8.2)\n",
      "Requirement already satisfied: cycler>=0.10 in c:\\users\\blueshift\\anaconda3\\lib\\site-packages (from matplotlib~=3.0->cirq-core==1.0.0->cirq) (0.10.0)\n",
      "Requirement already satisfied: pillow>=6.2.0 in c:\\users\\blueshift\\anaconda3\\lib\\site-packages (from matplotlib~=3.0->cirq-core==1.0.0->cirq) (8.4.0)\n",
      "Requirement already satisfied: kiwisolver>=1.0.1 in c:\\users\\blueshift\\anaconda3\\lib\\site-packages (from matplotlib~=3.0->cirq-core==1.0.0->cirq) (1.3.1)\n",
      "Requirement already satisfied: pyparsing>=2.2.1 in c:\\users\\blueshift\\anaconda3\\lib\\site-packages (from matplotlib~=3.0->cirq-core==1.0.0->cirq) (3.0.4)\n",
      "Collecting rpcq<4.0.0,>=3.6.0\n",
      "  Downloading rpcq-3.10.0.tar.gz (44 kB)\n",
      "     -------------------------------------- 44.7/44.7 kB 244.4 kB/s eta 0:00:00\n",
      "  Preparing metadata (setup.py): started\n",
      "  Preparing metadata (setup.py): finished with status 'done'\n",
      "Collecting lark<0.12.0,>=0.11.1\n",
      "  Downloading lark-0.11.3.tar.gz (229 kB)\n",
      "     ------------------------------------ 229.9/229.9 kB 484.9 kB/s eta 0:00:00\n",
      "  Preparing metadata (setup.py): started\n",
      "  Preparing metadata (setup.py): finished with status 'done'\n",
      "Collecting retry<0.10.0,>=0.9.2\n",
      "  Downloading retry-0.9.2-py2.py3-none-any.whl (8.0 kB)\n",
      "Collecting qcs-api-client<0.21.0,>=0.8.1\n",
      "  Downloading qcs_api_client-0.20.17-py3-none-any.whl (142 kB)\n",
      "     ------------------------------------ 142.7/142.7 kB 498.0 kB/s eta 0:00:00\n",
      "Requirement already satisfied: idna<4,>=2.5 in c:\\users\\blueshift\\anaconda3\\lib\\site-packages (from requests~=2.18->cirq-aqt==1.0.0->cirq) (3.2)\n",
      "Requirement already satisfied: urllib3<1.27,>=1.21.1 in c:\\users\\blueshift\\anaconda3\\lib\\site-packages (from requests~=2.18->cirq-aqt==1.0.0->cirq) (1.26.7)\n",
      "Requirement already satisfied: certifi>=2017.4.17 in c:\\users\\blueshift\\anaconda3\\lib\\site-packages (from requests~=2.18->cirq-aqt==1.0.0->cirq) (2021.10.8)\n",
      "Requirement already satisfied: charset-normalizer~=2.0.0 in c:\\users\\blueshift\\anaconda3\\lib\\site-packages (from requests~=2.18->cirq-aqt==1.0.0->cirq) (2.0.4)\n",
      "Requirement already satisfied: mpmath>=0.19 in c:\\users\\blueshift\\anaconda3\\lib\\site-packages (from sympy->cirq-core==1.0.0->cirq) (1.2.1)\n",
      "Requirement already satisfied: cachetools<5.0,>=2.0.0 in c:\\users\\blueshift\\anaconda3\\lib\\site-packages (from google-auth<2.0dev,>=1.25.0->google-api-core[grpc]<2.0.0dev,>=1.14.0->cirq-google==1.0.0->cirq) (4.2.4)\n",
      "Requirement already satisfied: pyasn1-modules>=0.2.1 in c:\\users\\blueshift\\anaconda3\\lib\\site-packages (from google-auth<2.0dev,>=1.25.0->google-api-core[grpc]<2.0.0dev,>=1.14.0->cirq-google==1.0.0->cirq) (0.2.8)\n",
      "Requirement already satisfied: rsa<5,>=3.1.4 in c:\\users\\blueshift\\anaconda3\\lib\\site-packages (from google-auth<2.0dev,>=1.25.0->google-api-core[grpc]<2.0.0dev,>=1.14.0->cirq-google==1.0.0->cirq) (4.8)\n",
      "Collecting iso8601<0.2.0,>=0.1.13\n",
      "  Downloading iso8601-0.1.16-py2.py3-none-any.whl (10 kB)\n",
      "Requirement already satisfied: toml<0.11.0,>=0.10.2 in c:\\users\\blueshift\\anaconda3\\lib\\site-packages (from qcs-api-client<0.21.0,>=0.8.1->pyquil>=3.0.0->cirq-rigetti==1.0.0->cirq) (0.10.2)\n",
      "Requirement already satisfied: pydantic<2.0.0,>=1.7.2 in c:\\users\\blueshift\\anaconda3\\lib\\site-packages (from qcs-api-client<0.21.0,>=0.8.1->pyquil>=3.0.0->cirq-rigetti==1.0.0->cirq) (1.9.1)\n",
      "Collecting retrying<2.0.0,>=1.3.3\n",
      "  Downloading retrying-1.3.3.tar.gz (10 kB)\n",
      "  Preparing metadata (setup.py): started\n",
      "  Preparing metadata (setup.py): finished with status 'done'\n",
      "Collecting pyjwt<2.0.0,>=1.7.1\n",
      "  Downloading PyJWT-1.7.1-py2.py3-none-any.whl (18 kB)\n",
      "Collecting attrs<21.0.0,>=20.1.0\n",
      "  Downloading attrs-20.3.0-py2.py3-none-any.whl (49 kB)\n",
      "     -------------------------------------- 49.3/49.3 kB 501.2 kB/s eta 0:00:00\n",
      "Collecting rfc3339<7.0,>=6.2\n",
      "  Downloading rfc3339-6.2-py3-none-any.whl (5.5 kB)\n",
      "Collecting httpx<0.16.0,>=0.15.0\n",
      "  Downloading httpx-0.15.5-py3-none-any.whl (65 kB)\n",
      "     -------------------------------------- 65.1/65.1 kB 438.8 kB/s eta 0:00:00\n",
      "Requirement already satisfied: decorator>=3.4.2 in c:\\users\\blueshift\\anaconda3\\lib\\site-packages (from retry<0.10.0,>=0.9.2->pyquil>=3.0.0->cirq-rigetti==1.0.0->cirq) (5.1.0)\n",
      "Requirement already satisfied: py<2.0.0,>=1.4.26 in c:\\users\\blueshift\\anaconda3\\lib\\site-packages (from retry<0.10.0,>=0.9.2->pyquil>=3.0.0->cirq-rigetti==1.0.0->cirq) (1.10.0)\n",
      "Collecting msgpack<1.0,>=0.6\n",
      "  Downloading msgpack-0.6.2.tar.gz (119 kB)\n",
      "     ------------------------------------ 119.1/119.1 kB 536.1 kB/s eta 0:00:00\n",
      "  Preparing metadata (setup.py): started\n",
      "  Preparing metadata (setup.py): finished with status 'done'\n",
      "Collecting python-rapidjson\n",
      "  Downloading python_rapidjson-1.8-cp39-cp39-win_amd64.whl (139 kB)\n",
      "     ------------------------------------ 139.9/139.9 kB 518.8 kB/s eta 0:00:00\n",
      "Requirement already satisfied: pyzmq>=17 in c:\\users\\blueshift\\anaconda3\\lib\\site-packages (from rpcq<4.0.0,>=3.6.0->pyquil>=3.0.0->cirq-rigetti==1.0.0->cirq) (22.2.1)\n",
      "Requirement already satisfied: ruamel.yaml in c:\\users\\blueshift\\appdata\\roaming\\python\\python39\\site-packages (from rpcq<4.0.0,>=3.6.0->pyquil>=3.0.0->cirq-rigetti==1.0.0->cirq) (0.17.10)\n",
      "Requirement already satisfied: sniffio in c:\\users\\blueshift\\anaconda3\\lib\\site-packages (from httpx<0.16.0,>=0.15.0->qcs-api-client<0.21.0,>=0.8.1->pyquil>=3.0.0->cirq-rigetti==1.0.0->cirq) (1.2.0)\n",
      "Collecting httpcore==0.11.*\n",
      "  Downloading httpcore-0.11.1-py3-none-any.whl (52 kB)\n",
      "     -------------------------------------- 52.8/52.8 kB 452.4 kB/s eta 0:00:00\n",
      "Collecting rfc3986[idna2008]<2,>=1.3\n",
      "  Downloading rfc3986-1.5.0-py2.py3-none-any.whl (31 kB)\n",
      "Collecting h11<0.10,>=0.8\n",
      "  Downloading h11-0.9.0-py2.py3-none-any.whl (53 kB)\n",
      "     -------------------------------------- 53.6/53.6 kB 346.9 kB/s eta 0:00:00\n",
      "Requirement already satisfied: pyasn1<0.5.0,>=0.4.6 in c:\\users\\blueshift\\anaconda3\\lib\\site-packages (from pyasn1-modules>=0.2.1->google-auth<2.0dev,>=1.25.0->google-api-core[grpc]<2.0.0dev,>=1.14.0->cirq-google==1.0.0->cirq) (0.4.8)\n",
      "Requirement already satisfied: ruamel.yaml.clib>=0.1.2 in c:\\users\\blueshift\\anaconda3\\lib\\site-packages (from ruamel.yaml->rpcq<4.0.0,>=3.6.0->pyquil>=3.0.0->cirq-rigetti==1.0.0->cirq) (0.2.6)\n",
      "Building wheels for collected packages: lark, rpcq, msgpack, retrying\n",
      "  Building wheel for lark (setup.py): started\n",
      "  Building wheel for lark (setup.py): finished with status 'done'\n",
      "  Created wheel for lark: filename=lark-0.11.3-py2.py3-none-any.whl size=99648 sha256=039b6ac17c75347b9beb5c001a5af44cbd36336493edd85ca87ab998ab32d306\n",
      "  Stored in directory: c:\\users\\blueshift\\appdata\\local\\pip\\cache\\wheels\\ec\\6a\\24\\f8eeaf52fee56bfe54309621b59c41bb7f1df56f4bfbcdb0ce\n",
      "  Building wheel for rpcq (setup.py): started\n",
      "  Building wheel for rpcq (setup.py): finished with status 'done'\n",
      "  Created wheel for rpcq: filename=rpcq-3.10.0-py3-none-any.whl size=45971 sha256=78475042321f5b3f6ff058e95f840ec8248ba0ecc9d46bf2455b4054d294902a\n",
      "  Stored in directory: c:\\users\\blueshift\\appdata\\local\\pip\\cache\\wheels\\5b\\75\\2d\\be786ec4ee1db05f675b1cdce6104238823daa7db68b94002a\n",
      "  Building wheel for msgpack (setup.py): started\n",
      "  Building wheel for msgpack (setup.py): finished with status 'done'\n",
      "  Created wheel for msgpack: filename=msgpack-0.6.2-cp39-cp39-win_amd64.whl size=14594 sha256=f34924928f009da31b70a031c51613dd70fa818f4c0926bcf0d36494af2e64be\n",
      "  Stored in directory: c:\\users\\blueshift\\appdata\\local\\pip\\cache\\wheels\\2d\\aa\\9b\\368f5032afaa6628fc86d81ffbc3dc0937a447cec0fe48fc55\n",
      "  Building wheel for retrying (setup.py): started\n",
      "  Building wheel for retrying (setup.py): finished with status 'done'\n",
      "  Created wheel for retrying: filename=retrying-1.3.3-py3-none-any.whl size=11448 sha256=cd9571ae5005cc5f3efe55d4863be92987fbd57c0a468e3ace1f696b0d63a69d\n",
      "  Stored in directory: c:\\users\\blueshift\\appdata\\local\\pip\\cache\\wheels\\ce\\18\\7f\\e9527e3e66db1456194ac7f61eb3211068c409edceecff2d31\n",
      "Successfully built lark rpcq msgpack retrying\n",
      "Installing collected packages: rfc3986, rfc3339, pyjwt, msgpack, lark, iso8601, h11, retrying, retry, python-rapidjson, httpcore, duet, attrs, rpcq, httpx, qcs-api-client, cirq-core, pyquil, cirq-web, cirq-pasqal, cirq-ionq, cirq-aqt, cirq-rigetti, cirq-google, cirq\n",
      "  Attempting uninstall: pyjwt\n",
      "    Found existing installation: PyJWT 2.1.0\n",
      "    Uninstalling PyJWT-2.1.0:\n",
      "      Successfully uninstalled PyJWT-2.1.0\n",
      "  Attempting uninstall: msgpack\n",
      "    Found existing installation: msgpack 1.0.2\n",
      "    Uninstalling msgpack-1.0.2:\n",
      "      Successfully uninstalled msgpack-1.0.2\n",
      "  Attempting uninstall: h11\n",
      "    Found existing installation: h11 0.13.0\n",
      "    Uninstalling h11-0.13.0:\n",
      "      Successfully uninstalled h11-0.13.0\n",
      "  Attempting uninstall: attrs\n",
      "    Found existing installation: attrs 21.2.0\n",
      "    Uninstalling attrs-21.2.0:\n",
      "      Successfully uninstalled attrs-21.2.0\n",
      "Successfully installed attrs-20.3.0 cirq-1.0.0 cirq-aqt-1.0.0 cirq-core-1.0.0 cirq-google-1.0.0 cirq-ionq-1.0.0 cirq-pasqal-1.0.0 cirq-rigetti-1.0.0 cirq-web-1.0.0 duet-0.2.7 h11-0.9.0 httpcore-0.11.1 httpx-0.15.5 iso8601-0.1.16 lark-0.11.3 msgpack-0.6.2 pyjwt-1.7.1 pyquil-3.1.0 python-rapidjson-1.8 qcs-api-client-0.20.17 retry-0.9.2 retrying-1.3.3 rfc3339-6.2 rfc3986-1.5.0 rpcq-3.10.0\n"
     ]
    }
   ],
   "source": [
    "!pip install cirq"
   ]
  },
  {
   "cell_type": "markdown",
   "metadata": {},
   "source": [
    "__*Restart the kernel*__ (check \"Kernel\" menu) to apply the changes to the current notebook."
   ]
  },
  {
   "cell_type": "markdown",
   "metadata": {},
   "source": [
    "<hr id=\"check\">\n",
    "\n",
    "## Check Cirq installation\n",
    "\n"
   ]
  },
  {
   "cell_type": "code",
   "execution_count": 1,
   "metadata": {},
   "outputs": [
    {
     "ename": "AttributeError",
     "evalue": "module 'cirq' has no attribute 'google'",
     "output_type": "error",
     "traceback": [
      "\u001b[1;31m---------------------------------------------------------------------------\u001b[0m",
      "\u001b[1;31mAttributeError\u001b[0m                            Traceback (most recent call last)",
      "\u001b[1;32mC:\\Users\\BLUESH~1\\AppData\\Local\\Temp/ipykernel_9072/3009575250.py\u001b[0m in \u001b[0;36m<module>\u001b[1;34m\u001b[0m\n\u001b[0;32m      1\u001b[0m \u001b[1;32mimport\u001b[0m \u001b[0mcirq\u001b[0m\u001b[1;33m\u001b[0m\u001b[1;33m\u001b[0m\u001b[0m\n\u001b[0;32m      2\u001b[0m \u001b[1;33m\u001b[0m\u001b[0m\n\u001b[1;32m----> 3\u001b[1;33m \u001b[0mprint\u001b[0m\u001b[1;33m(\u001b[0m\u001b[0mcirq\u001b[0m\u001b[1;33m.\u001b[0m\u001b[0mgoogle\u001b[0m\u001b[1;33m.\u001b[0m\u001b[0mFoxtail\u001b[0m\u001b[1;33m)\u001b[0m\u001b[1;33m\u001b[0m\u001b[1;33m\u001b[0m\u001b[0m\n\u001b[0m\u001b[0;32m      4\u001b[0m \u001b[1;31m# should print:\u001b[0m\u001b[1;33m\u001b[0m\u001b[1;33m\u001b[0m\u001b[0m\n\u001b[0;32m      5\u001b[0m \u001b[1;31m# (0, 0)───(0, 1)───(0, 2)───(0, 3)───(0, 4)───(0, 5)───(0, 6)───(0, 7)───(0, 8)───(0, 9)───(0, 10)\u001b[0m\u001b[1;33m\u001b[0m\u001b[1;33m\u001b[0m\u001b[0m\n",
      "\u001b[1;31mAttributeError\u001b[0m: module 'cirq' has no attribute 'google'"
     ]
    }
   ],
   "source": [
    "import cirq\n",
    "\n",
    "print(cirq.google.Foxtail)\n",
    "# should print:\n",
    "# (0, 0)───(0, 1)───(0, 2)───(0, 3)───(0, 4)───(0, 5)───(0, 6)───(0, 7)───(0, 8)───(0, 9)───(0, 10)\n",
    "# │        │        │        │        │        │        │        │        │        │        │\n",
    "# │        │        │        │        │        │        │        │        │        │        │\n",
    "# (1, 0)───(1, 1)───(1, 2)───(1, 3)───(1, 4)───(1, 5)───(1, 6)───(1, 7)───(1, 8)───(1, 9)───(1, 10)"
   ]
  },
  {
   "cell_type": "markdown",
   "metadata": {},
   "source": [
    "<hr id=\"example\">\n",
    "\n",
    "## Execute An Example Program\n"
   ]
  },
  {
   "cell_type": "markdown",
   "metadata": {},
   "source": [
    "1) Create a quantum circuit"
   ]
  },
  {
   "cell_type": "code",
   "execution_count": null,
   "metadata": {},
   "outputs": [],
   "source": [
    "import cirq\n",
    "\n",
    "# Pick a qubit.\n",
    "qubit = cirq.GridQubit(0, 0)\n",
    "\n",
    "# Create a circuit\n",
    "circuit = cirq.Circuit(\n",
    "    cirq.X(qubit)**0.5,  # Square root of NOT.\n",
    "    cirq.measure(qubit, key='m')  # Measurement.\n",
    ")"
   ]
  },
  {
   "cell_type": "markdown",
   "metadata": {},
   "source": [
    "2) Draw the circuit\n",
    "\n",
    "_Run the cell once more if the figure is not shown_"
   ]
  },
  {
   "cell_type": "code",
   "execution_count": 6,
   "metadata": {
    "scrolled": true
   },
   "outputs": [
    {
     "name": "stdout",
     "output_type": "stream",
     "text": [
      "Circuit:\n",
      "(0, 0): ───X^0.5───M('m')───\n"
     ]
    }
   ],
   "source": [
    "print(\"Circuit:\")\n",
    "print(circuit)"
   ]
  },
  {
   "cell_type": "markdown",
   "metadata": {},
   "source": [
    "3) Execute the circuit 20 times in the local simulator and print the observed the outcomes"
   ]
  },
  {
   "cell_type": "code",
   "execution_count": 8,
   "metadata": {
    "scrolled": true
   },
   "outputs": [
    {
     "name": "stdout",
     "output_type": "stream",
     "text": [
      "Results:\n",
      "m=00000011111111111010\n"
     ]
    }
   ],
   "source": [
    "# Simulate the circuit several times.\n",
    "simulator = cirq.Simulator()\n",
    "result = simulator.run(circuit, repetitions=20)\n",
    "print(\"Results:\")\n",
    "print(result)"
   ]
  },
  {
   "cell_type": "markdown",
   "metadata": {},
   "source": [
    "4) Print a histogram of results"
   ]
  },
  {
   "cell_type": "code",
   "execution_count": 11,
   "metadata": {},
   "outputs": [
    {
     "name": "stdout",
     "output_type": "stream",
     "text": [
      "Counter({1: 12, 0: 8})\n"
     ]
    }
   ],
   "source": [
    "# Print a histogram of results\n",
    "results = result.histogram(key='m')\n",
    "print(results)"
   ]
  },
  {
   "cell_type": "markdown",
   "metadata": {},
   "source": [
    "Reference: https://pypi.org/project/cirq/"
   ]
  }
 ],
 "metadata": {
  "kernelspec": {
   "display_name": "Python 3 (ipykernel)",
   "language": "python",
   "name": "python3"
  },
  "language_info": {
   "codemirror_mode": {
    "name": "ipython",
    "version": 3
   },
   "file_extension": ".py",
   "mimetype": "text/x-python",
   "name": "python",
   "nbconvert_exporter": "python",
   "pygments_lexer": "ipython3",
   "version": "3.9.7"
  }
 },
 "nbformat": 4,
 "nbformat_minor": 2
}
