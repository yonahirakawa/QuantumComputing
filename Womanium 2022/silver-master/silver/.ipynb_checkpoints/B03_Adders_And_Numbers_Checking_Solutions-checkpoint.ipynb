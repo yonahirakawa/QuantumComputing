{
 "cells": [
  {
   "cell_type": "markdown",
   "metadata": {},
   "source": [
    "<table  align=\"left\" width=\"100%\"> <tr>\n",
    "        <td  style=\"background-color:#ffffff;\"><a href=\"https://qsoftware.lu.lv/index.php/qworld/\" target=\"_blank\"><img src=\"..\\images\\qworld.jpg\" width=\"35%\" align=\"left\"></a></td>\n",
    "        <td  align=\"right\" style=\"background-color:#ffffff;vertical-align:bottom;horizontal-align:right\">\n",
    "            prepared by <a href=\"https://iitis.pl/pl/person/aglos\" target=\"_blank\"  >Adam Glos</a> and Özlem Salehi\n",
    "        </td>        \n",
    "</tr></table>"
   ]
  },
  {
   "cell_type": "markdown",
   "metadata": {},
   "source": [
    "<table width=\"100%\"><tr><td style=\"color:#bbbbbb;background-color:#ffffff;font-size:11px;font-style:italic;text-align:right;\">This cell contains some macros. If there is a problem with displaying mathematical formulas, please run this cell to load these macros. </td></tr></table>\n",
    "$ \\newcommand{\\bra}[1]{\\langle #1|} $\n",
    "$ \\newcommand{\\ket}[1]{|#1\\rangle} $\n",
    "$ \\newcommand{\\braket}[2]{\\langle #1|#2\\rangle} $\n",
    "$ \\newcommand{\\dot}[2]{ #1 \\cdot #2} $\n",
    "$ \\newcommand{\\biginner}[2]{\\left\\langle #1,#2\\right\\rangle} $\n",
    "$ \\newcommand{\\mymatrix}[2]{\\left( \\begin{array}{#1} #2\\end{array} \\right)} $\n",
    "$ \\newcommand{\\myvector}[1]{\\mymatrix{c}{#1}} $\n",
    "$ \\newcommand{\\myrvector}[1]{\\mymatrix{r}{#1}} $\n",
    "$ \\newcommand{\\mypar}[1]{\\left( #1 \\right)} $\n",
    "$ \\newcommand{\\mybigpar}[1]{ \\Big( #1 \\Big)} $\n",
    "$ \\newcommand{\\sqrttwo}{\\frac{1}{\\sqrt{2}}} $\n",
    "$ \\newcommand{\\dsqrttwo}{\\dfrac{1}{\\sqrt{2}}} $\n",
    "$ \\newcommand{\\onehalf}{\\frac{1}{2}} $\n",
    "$ \\newcommand{\\donehalf}{\\dfrac{1}{2}} $\n",
    "$ \\newcommand{\\hadamard}{ \\mymatrix{rr}{ \\sqrttwo & \\sqrttwo \\\\ \\sqrttwo & -\\sqrttwo }} $\n",
    "$ \\newcommand{\\vzero}{\\myvector{1\\\\0}} $\n",
    "$ \\newcommand{\\vone}{\\myvector{0\\\\1}} $\n",
    "$ \\newcommand{\\vhadamardzero}{\\myvector{ \\sqrttwo \\\\  \\sqrttwo } } $\n",
    "$ \\newcommand{\\vhadamardone}{ \\myrvector{ \\sqrttwo \\\\ -\\sqrttwo } } $\n",
    "$ \\newcommand{\\myarray}[2]{ \\begin{array}{#1}#2\\end{array}} $\n",
    "$ \\newcommand{\\X}{ \\mymatrix{cc}{0 & 1 \\\\ 1 & 0}  } $\n",
    "$ \\newcommand{\\Z}{ \\mymatrix{rr}{1 & 0 \\\\ 0 & -1}  } $\n",
    "$ \\newcommand{\\Htwo}{ \\mymatrix{rrrr}{ \\frac{1}{2} & \\frac{1}{2} & \\frac{1}{2} & \\frac{1}{2} \\\\ \\frac{1}{2} & -\\frac{1}{2} & \\frac{1}{2} & -\\frac{1}{2} \\\\ \\frac{1}{2} & \\frac{1}{2} & -\\frac{1}{2} & -\\frac{1}{2} \\\\ \\frac{1}{2} & -\\frac{1}{2} & -\\frac{1}{2} & \\frac{1}{2} } } $\n",
    "$ \\newcommand{\\CNOT}{ \\mymatrix{cccc}{1 & 0 & 0 & 0 \\\\ 0 & 1 & 0 & 0 \\\\ 0 & 0 & 0 & 1 \\\\ 0 & 0 & 1 & 0} } $\n",
    "$ \\newcommand{\\norm}[1]{ \\left\\lVert #1 \\right\\rVert } $\n",
    "$ \\newcommand{\\pstate}[1]{ \\lceil \\mspace{-1mu} #1 \\mspace{-1.5mu} \\rfloor } $"
   ]
  },
  {
   "cell_type": "markdown",
   "metadata": {},
   "source": [
    "# <font color=\"blue\"> Solutions for </font> Adders and number checking"
   ]
  },
  {
   "cell_type": "markdown",
   "metadata": {},
   "source": [
    "<a id=\"task1\"> </a>\n",
    "### Task 1 \n",
    "Implement the above half-adder and verify that indeed it generates correct outputs for any input. "
   ]
  },
  {
   "cell_type": "markdown",
   "metadata": {},
   "source": [
    "<h3> Solution </h3>"
   ]
  },
  {
   "cell_type": "code",
   "execution_count": null,
   "metadata": {},
   "outputs": [],
   "source": [
    "import cirq\n",
    "from cirq import X, CX\n",
    "s = cirq.Simulator()\n",
    "\n",
    "\n",
    "for input in ['00','01','10','11']:\n",
    "    qq = cirq.LineQubit.range(4)\n",
    "    circuit = cirq.Circuit()\n",
    "\n",
    "    # Initialize the input\n",
    "    if input[0] == '1':\n",
    "        circuit.append(X(qq[0]))\n",
    "    if input[1] == '1':\n",
    "        circuit.append(X(qq[1]))\n",
    "\n",
    "    circuit.append(X(qq[2]).controlled_by(qq[0], qq[1]))\n",
    "    circuit.append(CX(qq[0], qq[3]))\n",
    "    circuit.append(CX(qq[1], qq[3]))  \n",
    "\n",
    "    circuit.append(cirq.measure(*qq, key='result'))\n",
    "\n",
    "    samples = s.run(circuit, repetitions=1)\n",
    "    result = samples.measurements[\"result\"]\n",
    "    print(\"measurement output:\", result)\n",
    "    print(\"added bits:\", input[0] , \"and\", input[1])\n",
    "    print(\"sum:\", result[0][3])\n",
    "    print(\"Cout:\", result[0][2])\n",
    "    print()"
   ]
  },
  {
   "cell_type": "markdown",
   "metadata": {},
   "source": [
    "<a id=\"task2\"></a>\n",
    "### Task 2 \n",
    "\n",
    "Add the first three bits stored in qubits 0-2 and store the sum on qubits 3-4."
   ]
  },
  {
   "cell_type": "markdown",
   "metadata": {},
   "source": [
    "<h3> Solution </h3>"
   ]
  },
  {
   "cell_type": "code",
   "execution_count": null,
   "metadata": {},
   "outputs": [],
   "source": [
    "import cirq\n",
    "from cirq import X, CX, CCX\n",
    "s = cirq.Simulator()\n",
    "\n",
    "for input in  ['000','001','010','011','100','101','110','111']:\n",
    "    qq = cirq.LineQubit.range(8)\n",
    "    circuit = cirq.Circuit()\n",
    "\n",
    "    if input[0] == '1':\n",
    "        circuit.append(X(qq[0]))\n",
    "    if input[1] == '1':\n",
    "        circuit.append(X(qq[1]))\n",
    "    if input[2] == '1':\n",
    "        circuit.append(X(qq[2]))\n",
    "\n",
    "    # add qubit 0\n",
    "    circuit.append(CCX(qq[0], qq[3], qq[4]))\n",
    "    circuit.append(CX(qq[0], qq[3]))\n",
    "\n",
    "    # add qubit 1\n",
    "    circuit.append(CCX(qq[1], qq[3], qq[4]))\n",
    "    circuit.append(CX(qq[1], qq[3]))\n",
    "\n",
    "    # add qubit 2\n",
    "    circuit.append(CCX(qq[2], qq[3], qq[4]))\n",
    "    circuit.append(CX(qq[2], qq[3]))\n",
    "\n",
    "    circuit.append(cirq.measure(*qq, key='result'))\n",
    "\n",
    "    samples = s.run(circuit, repetitions=1)\n",
    "    result = samples.measurements[\"result\"]\n",
    "    # print the sum\n",
    "    print(\"Input:\", input)\n",
    "    print(\"The sum should be equal to\", int(input[0])+int(input[1])+int(input[2]))\n",
    "    print(\"According to quantum circuit:\", 2*result[0][4]+result[0][3])\n",
    "    print(\"\")\n"
   ]
  },
  {
   "cell_type": "markdown",
   "metadata": {},
   "source": [
    "<a id=\"task3\"></a>\n",
    "### Task 3\n",
    "\n",
    "By using the given idea, add the values of seven bits, namely $ q_0,\\ldots,q_6 $, and write the results on the qubits $ q_7,q_8, q_9 $.\n",
    "\n",
    "*Note:*  You may use for-loops instead of adding each qubit one by one."
   ]
  },
  {
   "cell_type": "markdown",
   "metadata": {},
   "source": [
    "<h3> Solution </h3>"
   ]
  },
  {
   "cell_type": "code",
   "execution_count": null,
   "metadata": {},
   "outputs": [],
   "source": [
    "# Generate the inputs\n",
    "input_list = [bin(i)[2:].zfill(7) for i in range(0,2**7)]"
   ]
  },
  {
   "cell_type": "code",
   "execution_count": null,
   "metadata": {},
   "outputs": [],
   "source": [
    "import cirq\n",
    "from itertools import product\n",
    "from cirq import X, CX, CCX\n",
    "s = cirq.Simulator()\n",
    "n = 7\n",
    "\n",
    "for input in input_list:\n",
    "    qq = cirq.LineQubit.range(10)\n",
    "    circuit = cirq.Circuit()\n",
    "\n",
    "    #We can do the initialization inside a for loop\n",
    "    for i in range(7):\n",
    "        if input[i]=='1':\n",
    "            circuit.append(X(qq[i]))\n",
    "    \n",
    "    #add qubit 0\n",
    "    circuit.append(CX(qq[0], qq[n]))\n",
    "    \n",
    "    # add qubit 1\n",
    "    circuit.append(CCX(qq[1], qq[n], qq[n+1]))\n",
    "    circuit.append(CX(qq[1], qq[n]))\n",
    "    \n",
    "    # add qubit 2\n",
    "    circuit.append(CCX(qq[2], qq[n], qq[n+1]))\n",
    "    circuit.append(CX(qq[2], qq[n]))\n",
    "    \n",
    "    # add qubit 3\n",
    "    circuit.append(X(qq[n+2]).controlled_by(qq[3], qq[n],qq[n+1]))\n",
    "    circuit.append(CCX(qq[3], qq[n], qq[n+1]))\n",
    "    circuit.append(CX(qq[3], qq[n]))\n",
    "    \n",
    "    # add qubit 4\n",
    "    circuit.append(X(qq[n+2]).controlled_by(qq[4], qq[n],qq[n+1]))\n",
    "    circuit.append(CCX(qq[4], qq[n], qq[n+1]))\n",
    "    circuit.append(CX(qq[4], qq[n]))\n",
    "    \n",
    "    # add qubit 5\n",
    "    circuit.append(X(qq[n+2]).controlled_by(qq[5], qq[n],qq[n+1]))\n",
    "    circuit.append(CCX(qq[5], qq[n], qq[n+1]))\n",
    "    circuit.append(CX(qq[5], qq[n]))\n",
    "    \n",
    "    # add qubit 6\n",
    "    circuit.append(X(qq[n+2]).controlled_by(qq[6], qq[n],qq[n+1]))\n",
    "    circuit.append(CCX(qq[6], qq[n], qq[n+1]))\n",
    "    circuit.append(CX(qq[6], qq[n]))\n",
    "    \n",
    "    circuit.append(cirq.measure(*qq, key='result'))\n",
    "\n",
    "    samples = s.run(circuit, repetitions=1)\n",
    "    result = samples.measurements[\"result\"]\n",
    "    # print the sum\n",
    "    print(input)\n",
    "    print(\"The sum should equal to\", sum(int(i) for i in input))\n",
    "    print(\"According to quantum circuit:\", result[0][n]+2*result[0][n+1]+4*result[0][n+2])\n",
    "    print(\"\")"
   ]
  },
  {
   "cell_type": "markdown",
   "metadata": {},
   "source": [
    "We can use for loops instead of performing each addition seperately."
   ]
  },
  {
   "cell_type": "code",
   "execution_count": null,
   "metadata": {},
   "outputs": [],
   "source": [
    "import cirq\n",
    "from itertools import product\n",
    "from cirq import X, CX, CCX\n",
    "s = cirq.Simulator()\n",
    "n = 7\n",
    "\n",
    "for input in input_list:\n",
    "    qq = cirq.LineQubit.range(10)\n",
    "    circuit = cirq.Circuit()\n",
    "\n",
    "    #We can do the initialization inside a for loop\n",
    "    for i in range(7):\n",
    "        if input[i]=='1':\n",
    "            circuit.append(X(qq[i]))\n",
    "            \n",
    "    # add qubit 0        \n",
    "    circuit.append(CX(qq[0], qq[n]))\n",
    "    \n",
    "    # add qubits 1-2\n",
    "    for j in range(1,3):\n",
    "        circuit.append(CCX(qq[j], qq[n], qq[n+1]))\n",
    "        circuit.append(CX(qq[j], qq[n]))\n",
    "    \n",
    "    # add qubits 3-6\n",
    "    for j in range(3,7):\n",
    "        circuit.append(X(qq[n+2]).controlled_by(qq[j], qq[n],qq[n+1]))\n",
    "        circuit.append(CCX(qq[j], qq[n], qq[n+1]))\n",
    "        circuit.append(CX(qq[j], qq[n]))\n",
    "\n",
    "    circuit.append(cirq.measure(*qq, key='result'))\n",
    "\n",
    "    samples = s.run(circuit, repetitions=1)\n",
    "    result = samples.measurements[\"result\"]\n",
    "    # print the sum\n",
    "    print(input)\n",
    "    print(\"The sum should equal to\", sum(int(i) for i in input))\n",
    "    print(\"According to quantum circuit:\", result[0][n]+2*result[0][n+1]+4*result[0][n+2])\n",
    "    print(\"\")"
   ]
  },
  {
   "cell_type": "markdown",
   "metadata": {},
   "source": [
    "<a id=\"task4\"></a>\n",
    "### Task 4\n",
    "Implement the algorithm that checks whether the first two qubits store the binary representation of number 5. Store the output on qubit 3."
   ]
  },
  {
   "cell_type": "markdown",
   "metadata": {},
   "source": [
    "<h3> Solution </h3>"
   ]
  },
  {
   "cell_type": "code",
   "execution_count": null,
   "metadata": {},
   "outputs": [],
   "source": [
    "import cirq\n",
    "from cirq import X, I\n",
    "s = cirq.Simulator()\n",
    "\n",
    "qq = cirq.LineQubit.range(4)\n",
    "circuit = cirq.Circuit()\n",
    "\n",
    "# set qubits to 5\n",
    "circuit.append(X(qq[0]))\n",
    "circuit.append(I(qq[1]))\n",
    "circuit.append(X(qq[2]))\n",
    "\n",
    "# sanity check: set qubits to 3\n",
    "# circuit.append(X(qq[0]))\n",
    "# circuit.append(X(qq[1]))\n",
    "# circuit.append(I(qq[2]))\n",
    "\n",
    "circuit.append(X(qq[1]))\n",
    "circuit.append(X(qq[3]).controlled_by(*qq[0:3]))\n",
    "circuit.append(X(qq[1]))\n",
    "\n",
    "circuit.append(cirq.measure(*qq, key='result'))\n",
    "\n",
    "samples = s.run(circuit, repetitions=1)\n",
    "result = samples.measurements[\"result\"]\n",
    "if result[0][3] == 1:\n",
    "    print(\"The number equals 5\")\n",
    "    if result[0][0] == 1 and result[0][1] == 0 and result[0][2] == 1:\n",
    "        print(\"You haven't forget to recover the qubits: Congratulations!\")\n",
    "    else:\n",
    "        print(\"Some of qubits have not been recoverd.\")\n",
    "else:\n",
    "    print(\"The number does not equal 5\")\n",
    "\n",
    "print(circuit)"
   ]
  },
  {
   "cell_type": "markdown",
   "metadata": {},
   "source": [
    "<a id=\"task5\"></a>\n",
    "\n",
    "### Task 5\n",
    "Design a circuit that checks whether the first three qubits store either 4 or 5 in binary. \n",
    "\n",
    "*Hint:* Note that $4=100_2$ and $5=101_2$, hence the $\\ket{q_2}$ has to be set to $\\ket{1}$, and $\\ket{q_1}$ to $\\ket{0}_2$, while $\\ket{q_0}$ can be arbitrary.\n",
    "\n",
    "*Hint:* Don't forget to recover the original state of the qubit by applying $X$ gate!"
   ]
  },
  {
   "cell_type": "markdown",
   "metadata": {},
   "source": [
    "<h3> Solution </h3>"
   ]
  },
  {
   "cell_type": "code",
   "execution_count": 3,
   "metadata": {},
   "outputs": [
    {
     "name": "stdout",
     "output_type": "stream",
     "text": [
      "Number measured: 4\n",
      "It is 4 or 5\n"
     ]
    }
   ],
   "source": [
    "import cirq\n",
    "from cirq import X, H\n",
    "s = cirq.Simulator()\n",
    "\n",
    "qq = cirq.LineQubit.range(4)\n",
    "circuit = cirq.Circuit()\n",
    "circuit.append(H.on_each(*(qq[0:3])))\n",
    "\n",
    "circuit.append(X(qq[1]))\n",
    "circuit.append(X(qq[3]).controlled_by(qq[1], qq[2]))\n",
    "circuit.append(X(qq[1]))\n",
    "\n",
    "circuit.append(cirq.measure(*qq, key='result'))\n",
    "samples = s.run(circuit, repetitions=1)\n",
    "result = samples.measurements[\"result\"]\n",
    "number_measured = result[0][0] + 2*result[0][1] + 4*result[0][2]\n",
    "print(\"Number measured:\", number_measured)\n",
    "if result[0][3] == 1:\n",
    "    print(\"It is 4 or 5\")\n",
    "else:\n",
    "    print(\"It is neither 4 nor 5\")"
   ]
  },
  {
   "cell_type": "code",
   "execution_count": null,
   "metadata": {},
   "outputs": [],
   "source": []
  }
 ],
 "metadata": {
  "kernelspec": {
   "display_name": "Python 3",
   "language": "python",
   "name": "python3"
  },
  "language_info": {
   "codemirror_mode": {
    "name": "ipython",
    "version": 3
   },
   "file_extension": ".py",
   "mimetype": "text/x-python",
   "name": "python",
   "nbconvert_exporter": "python",
   "pygments_lexer": "ipython3",
   "version": "3.7.3"
  }
 },
 "nbformat": 4,
 "nbformat_minor": 4
}
