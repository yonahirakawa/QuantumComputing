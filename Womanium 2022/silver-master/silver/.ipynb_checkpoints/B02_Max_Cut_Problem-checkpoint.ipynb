{
 "cells": [
  {
   "cell_type": "markdown",
   "metadata": {},
   "source": [
    "<table  align=\"left\" width=\"100%\"> <tr>\n",
    "        <td  style=\"background-color:#ffffff;\"><a href=\"https://qsoftware.lu.lv/index.php/qworld/\" target=\"_blank\"><img src=\"..\\images\\qworld.jpg\" width=\"35%\" align=\"left\"></a></td>\n",
    "        <td  align=\"right\" style=\"background-color:#ffffff;vertical-align:bottom;horizontal-align:right\">\n",
    "            prepared by <a href=\"https://iitis.pl/pl/person/aglos\" target=\"_blank\"  >Adam Glos</a>\n",
    "        </td>        \n",
    "</tr></table>"
   ]
  },
  {
   "cell_type": "markdown",
   "metadata": {},
   "source": [
    "<table width=\"100%\"><tr><td style=\"color:#bbbbbb;background-color:#ffffff;font-size:11px;font-style:italic;text-align:right;\">This cell contains some macros. If there is a problem with displaying mathematical formulas, please run this cell to load these macros. </td></tr></table>\n",
    "$ \\newcommand{\\bra}[1]{\\langle #1|} $\n",
    "$ \\newcommand{\\ket}[1]{|#1\\rangle} $\n",
    "$ \\newcommand{\\braket}[2]{\\langle #1|#2\\rangle} $\n",
    "$ \\newcommand{\\dot}[2]{ #1 \\cdot #2} $\n",
    "$ \\newcommand{\\biginner}[2]{\\left\\langle #1,#2\\right\\rangle} $\n",
    "$ \\newcommand{\\mymatrix}[2]{\\left( \\begin{array}{#1} #2\\end{array} \\right)} $\n",
    "$ \\newcommand{\\myvector}[1]{\\mymatrix{c}{#1}} $\n",
    "$ \\newcommand{\\myrvector}[1]{\\mymatrix{r}{#1}} $\n",
    "$ \\newcommand{\\mypar}[1]{\\left( #1 \\right)} $\n",
    "$ \\newcommand{\\mybigpar}[1]{ \\Big( #1 \\Big)} $\n",
    "$ \\newcommand{\\sqrttwo}{\\frac{1}{\\sqrt{2}}} $\n",
    "$ \\newcommand{\\dsqrttwo}{\\dfrac{1}{\\sqrt{2}}} $\n",
    "$ \\newcommand{\\onehalf}{\\frac{1}{2}} $\n",
    "$ \\newcommand{\\donehalf}{\\dfrac{1}{2}} $\n",
    "$ \\newcommand{\\hadamard}{ \\mymatrix{rr}{ \\sqrttwo & \\sqrttwo \\\\ \\sqrttwo & -\\sqrttwo }} $\n",
    "$ \\newcommand{\\vzero}{\\myvector{1\\\\0}} $\n",
    "$ \\newcommand{\\vone}{\\myvector{0\\\\1}} $\n",
    "$ \\newcommand{\\vhadamardzero}{\\myvector{ \\sqrttwo \\\\  \\sqrttwo } } $\n",
    "$ \\newcommand{\\vhadamardone}{ \\myrvector{ \\sqrttwo \\\\ -\\sqrttwo } } $\n",
    "$ \\newcommand{\\myarray}[2]{ \\begin{array}{#1}#2\\end{array}} $\n",
    "$ \\newcommand{\\X}{ \\mymatrix{cc}{0 & 1 \\\\ 1 & 0}  } $\n",
    "$ \\newcommand{\\Z}{ \\mymatrix{rr}{1 & 0 \\\\ 0 & -1}  } $\n",
    "$ \\newcommand{\\Htwo}{ \\mymatrix{rrrr}{ \\frac{1}{2} & \\frac{1}{2} & \\frac{1}{2} & \\frac{1}{2} \\\\ \\frac{1}{2} & -\\frac{1}{2} & \\frac{1}{2} & -\\frac{1}{2} \\\\ \\frac{1}{2} & \\frac{1}{2} & -\\frac{1}{2} & -\\frac{1}{2} \\\\ \\frac{1}{2} & -\\frac{1}{2} & -\\frac{1}{2} & \\frac{1}{2} } } $\n",
    "$ \\newcommand{\\CNOT}{ \\mymatrix{cccc}{1 & 0 & 0 & 0 \\\\ 0 & 1 & 0 & 0 \\\\ 0 & 0 & 0 & 1 \\\\ 0 & 0 & 1 & 0} } $\n",
    "$ \\newcommand{\\norm}[1]{ \\left\\lVert #1 \\right\\rVert } $\n",
    "$ \\newcommand{\\pstate}[1]{ \\lceil \\mspace{-1mu} #1 \\mspace{-1.5mu} \\rfloor } $"
   ]
  },
  {
   "cell_type": "markdown",
   "metadata": {},
   "source": [
    "# Max-Cut Problem"
   ]
  },
  {
   "cell_type": "markdown",
   "metadata": {},
   "source": [
    "Let us consider the following graph.\n",
    "\n",
    "<img src=\"../images/graphnocolor.png\" width=\"25%\" align=\"center\">\n",
    "\n",
    "The graph has five edges in total. We will color each vertex with either blue or red, and count the number of edges that connect vertices with different colors. In the following example, there are two edges connecting vertices that are colored using different colors (blue and red).\n",
    "\n",
    "<img src=\"../images/graphcolor2.png\" width=\"25%\" align=\"center\">\n",
    "\n",
    "On the other hand, in the following example, there are four edges connecting the vertices colored using different colors, which is indeed the maximum for a graph with four vertices.\n",
    "\n",
    "<img src=\"../images/graphcolor1.png\" width=\"25%\" align=\"center\">"
   ]
  },
  {
   "cell_type": "markdown",
   "metadata": {},
   "source": [
    "## Definition ##\n",
    "\n",
    "The problem of finding the maximum number of edges so that their endpoints are colored using different colors is known as the **Max-Cut problem**. Alternatively, the aim is to partition the vertices of the graph into two disjoint sets (which is called a cut) such that the number of edges between the two sets is maximal. The size of the cut is defined as the number of edges between two sets. \n",
    "\n",
    "We will focus on the decision version of this problem which is defined as follows:\n",
    "\n",
    "For a given graph $G$, the problem is to determine whether there exists a cut of size at least $k$. \n",
    "\n",
    "It turns out that this problem is challenging (in fact it is **NP**-complete). There are $2^n$ possible coloring, and so a trivial (brute force) search checks each of these cases in the worst case. Here we show that we can solve this problem faster by using Grover's Search algorithm, approximately by making $\\pi\\sqrt{2^n}/4 \\approx 0.8 \\times 1.414^n$ oracle queries."
   ]
  },
  {
   "cell_type": "markdown",
   "metadata": {},
   "source": [
    "## A simple case: Bipartite graphs\n",
    "\n",
    "A graph is bipartite if the set of vertices can be divided into two disjoint sets such that each edge connects a vertex from the first set with a vertex from the second set. An example is presented below:\n",
    "\n",
    "<img src=\"../images/bipartite.png\" width=\"25%\" align=\"center\">\n",
    "\n",
    "We see that vertex 0 and 1 (or 2 and 3) could form such a set. An example of a graph which is not bipartite is given below.\n",
    "\n",
    "<img src=\"../images/nonbipartite.png\" width=\"25%\" align=\"center\">\n",
    "\n",
    "We first focus on bipartite graphs before moving on to the general case.\n",
    "\n",
    "Bipartite graphs have unique properties such that they admit a 2-coloring, a coloring using two colors in which the endpoints of all the edges are colored with different colors. Hence, for bipartite graphs solution to the Max-Cut problem is simply the total number of edges. "
   ]
  },
  {
   "cell_type": "markdown",
   "metadata": {},
   "source": [
    "## Checking bipartiteness\n",
    "\n",
    "We will check whether a graph is bipartite or not by finding a 2-coloring in which the endpoints of all the edges are colored with different colors.\n",
    "\n",
    "We will use the following idea to represent coloring of a graph in a quantum circuit. For a graph with $n$ vertices, we will use $n$ qubits. The $i$'th qubit will encode the color of $i$'th vertex as follows: state $\\ket{0}$ means the vertex has red color, and state $\\ket{1}$ means it has blue color."
   ]
  },
  {
   "cell_type": "markdown",
   "metadata": {},
   "source": [
    "### Task 1\n",
    "    \n",
    "Let's implement the idea given above. We have a graph with 4 vertices, and so we have a circuit with 4 qubits. \n",
    "\n",
    "Represent the following coloring of the given graph in the quantum circuit.\n",
    "\n",
    "<img src=\"../images/graphcolor1.png\" width=\"25%\" align=\"center\">"
   ]
  },
  {
   "cell_type": "code",
   "execution_count": null,
   "metadata": {},
   "outputs": [],
   "source": [
    "import cirq\n",
    "from cirq import X, I\n",
    "\n",
    "qq = cirq.LineQubit.range(4)\n",
    "circuit = cirq.Circuit()\n",
    "\n",
    "#\n",
    "# your solution\n",
    "#\n",
    "\n",
    "circuit.append(cirq.measure(*qq, key='result'))\n",
    "print(circuit)\n",
    "\n",
    "s = cirq.Simulator()\n",
    "samples = s.run(circuit, repetitions=1)\n",
    "result = samples.measurements[\"result\"]\n",
    "print(result)\n",
    "\n",
    "# decode the solution\n",
    "for qubit in range(4):\n",
    "    if result[0][qubit] == 0:\n",
    "        print(\"Qubit\",qubit, \"is red\")\n",
    "    else:\n",
    "        print(\"Qubit\",qubit, \"is blue\")"
   ]
  },
  {
   "cell_type": "markdown",
   "metadata": {},
   "source": [
    "[click for our solution](B02_Max_Cut_Problem_Solutions.ipynb#task1)"
   ]
  },
  {
   "cell_type": "markdown",
   "metadata": {},
   "source": [
    "## Edge checking \n",
    "\n",
    "Next, we will implement a protocol which checks whether an edge has endpoints with different colors. For each edge, we will use a separate qubit, on which we will store a Boolean value: $\\ket{1}$ if edge connects vertices with different colors, and $\\ket{0}$, otherwise.\n",
    "\n",
    "We use the XOR function $\\oplus$:\n",
    "$$\n",
    "x \\oplus y = \\begin{cases}\n",
    "1, & x \\neq y \\\\\n",
    "0, & x = y \\\\\n",
    "\\end{cases}\n",
    "$$\n",
    "where $x$ and $y$ are the colors of vertices and the result is the Boolean value of the edge connecting them.\n",
    "\n",
    "We can easily implement $x \\oplus y=z$ by using two $CNOT$ gates as given below.\n"
   ]
  },
  {
   "cell_type": "code",
   "execution_count": null,
   "metadata": {},
   "outputs": [],
   "source": [
    "import cirq\n",
    "from cirq import X, CX\n",
    "\n",
    "qq = cirq.LineQubit.range(3)\n",
    "circuit = cirq.Circuit()\n",
    "\n",
    "circuit.append(CX(qq[0], qq[2]))\n",
    "circuit.append(CX(qq[1], qq[2]))\n",
    "\n",
    "print(circuit)"
   ]
  },
  {
   "cell_type": "markdown",
   "metadata": {},
   "source": [
    "Here the first two qubits are $x$ and $y$, and $z$ is the third qubit. \n",
    "\n",
    "Let’s verify the correctness of the above circuit by checking all possible coloring (inputs).\n"
   ]
  },
  {
   "cell_type": "code",
   "execution_count": null,
   "metadata": {},
   "outputs": [],
   "source": [
    "import cirq\n",
    "from cirq import X, CX\n",
    "s = cirq.Simulator()\n",
    "\n",
    "for a in range(2):\n",
    "    for b in range(2):\n",
    "        print()\n",
    "        print(\"First vertex is set to \", a)\n",
    "        print(\"Second vertex is set to \", b)\n",
    "        \n",
    "        # encoding coloring\n",
    "        qq = cirq.LineQubit.range(3)\n",
    "        circuit = cirq.Circuit()\n",
    "        \n",
    "        if a == 1:\n",
    "            circuit.append(X(qq[0]))\n",
    "        if b == 1:\n",
    "            circuit.append(X(qq[1]))\n",
    "\n",
    "        # edge checking\n",
    "        circuit.append(CX(qq[0], qq[2]))\n",
    "        circuit.append(CX(qq[1], qq[2]))\n",
    "        circuit.append(cirq.measure(*qq, key='result'))\n",
    "        \n",
    "        samples = s.run(circuit, repetitions=1)\n",
    "        result = samples.measurements[\"result\"]\n",
    "        # 0 - first (and only measurement)\n",
    "        # 2 - last qubit\n",
    "        output = result[0][2] \n",
    "                \n",
    "        \n",
    "        print(circuit)\n",
    "        if output == 1:\n",
    "            print(\"Edge connects different colors. Output:\", output)\n",
    "        else:\n",
    "            print(\"Edge connects the same colors. Output:\", output)"
   ]
  },
  {
   "cell_type": "markdown",
   "metadata": {},
   "source": [
    "## Designing an oracle for checking bipartiteness\n",
    "\n",
    "In Grover's Algorithm, our aim is to find an element marked by the oracle. If we have an oracle detecting any edge connecting two differently colored vertices, then we can use Grover's search to find such colorings (if exists)\n",
    "which \"marks\" colorings in which the endpoints of all the edges are colored using a different color, then we can use Grover's search to find such colorings (if such a coloring exists). Therefore, we need to define an oracle which will check and \"mark\" colorings which satisfy this property. \n",
    "\n",
    "As we described above, we use seperate qubits for each vertex and for each edge. The states of the qubits corresponding to vertices represent the colorings. The input to the oracle are the qubits representing the vertices, and the rest of the qubits are used by the oracle. Before the oracle starts its computation, all qubits representing the edges and the output qubit are in $ \\ket{0}$ state, and they should also be in $\\ket{0} $ state at the end to be used again for the next oracle call.\n",
    "\n",
    "\n",
    "We can summarize the computation by the oracle in four steps:\n",
    "\n",
    "1. By using the XOR operator, we assign the appropriate Boolean value for each edge. \n",
    "2. Then, we use an additional output qubit, which is set to 1 if each edge has the value of 1, i.e., each edge connects two vertices with different colors. This part can be implemented by a multi-controlled $NOT$ operator (flip the value of target qubit only if all controlled qubits are in states $\\ket{1}$). "
   ]
  },
  {
   "cell_type": "markdown",
   "metadata": {},
   "source": [
    "### Task 2\n",
    "\n",
    "For the given graph below, implement the first two steps of the oracle described above. \n",
    "\n",
    "The first four qubits are used for vertices.\n",
    "\n",
    "The next three qubits are used for edges.\n",
    "\n",
    "The last qubit is used for the output.\n",
    "\n",
    "Remark that the last qubit should be in state $ \\ket{1} $ (resp., $\\ket{0}$) if the coloring of the vertices is correct (resp., incorrect).\n",
    "\n",
    "Test your implementation with different colorings.\n",
    "\n",
    "<img src=\"../images/bipartite.png\" width=\"25%\" align=\"center\">"
   ]
  },
  {
   "cell_type": "code",
   "execution_count": null,
   "metadata": {},
   "outputs": [],
   "source": [
    "import cirq\n",
    "from cirq import X, CX\n",
    "s = cirq.Simulator()\n",
    "\n",
    "qq = cirq.LineQubit.range(8)\n",
    "circuit = cirq.Circuit()\n",
    "# correct coloring\n",
    "circuit.append(X(qq[0]))\n",
    "circuit.append(X(qq[1]))\n",
    "\n",
    "# incorrect coloring\n",
    "# circuit.append(X(qq[0]))\n",
    "\n",
    "\n",
    "#\n",
    "# your solution\n",
    "#\n",
    "\n",
    "\n",
    "circuit.append(cirq.measure(*qq, key='result'))\n",
    "samples = s.run(circuit, repetitions=1)\n",
    "result = samples.measurements[\"result\"]\n",
    "# 0 - first (and only measurement)\n",
    "# 7 - last qubit\n",
    "output = result[0][7] \n",
    "print(\"Measurement output: \", output)\n",
    "if output == 1:\n",
    "    print(\"correct coloring (graph is bipartite)\")\n",
    "else:\n",
    "    print(\"incorrect coloring\")\n",
    "print(circuit)"
   ]
  },
  {
   "cell_type": "markdown",
   "metadata": {},
   "source": [
    "[click for our solution](B02_Max_Cut_Problem_Solutions.ipynb#task2)"
   ]
  },
  {
   "cell_type": "markdown",
   "metadata": {},
   "source": [
    "Let's continue with the remaining steps of the oracle.\n",
    "\n",
    "3. The oracle flips the sign of the amplitude of the states which lead to $ \\ket{1} $ as the output. This can be easily done by applying a $Z$ gate: when in state $\\ket{1}$, the sign is flipped, and it does not change, otherwise. \n",
    "4. We reverse the whole computation done in the first 2 steps so that the oracle leaves all the qubits used in the computation in state $\\ket{0}$. This can be done by reversing every quantum operator before the $Z$ gate. (In Cirq, the method “inverse” can be used.) In this way, the only effect of the oracle is flipping the amplitude of the sign of the qubits representing the correct coloring.\n",
    "\n",
    "Now, our oracle is ready to be used as a part of Grover’s search algorithm. \n",
    "\n",
    "In the following code, we apply the oracle once and observe its effect. We start with an equal superposition of all possible coloring for the vertices (the first qubits)."
   ]
  },
  {
   "cell_type": "code",
   "execution_count": 4,
   "metadata": {},
   "outputs": [
    {
     "name": "stdout",
     "output_type": "stream",
     "text": [
      "00000000 (0.24999997+0j)\n",
      "00010000 (0.24999997+0j)\n",
      "00100000 (0.24999997+0j)\n",
      "00110000 (-0.24999997+0j)\n",
      "01000000 (0.24999997+0j)\n",
      "01010000 (0.24999997+0j)\n",
      "01100000 (0.24999997+0j)\n",
      "01110000 (0.24999997+0j)\n",
      "10000000 (0.24999997+0j)\n",
      "10010000 (0.24999997+0j)\n",
      "10100000 (0.24999997+0j)\n",
      "10110000 (0.24999997+0j)\n",
      "11000000 (-0.24999997+0j)\n",
      "11010000 (0.24999997+0j)\n",
      "11100000 (0.24999997+0j)\n",
      "11110000 (0.24999997+0j)\n"
     ]
    }
   ],
   "source": [
    "import cirq\n",
    "from cirq import X, H, Z, inverse, CX\n",
    "s = cirq.Simulator()\n",
    "\n",
    "qq = cirq.LineQubit.range(8)\n",
    "\n",
    "def oracle():\n",
    "    # check 0-2 edge and store at 4th qubit\n",
    "    yield CX(qq[0], qq[4])\n",
    "    yield CX(qq[2], qq[4])\n",
    "    # check 0-3 edge and store at 5th qubit\n",
    "    yield CX(qq[0], qq[5])\n",
    "    yield CX(qq[3], qq[5])\n",
    "    # check 1-3 edge and store at 6th qubit\n",
    "    yield CX(qq[1], qq[6])\n",
    "    yield CX(qq[3], qq[6])\n",
    "\n",
    "    # check all edge qubits\n",
    "    yield X(qq[7]).controlled_by(*(qq[4:7]))\n",
    "    \n",
    "def oracle_computation():\n",
    "    yield oracle()\n",
    "    yield Z(qq[7])\n",
    "    yield inverse(oracle())\n",
    "    \n",
    "circuit = cirq.Circuit()\n",
    "circuit.append(H.on_each(*(qq[0:4])))\n",
    "circuit.append(oracle_computation())\n",
    "\n",
    "quantum_state = s.simulate(circuit).final_state_vector\n",
    "for i in range(len(quantum_state)):\n",
    "    if quantum_state[i] != 0.:\n",
    "        # format(i, 'b').zfill(8) takes care of nice printing\n",
    "        print(format(i, 'b').zfill(8), quantum_state[i])"
   ]
  },
  {
   "cell_type": "markdown",
   "metadata": {},
   "source": [
    "Note several important things here. The last four qubits are set to zero: these are edge checking and output qubit, and since they are set to zero, we can reuse them in further computation.\n",
    "\n",
    "As observed from the outcome, only the sign of the following states are flipped:\n",
    "$$\n",
    "\t\\ket{0011}\\ket{0000} \\mbox{ and } \\ket{1100}\\ket{0000}.\n",
    "$$\n",
    "\n",
    "In the first case, the vertices 0 and 1 are colored blue and the vertices 2 and 3 are colored red. In the second case, the first pair is colored red and the second one colored blue.\n"
   ]
  },
  {
   "cell_type": "markdown",
   "metadata": {},
   "source": [
    "### Task 3 \n",
    "\n",
    "For the given graphs below, iterate Grover’s search algorithm 2 steps to find the correct colorings. (There are indeed $k=2$ possible colorings, and so the oracle should be applied $\\frac{\\pi}{4}\\sqrt{\\frac{2^4}{k}}\\approx 2$ times.) \n",
    "\n",
    "You will use nine qubits: 4 for vertices, 4 for edges, and 1 for the output qubit.\n",
    "\n",
    "The diffusion operator is provided below.\n",
    "\n",
    "Observe which outcomes have the higher frequencies.\n",
    "\n",
    "\n",
    "<img src=\"../images/completebipartite.png\" width=\"25%\" align=\"center\">"
   ]
  },
  {
   "cell_type": "code",
   "execution_count": null,
   "metadata": {},
   "outputs": [],
   "source": [
    "import cirq\n",
    "from cirq import X, H, Z, inverse, CX\n",
    "s = cirq.Simulator()\n",
    "\n",
    "qq = cirq.LineQubit.range(9)\n",
    "\n",
    "def oracle_computation():\n",
    "    #\n",
    "    # your solution\n",
    "    #\n",
    "    \n",
    "def oracle():\n",
    "    #\n",
    "    # your solution\n",
    "    #\n",
    "    \n",
    "\n",
    "def grover_diffusion():\n",
    "    yield H.on_each(*qq)\n",
    "    yield X.on_each(*qq)\n",
    "    yield Z(qq[3]).controlled_by(*(qq[0:3]))\n",
    "    yield X.on_each(*qq)\n",
    "    yield H.on_each(*qq)\n",
    "\n",
    "circuit = cirq.Circuit()\n",
    "circuit.append(H.on_each(*(qq[0:4])))\n",
    "\n",
    "for i in range(2):\n",
    "    circuit.append(oracle_computation())\n",
    "    circuit.append(grover_diffusion())\n",
    "\n",
    "# we are only intertested in outputs of first 4 qubits\n",
    "circuit.append(cirq.measure(*(qq[0:4]), key='result'))\n",
    "\n",
    "# determine the statistics of the measurements\n",
    "trials_number = 1000\n",
    "samples = s.run(circuit, repetitions=trials_number)\n",
    "result = samples.measurements[\"result\"]\n",
    "\n",
    "# create an histogram of the result\n",
    "def bitstring(bits):\n",
    "    return \"\".join(str(int(b)) for b in bits)\n",
    "\n",
    "counts = samples.histogram(key=\"result\",fold_func=bitstring)\n",
    "print(counts)"
   ]
  },
  {
   "cell_type": "markdown",
   "metadata": {},
   "source": [
    "[click for our solution](B02_Max_Cut_Problem_Solutions.ipynb#task3)"
   ]
  },
  {
   "cell_type": "markdown",
   "metadata": {},
   "source": [
    "### Task 4\n",
    "\n",
    "Repeat Task 3 for the following graph.\n",
    "\n",
    "Does the following graph has any correct colorings or not? If not, what would you say in advance about the frequencies of the outcomes?\n",
    "\n",
    "\n",
    "<img src=\"../images/nonbipartite.png\" width=\"25%\" align=\"center\">"
   ]
  },
  {
   "cell_type": "code",
   "execution_count": null,
   "metadata": {},
   "outputs": [],
   "source": [
    "import cirq\n",
    "from cirq import X, H, Z, inverse, CX\n",
    "s = cirq.Simulator()\n",
    "\n",
    "qq = cirq.LineQubit.range(9)\n",
    "    \n",
    "def oracle_computation():\n",
    "    #\n",
    "    # your solution\n",
    "    # \n",
    "    \n",
    "def oracle():\n",
    "    #\n",
    "    # your solution\n",
    "    #\n",
    "    \n",
    "def grover_diffusion():\n",
    "    yield H.on_each(*qq)\n",
    "    yield X.on_each(*qq)\n",
    "    yield Z(qq[3]).controlled_by(*(qq[0:3]))\n",
    "    yield X.on_each(*qq)\n",
    "    yield H.on_each(*qq)\n",
    "\n",
    "circuit = cirq.Circuit()\n",
    "circuit.append(H.on_each(*(qq[0:4])))\n",
    "\n",
    "for i in range(2):\n",
    "    circuit.append(oracle())\n",
    "    circuit.append(grover_diffusion())\n",
    "\n",
    "# we are only intertested in outputs of first 4 qubits\n",
    "circuit.append(cirq.measure(*(qq[0:4]), key='result'))\n",
    "\n",
    "# determine the statistics of the measurements\n",
    "trials_number = 1000\n",
    "samples = s.run(circuit, repetitions=trials_number)\n",
    "result = samples.measurements[\"result\"]\n",
    "\n",
    "# create an histogram of the result\n",
    "def bitstring(bits):\n",
    "    return \"\".join(str(int(b)) for b in bits)\n",
    "\n",
    "counts = samples.histogram(key=\"result\",fold_func=bitstring)\n",
    "print(counts)"
   ]
  },
  {
   "cell_type": "markdown",
   "metadata": {},
   "source": [
    "[click for our solution](B02_Max_Cut_Problem_Solutions.ipynb#task4)"
   ]
  },
  {
   "cell_type": "markdown",
   "metadata": {},
   "source": [
    "## Conclusion \n",
    "\n",
    "\n",
    "Here we implement Grover's search algorithm to find 2-coloring of a graph which helps us to determine whether a graph is bipartite or not. When the given graph is bipartite, then solving Max-Cut problem for the given graph becomes trivial. \n",
    "\n",
    "We should note that our algorithm takes $O(\\sqrt{2^n})$ steps, but this problem can be solved classically in $O(n^2)$ steps. On the other hand, we see this application as a pedagogical example of how to design an oracle and then apply Grover’s search algorithm for a well-known problem on graphs. \n",
    "\n",
    "In the following notebooks, we will construct an oracle which solves Max-Cut problem for any arbitrary graph."
   ]
  }
 ],
 "metadata": {
  "kernelspec": {
   "display_name": "Python 3",
   "language": "python",
   "name": "python3"
  },
  "language_info": {
   "codemirror_mode": {
    "name": "ipython",
    "version": 3
   },
   "file_extension": ".py",
   "mimetype": "text/x-python",
   "name": "python",
   "nbconvert_exporter": "python",
   "pygments_lexer": "ipython3",
   "version": "3.7.3"
  }
 },
 "nbformat": 4,
 "nbformat_minor": 4
}
