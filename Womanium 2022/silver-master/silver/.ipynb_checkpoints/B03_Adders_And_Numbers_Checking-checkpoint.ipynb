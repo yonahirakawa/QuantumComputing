{
 "cells": [
  {
   "cell_type": "markdown",
   "metadata": {},
   "source": [
    "<table  align=\"left\" width=\"100%\"> <tr>\n",
    "        <td  style=\"background-color:#ffffff;\"><a href=\"https://qsoftware.lu.lv/index.php/qworld/\" target=\"_blank\"><img src=\"..\\images\\qworld.jpg\" width=\"35%\" align=\"left\"></a></td>\n",
    "        <td  align=\"right\" style=\"background-color:#ffffff;vertical-align:bottom;horizontal-align:right\">\n",
    "            prepared by <a href=\"https://iitis.pl/pl/person/aglos\" target=\"_blank\"  >Adam Glos</a> and Özlem Salehi\n",
    "        </td>        \n",
    "</tr></table>"
   ]
  },
  {
   "cell_type": "markdown",
   "metadata": {},
   "source": [
    "<table width=\"100%\"><tr><td style=\"color:#bbbbbb;background-color:#ffffff;font-size:11px;font-style:italic;text-align:right;\">This cell contains some macros. If there is a problem with displaying mathematical formulas, please run this cell to load these macros. </td></tr></table>\n",
    "$ \\newcommand{\\bra}[1]{\\langle #1|} $\n",
    "$ \\newcommand{\\ket}[1]{|#1\\rangle} $\n",
    "$ \\newcommand{\\braket}[2]{\\langle #1|#2\\rangle} $\n",
    "$ \\newcommand{\\dot}[2]{ #1 \\cdot #2} $\n",
    "$ \\newcommand{\\biginner}[2]{\\left\\langle #1,#2\\right\\rangle} $\n",
    "$ \\newcommand{\\mymatrix}[2]{\\left( \\begin{array}{#1} #2\\end{array} \\right)} $\n",
    "$ \\newcommand{\\myvector}[1]{\\mymatrix{c}{#1}} $\n",
    "$ \\newcommand{\\myrvector}[1]{\\mymatrix{r}{#1}} $\n",
    "$ \\newcommand{\\mypar}[1]{\\left( #1 \\right)} $\n",
    "$ \\newcommand{\\mybigpar}[1]{ \\Big( #1 \\Big)} $\n",
    "$ \\newcommand{\\sqrttwo}{\\frac{1}{\\sqrt{2}}} $\n",
    "$ \\newcommand{\\dsqrttwo}{\\dfrac{1}{\\sqrt{2}}} $\n",
    "$ \\newcommand{\\onehalf}{\\frac{1}{2}} $\n",
    "$ \\newcommand{\\donehalf}{\\dfrac{1}{2}} $\n",
    "$ \\newcommand{\\hadamard}{ \\mymatrix{rr}{ \\sqrttwo & \\sqrttwo \\\\ \\sqrttwo & -\\sqrttwo }} $\n",
    "$ \\newcommand{\\vzero}{\\myvector{1\\\\0}} $\n",
    "$ \\newcommand{\\vone}{\\myvector{0\\\\1}} $\n",
    "$ \\newcommand{\\vhadamardzero}{\\myvector{ \\sqrttwo \\\\  \\sqrttwo } } $\n",
    "$ \\newcommand{\\vhadamardone}{ \\myrvector{ \\sqrttwo \\\\ -\\sqrttwo } } $\n",
    "$ \\newcommand{\\myarray}[2]{ \\begin{array}{#1}#2\\end{array}} $\n",
    "$ \\newcommand{\\X}{ \\mymatrix{cc}{0 & 1 \\\\ 1 & 0}  } $\n",
    "$ \\newcommand{\\Z}{ \\mymatrix{rr}{1 & 0 \\\\ 0 & -1}  } $\n",
    "$ \\newcommand{\\Htwo}{ \\mymatrix{rrrr}{ \\frac{1}{2} & \\frac{1}{2} & \\frac{1}{2} & \\frac{1}{2} \\\\ \\frac{1}{2} & -\\frac{1}{2} & \\frac{1}{2} & -\\frac{1}{2} \\\\ \\frac{1}{2} & \\frac{1}{2} & -\\frac{1}{2} & -\\frac{1}{2} \\\\ \\frac{1}{2} & -\\frac{1}{2} & -\\frac{1}{2} & \\frac{1}{2} } } $\n",
    "$ \\newcommand{\\CNOT}{ \\mymatrix{cccc}{1 & 0 & 0 & 0 \\\\ 0 & 1 & 0 & 0 \\\\ 0 & 0 & 0 & 1 \\\\ 0 & 0 & 1 & 0} } $\n",
    "$ \\newcommand{\\norm}[1]{ \\left\\lVert #1 \\right\\rVert } $\n",
    "$ \\newcommand{\\pstate}[1]{ \\lceil \\mspace{-1mu} #1 \\mspace{-1.5mu} \\rfloor } $"
   ]
  },
  {
   "cell_type": "markdown",
   "metadata": {},
   "source": [
    "# Adders and numbers checking"
   ]
  },
  {
   "cell_type": "markdown",
   "metadata": {},
   "source": [
    "To implement the oracle for solving Max-Cut problem, we first examine how to add numbers in a quantum way. "
   ]
  },
  {
   "cell_type": "markdown",
   "metadata": {},
   "source": [
    "## Half-adders"
   ]
  },
  {
   "cell_type": "markdown",
   "metadata": {},
   "source": [
    "Suppose that we want to add two bits $A$ and $B$. $\\Sigma$ represents the sum and $C_{out}$ represents the carry, that is an overflow to the next digit. Let's represent the relationship between the bits which are summed in the following table. "
   ]
  },
  {
   "cell_type": "markdown",
   "metadata": {},
   "source": [
    "<table>\n",
    "    <tr>\n",
    "        <td> $A$ </td>\n",
    "        <td> $B$ </td>\n",
    "        <td> $C_{\\rm out}$</td>\n",
    "        <td> $\\Sigma$ </td>\n",
    "    </tr>\n",
    "    <tr>\n",
    "        <td> 0 </td>\n",
    "        <td> 0 </td>\n",
    "        <td> 0 </td>\n",
    "        <td> 0 </td>\n",
    "    </tr>\n",
    "    <tr>\n",
    "        <td> 0 </td>\n",
    "        <td> 1 </td>\n",
    "        <td> 0 </td>\n",
    "        <td> 1 </td>\n",
    "    </tr>\n",
    "    <tr>\n",
    "        <td> 1 </td>\n",
    "        <td> 0 </td>\n",
    "        <td> 0 </td>\n",
    "        <td> 1 </td>\n",
    "    </tr>\n",
    "    <tr>\n",
    "        <td> 1 </td>\n",
    "        <td> 1 </td>\n",
    "        <td> 1 </td>\n",
    "        <td> 0 </td>\n",
    "    </tr>\n",
    "</table>"
   ]
  },
  {
   "cell_type": "markdown",
   "metadata": {},
   "source": [
    "Note that the third column is the AND operator on the first two, while the last is the XOR of first two. To implement this in a quantum circuit, we use four qubits as shown in the circuit below. We can use the following circuit to simulate the half-adder \n",
    "<img src=\"../images/halfadder_large.png\" width=\"25%\" align=\"center\">\n",
    "where the first two qubits are the inputs and the last two qubits are the outputs."
   ]
  },
  {
   "cell_type": "markdown",
   "metadata": {},
   "source": [
    "### Task 1 \n",
    "Implement the above half-adder and verify that indeed it generates correct outputs for any input. "
   ]
  },
  {
   "cell_type": "code",
   "execution_count": null,
   "metadata": {},
   "outputs": [],
   "source": [
    "import cirq\n",
    "from cirq import X, CX\n",
    "s = cirq.Simulator()\n",
    "\n",
    "for input in ['00','01','10','11']:\n",
    "    qq = cirq.LineQubit.range(4)\n",
    "    circuit = cirq.Circuit()\n",
    "\n",
    "    # Initialize the input\n",
    "    if input[0] == '1':\n",
    "        circuit.append(X(qq[0]))\n",
    "    if input[1] == '1':\n",
    "        circuit.append(X(qq[1]))\n",
    "\n",
    "    #\n",
    "    # your solution\n",
    "    # \n",
    "\n",
    "    circuit.append(cirq.measure(*qq, key='result'))\n",
    "\n",
    "    samples = s.run(circuit, repetitions=1)\n",
    "    result = samples.measurements[\"result\"]\n",
    "    print(\"measurement output:\", result)\n",
    "    print(\"added bits:\", input[0] , \"and\", input[1])\n",
    "    print(\"sum:\", result[0][3])\n",
    "    print(\"Cout:\", result[0][2])\n",
    "    print()"
   ]
  },
  {
   "cell_type": "markdown",
   "metadata": {},
   "source": [
    "[click for our solution](B03_Adders_And_Numbers_Checking_Solutions.ipynb#task1)"
   ]
  },
  {
   "cell_type": "markdown",
   "metadata": {},
   "source": [
    "Note that the half-adder above stores the solution on a separate qubit. We can think of this operation as `A + B`. \n",
    "\n",
    "Next, we will see that we can also implement in-place addition, `B+=A`. Fortunately, this can be done with the following circuit. "
   ]
  },
  {
   "cell_type": "code",
   "execution_count": null,
   "metadata": {},
   "outputs": [],
   "source": [
    "import cirq\n",
    "from cirq import CCNOT,CNOT\n",
    "\n",
    "qq = cirq.LineQubit.range(3)\n",
    "circuit = cirq.Circuit()\n",
    "circuit.append(CCNOT(qq[0], qq[1], qq[2]))\n",
    "circuit.append(CNOT(qq[0], qq[1]))              \n",
    "\n",
    "print(circuit)"
   ]
  },
  {
   "cell_type": "markdown",
   "metadata": {},
   "source": [
    "One can verify that if $\\ket{q_0}$ and $\\ket{q_1}$ are the digits being added, then on $\\ket{q_1}$ we will have the sum bit $\\Sigma$, and on $\\ket{q_2}$ we will obtain the carry bit $C_{\\rm out}$."
   ]
  },
  {
   "cell_type": "markdown",
   "metadata": {},
   "source": [
    "<table>\n",
    "     <tr>\n",
    "        <td colspan=\"3\" align=\"center\"> Input </td>\n",
    "         <td> &nbsp; </td>\n",
    "        <td colspan=\"3\" align=\"center\"> Output </td>\n",
    "    </tr>\n",
    "    <tr>\n",
    "        <td> $q_0$ </td>\n",
    "        <td> $q_1$ </td>\n",
    "        <td> $q_2$</td>\n",
    "        <td> &nbsp; </td>\n",
    "        <td> $q_0$ </td>\n",
    "        <td> $q_1$ </td>\n",
    "        <td> $q_2$</td>\n",
    "    </tr>\n",
    "    <tr>\n",
    "        <td> 0 </td>\n",
    "        <td> 0 </td>\n",
    "        <td> 0 </td>\n",
    "        <td> &nbsp; </td>\n",
    "        <td> 0 </td>\n",
    "        <td> 0 </td>\n",
    "        <td> 0 </td>\n",
    "    </tr>\n",
    "    <tr>\n",
    "        <td> 0 </td>\n",
    "        <td> 1 </td>\n",
    "        <td> 0 </td>\n",
    "        <td> &nbsp; </td>\n",
    "        <td> 0 </td>\n",
    "        <td> 1 </td>\n",
    "        <td> 0 </td>\n",
    "    </tr>\n",
    "    <tr>\n",
    "        <td> 1 </td>\n",
    "        <td> 0 </td>\n",
    "        <td> 0 </td>\n",
    "        <td> &nbsp; </td>\n",
    "        <td> 1 </td>\n",
    "        <td> 1 </td>\n",
    "        <td> 0 </td>\n",
    "    </tr>\n",
    "    <tr>\n",
    "        <td> 1 </td>\n",
    "        <td> 1 </td>\n",
    "        <td> 0 </td>\n",
    "        <td> &nbsp; </td>\n",
    "        <td> 1 </td>\n",
    "        <td> 0 </td>\n",
    "        <td> 1 </td>\n",
    "    </tr>\n",
    "</table>\n"
   ]
  },
  {
   "cell_type": "markdown",
   "metadata": {},
   "source": [
    "What happens if the qubit $\\ket{q_2}$ is originally in state $\\ket{1}$? Let's check the following table."
   ]
  },
  {
   "cell_type": "markdown",
   "metadata": {},
   "source": [
    "<table>\n",
    "        <tr>\n",
    "        <td colspan=\"3\" align=\"center\"> Input </td>\n",
    "         <td> &nbsp; </td>\n",
    "        <td colspan=\"3\" align=\"center\"> Output </td>\n",
    "    </tr>\n",
    "    <tr>\n",
    "        <td> $q_0$ </td>\n",
    "        <td> $q_1$ </td>\n",
    "        <td> $q_2$</td>\n",
    "        <td> &nbsp; </td>\n",
    "        <td> $q_0$ </td>\n",
    "        <td> $q_1$ </td>\n",
    "        <td> $q_2$</td>\n",
    "    </tr>\n",
    "    <tr>\n",
    "        <td> 0 </td>\n",
    "        <td> 0 </td>\n",
    "        <td> 1 </td>\n",
    "        <td> &nbsp; </td>\n",
    "        <td> 0 </td>\n",
    "        <td> 0 </td>\n",
    "        <td> 1 </td>\n",
    "    </tr>\n",
    "    <tr>\n",
    "        <td> 0 </td>\n",
    "        <td> 1 </td>\n",
    "        <td> 1 </td>\n",
    "        <td> &nbsp; </td>\n",
    "        <td> 0 </td>\n",
    "        <td> 1 </td>\n",
    "        <td> 1 </td>\n",
    "    </tr>\n",
    "    <tr>\n",
    "        <td> 1 </td>\n",
    "        <td> 0 </td>\n",
    "        <td> 1 </td>\n",
    "        <td> &nbsp; </td>\n",
    "        <td> 1 </td>\n",
    "        <td> 1 </td>\n",
    "        <td> 1 </td>\n",
    "    </tr>\n",
    "    <tr>\n",
    "        <td> 1 </td>\n",
    "        <td> 1 </td>\n",
    "        <td> 1 </td>\n",
    "        <td> &nbsp; </td>\n",
    "        <td> 1 </td>\n",
    "        <td> 0 </td>\n",
    "        <td> 0 </td>\n",
    "    </tr>\n",
    "</table>"
   ]
  },
  {
   "cell_type": "markdown",
   "metadata": {},
   "source": [
    "We see that, unless all $ q_0 $, $ q_1 $, and $ q_2 $ are in states $ \\ket{1} $ at the same time,  we can use this circuit to add the single bit stored in qubit $ q_0 $ to the number stored on 2 qubits $q_1$ and $q_2$."
   ]
  },
  {
   "cell_type": "markdown",
   "metadata": {},
   "source": [
    "## Counting\n",
    "\n",
    "Suppose that we are given $n$ bits and we are asked how many of the bits are set to 1. At this point, we know how to add two bits and now we will implement the procedure for counting by adding multiple bits consecutively on top of each other. \n",
    "\n",
    "We will store the output in qubits $\\ket{q_2}$ and $\\ket{q_3}$ where $\\ket{q_2}$ represents the sum and $\\ket{q_3}$ represents the carry. We will perform in place addition, meaning that we will first add the bit represented by $\\ket{q_0}$ to the output and then do the same for the bit stored in $\\ket{q_1}$.\n",
    "\n",
    "In summary, we will perform the following operations: (`sum` is representing the sum stored in qubits $\\ket{q_2}$ and $\\ket{q_3}$.)\n",
    "\n",
    "First, we do `sum = sum + q0` "
   ]
  },
  {
   "cell_type": "code",
   "execution_count": null,
   "metadata": {},
   "outputs": [],
   "source": [
    "import cirq\n",
    "from cirq import CCX, CX\n",
    "\n",
    "qq = cirq.LineQubit.range(4)\n",
    "circuit = cirq.Circuit()\n",
    "\n",
    "circuit.append(CCX(qq[0], qq[2], qq[3]))\n",
    "circuit.append(CX(qq[0], qq[2]))   \n",
    "\n",
    "print(circuit)"
   ]
  },
  {
   "cell_type": "markdown",
   "metadata": {},
   "source": [
    "Remark that initially $ \\ket{q_2} $ is in state 0, and so we can also omit CCX.\n",
    "\n",
    "After the first addition, $\\ket{q_2}$ either stores 0 or 1. Now let's add the bit stored in $\\ket{q_1}$ to the output."
   ]
  },
  {
   "cell_type": "markdown",
   "metadata": {},
   "source": [
    "Second, we do `sum = sum + q1`"
   ]
  },
  {
   "cell_type": "code",
   "execution_count": null,
   "metadata": {},
   "outputs": [],
   "source": [
    "import cirq\n",
    "from cirq import CCX,X\n",
    "\n",
    "qq = cirq.LineQubit.range(4)\n",
    "circuit = cirq.Circuit()\n",
    "\n",
    "circuit.append(CCX(qq[0], qq[2], qq[3]))\n",
    "circuit.append(CX(qq[0], qq[2]))   \n",
    "\n",
    "circuit.append(CCX(qq[1], qq[2], qq[3]))\n",
    "circuit.append(CX(qq[1], qq[2]))\n",
    "\n",
    "print(circuit)"
   ]
  },
  {
   "cell_type": "markdown",
   "metadata": {},
   "source": [
    "Now let's check the correctness of the above circuit by trying different inputs."
   ]
  },
  {
   "cell_type": "code",
   "execution_count": null,
   "metadata": {},
   "outputs": [],
   "source": [
    "import cirq\n",
    "from cirq import X, CX, CCX\n",
    "s = cirq.Simulator()\n",
    "\n",
    "for input in ['00','01','10','11']:\n",
    "    qq = cirq.LineQubit.range(4)\n",
    "    circuit = cirq.Circuit()\n",
    "\n",
    "    # initialization\n",
    "    if input[0] == '1':\n",
    "        circuit.append(X(qq[0]))\n",
    "    if input[1] == '1':\n",
    "        circuit.append(X(qq[1]))\n",
    "\n",
    "    # add qubit 0 \n",
    "    # qubits 2. and 3. store the sum \n",
    "    # since we know that q[2] is set to zero initially, we could omit this control \n",
    "    circuit.append(CCX(qq[0], qq[2], qq[3]))\n",
    "    circuit.append(CX(qq[0], qq[2]))\n",
    "\n",
    "    ## add qubit 1\n",
    "    circuit.append(CCX(qq[1], qq[2], qq[3]))\n",
    "    circuit.append(CX(qq[1], qq[2]))\n",
    "\n",
    "    circuit.append(cirq.measure(*qq, key='result'))\n",
    "\n",
    "    samples = s.run(circuit, repetitions=1)\n",
    "    result = samples.measurements[\"result\"]\n",
    "    # print the sum\n",
    "    print(\"Input:\", input)\n",
    "    print(\"The sum should be equal to\", int(input[0])+int(input[1]))\n",
    "    print(\"According to quantum circuit:\", result[0][2] + 2*result[0][3])\n",
    "    print(\"q0 =\",result[0][0],\" q1 =\",result[0][1],\" q2 =\",result[0][2],\" q3 =\",result[0][3])\n",
    "    print(\"\")"
   ]
  },
  {
   "cell_type": "markdown",
   "metadata": {},
   "source": [
    "In the next task, you will implement the same procedure this time adding the first three bits. The sum will be stored in qubits $\\ket{q_3}$ and $\\ket{q_4}$. After adding the first two bits, it can be the case that $\\ket{q_3}$ stores 0 and $\\ket{q_4}$ stores 1, corresponding to the sum $2=10_2$.  From the table, we know that the same implementation idea still works independent of whether $\\ket{q_4}$ stores 1 or not."
   ]
  },
  {
   "cell_type": "markdown",
   "metadata": {},
   "source": [
    "### Task 2 \n",
    "Add the first three bits stored in qubits 0-2 and store the sum on qubits 3-4."
   ]
  },
  {
   "cell_type": "code",
   "execution_count": null,
   "metadata": {},
   "outputs": [],
   "source": [
    "import cirq\n",
    "from cirq import X, CX, CCX\n",
    "s = cirq.Simulator()\n",
    "\n",
    "for input in  ['000','001','010','011','100','101','110','111']:\n",
    "    qq = cirq.LineQubit.range(8)\n",
    "    circuit = cirq.Circuit()\n",
    "\n",
    "    if input[0] == '1':\n",
    "        circuit.append(X(qq[0]))\n",
    "    if input[1] == '1':\n",
    "        circuit.append(X(qq[1]))\n",
    "    if input[2] == '1':\n",
    "        circuit.append(X(qq[2]))\n",
    "\n",
    "    #\n",
    "    # your solution\n",
    "    # \n",
    "\n",
    "    circuit.append(cirq.measure(*qq, key='result'))\n",
    "\n",
    "    samples = s.run(circuit, repetitions=1)\n",
    "    result = samples.measurements[\"result\"]\n",
    "    # print the sum\n",
    "    print(\"Input:\", input)\n",
    "    print(\"The sum should be equal to\", int(input[0])+int(input[1])+int(input[2]))\n",
    "    print(\"According to quantum circuit:\", 2*result[0][4]+result[0][3])\n",
    "    print(\"\")\n"
   ]
  },
  {
   "cell_type": "markdown",
   "metadata": {},
   "source": [
    "[click for our solution](B03_Adders_And_Numbers_Checking_Solutions.ipynb#task2)"
   ]
  },
  {
   "cell_type": "markdown",
   "metadata": {},
   "source": [
    "### Generalization  "
   ]
  },
  {
   "cell_type": "markdown",
   "metadata": {},
   "source": [
    "Let's review the whole process from the beginning.\n",
    "\n",
    "There are a single input (qu)bit $a_0$ and a single output qubit, say $b_0$, initially set to $0$.  After the operation $b_0 = b_0+a_0 $, $ b_0 $ can be at most 1, which can be accomplished by using a single $CX$ operator.\n"
   ]
  },
  {
   "cell_type": "code",
   "execution_count": null,
   "metadata": {},
   "outputs": [],
   "source": [
    "import cirq\n",
    "from cirq import X, CX\n",
    "\n",
    "#We use named qubits to visualize the circuit in a more user friendly way\n",
    "a_0 = cirq.NamedQubit('a_0')\n",
    "b_0 = cirq.NamedQubit('b_0')\n",
    "\n",
    "circuit = cirq.Circuit()\n",
    "\n",
    "circuit.append(CX(a_0,b_0))          \n",
    "\n",
    "print(circuit)"
   ]
  },
  {
   "cell_type": "markdown",
   "metadata": {},
   "source": [
    "Now we add one more bit ($a_1$) to the summation. At this point, $b_0$ can be 0 or 1. If $a_1=1$ and $b_0=1$, then there will be an overflow to the next qubit since the sum will be $2=10_2$. We can check this using a $CCX$ gate where $a_1$ and $b_0$ are the control and $b_1$ is the target (qu)bits. (The same as the half adder above.)"
   ]
  },
  {
   "cell_type": "markdown",
   "metadata": {},
   "source": [
    "Similarly, we can add $a_2$. If $a_2=1$ and the current sum is 1, then the new sum will be equal to 2 and the overflow will take place. If the current sum is equal to 2, then there is already an overflow and the new sum will become $3=11_2$."
   ]
  },
  {
   "cell_type": "code",
   "execution_count": null,
   "metadata": {},
   "outputs": [],
   "source": [
    "import cirq\n",
    "from cirq import CX, CCX\n",
    "\n",
    "a_0 = cirq.NamedQubit('a_0')\n",
    "a_1 = cirq.NamedQubit('a_1')\n",
    "a_2 = cirq.NamedQubit('a_2')\n",
    "b_0 = cirq.NamedQubit('b_0')\n",
    "b_1 = cirq.NamedQubit('b_1')\n",
    "circuit = cirq.Circuit()\n",
    "\n",
    "#Add a_0\n",
    "circuit.append(CX(a_0,b_0)) \n",
    "\n",
    "#Add a_1\n",
    "circuit.append(CCX(a_1,b_0,b_1))\n",
    "circuit.append(CX(a_1,b_0))  \n",
    "\n",
    "#Add a_2\n",
    "circuit.append(CCX(a_2,b_0,b_1))\n",
    "circuit.append(CX(a_2,b_0))  \n",
    "\n",
    "print(circuit)"
   ]
  },
  {
   "cell_type": "markdown",
   "metadata": {},
   "source": [
    "Now we will add one more bit $a_3$. If $a_3= 1$ and both $b_0$ and $b_1$ are equal to 1, that is if the current sum is 3, then the sum will become 4 and we need an additional bit $b_2$. Hence, we need to check $a_3$, $b_0$, $b_1$ for equality to 1 and apply a $NOT$ gate to $\\ket{b_2}$ if this is the case. "
   ]
  },
  {
   "cell_type": "markdown",
   "metadata": {},
   "source": [
    "Check the following circuit which implements summation of the first four bits. When we add the fourth bit, we introduce the multi-controlled $NOT$ as it is possible that the sum is equal to 3 at this point and an overflow takes place. We store the output in qubits $\\ket{q_4}, \\ket{q_5}$ and $\\ket{q_6}$."
   ]
  },
  {
   "cell_type": "markdown",
   "metadata": {},
   "source": [
    "The line below generates all possible inputs of length 4 and we will use it in our code."
   ]
  },
  {
   "cell_type": "code",
   "execution_count": null,
   "metadata": {},
   "outputs": [],
   "source": [
    "input_list = [bin(i)[2:].zfill(4) for i in range(0,2**4)]\n",
    "print(input_list)"
   ]
  },
  {
   "cell_type": "code",
   "execution_count": null,
   "metadata": {},
   "outputs": [],
   "source": [
    "import cirq\n",
    "from itertools import product\n",
    "from cirq import X, CX, CCX\n",
    "s = cirq.Simulator()\n",
    "\n",
    "for input in input_list:\n",
    "    qq = cirq.LineQubit.range(8)\n",
    "    circuit = cirq.Circuit()\n",
    "\n",
    "    #We can do the initialization inside a for loop\n",
    "    for i in range(4):\n",
    "        if input[i]=='1':\n",
    "            circuit.append(X(qq[i]))\n",
    "\n",
    "    # add qubit 0\n",
    "    circuit.append(CX(qq[0], qq[4]))\n",
    "\n",
    "    # add qubit 1\n",
    "    circuit.append(CCX(qq[1], qq[4], qq[5]))\n",
    "    circuit.append(CX(qq[1], qq[4]))\n",
    "\n",
    "    # add qubit 2\n",
    "    circuit.append(CCX(qq[2], qq[4], qq[5]))\n",
    "    circuit.append(CX(qq[2], qq[4]))\n",
    "\n",
    "    # add qubit 3\n",
    "    circuit.append(X(qq[6]).controlled_by(qq[3], qq[4],qq[5]))\n",
    "    circuit.append(CCX(qq[3], qq[4], qq[5]))\n",
    "    circuit.append(CX(qq[3], qq[4]))\n",
    "\n",
    "    circuit.append(cirq.measure(*qq, key='result'))\n",
    "\n",
    "    samples = s.run(circuit, repetitions=1)\n",
    "    result = samples.measurements[\"result\"]\n",
    "    # print the sum\n",
    "    print(\"Input\", input)\n",
    "    print(\"The sum should equal to\", int(input[0])+int(input[1])+int(input[2])+int(input[3]))\n",
    "    print(\"According to quantum circuit:\", result[0][4]+2*result[0][5]+4*result[0][6])\n",
    "    print(\"\")"
   ]
  },
  {
   "cell_type": "markdown",
   "metadata": {},
   "source": [
    "The same pattern will continue if we include the bits $ a_5, a_6, a_7 $. As the sum will be at most 7, we use still 3 bits for storing the output (summation).\n",
    "\n",
    "After including $ a_8 $, we can have an overflow and so we use a multi-controlled not gate to check it. Besides, we use 4 bits for storing the output, which will be enough when adding $ a_9,\\dots,a_{15} $.\n",
    "\n",
    "This pattern repeats itself whenever including the new bits. A new (qu)bit is used by the output when the $ 2^i $-th bit is included in the summation, and a new multi-controlled not gate should be used to check the overflow."
   ]
  },
  {
   "cell_type": "markdown",
   "metadata": {},
   "source": [
    "### Task 3\n",
    "\n",
    "By using the given idea, add the values of seven bits, namely $ q_0,\\ldots,q_6 $, and write the results on the qubits $ q_7,q_8, q_9 $.\n",
    "\n",
    "*Note:*  You may use for-loops instead of adding each qubit one by one."
   ]
  },
  {
   "cell_type": "code",
   "execution_count": null,
   "metadata": {},
   "outputs": [],
   "source": [
    "# Generate the inputs\n",
    "input_list = [bin(i)[2:].zfill(7) for i in range(0,2**7)]"
   ]
  },
  {
   "cell_type": "code",
   "execution_count": null,
   "metadata": {},
   "outputs": [],
   "source": [
    "import cirq\n",
    "from itertools import product\n",
    "from cirq import X, CX, CCX\n",
    "s = cirq.Simulator()\n",
    "n = 7\n",
    "\n",
    "for input in input_list:\n",
    "    qq = cirq.LineQubit.range(10)\n",
    "    circuit = cirq.Circuit()\n",
    "\n",
    "    #We can do the initialization inside a for loop\n",
    "    for i in range(7):\n",
    "        if input[i]=='1':\n",
    "            circuit.append(X(qq[i]))\n",
    "            \n",
    "    # add qubit 0        \n",
    "    \n",
    "    \n",
    "    # add qubits 1-2\n",
    "    \n",
    "    \n",
    "    # add qubits 3-6\n",
    "    \n",
    "\n",
    "    circuit.append(cirq.measure(*qq, key='result'))\n",
    "\n",
    "    samples = s.run(circuit, repetitions=1)\n",
    "    result = samples.measurements[\"result\"]\n",
    "    # print the sum\n",
    "    print(input)\n",
    "    print(\"The sum should equal to\", sum(int(i) for i in input))\n",
    "    print(\"According to quantum circuit:\", result[0][n]+2*result[0][n+1]+4*result[0][n+2])\n",
    "    print(\"\")"
   ]
  },
  {
   "cell_type": "markdown",
   "metadata": {},
   "source": [
    "[click for our solution](B03_Adders_And_Numbers_Checking_Solutions.ipynb#task3)"
   ]
  },
  {
   "cell_type": "markdown",
   "metadata": {},
   "source": [
    "## Checking the number\n",
    "\n",
    "We have two qubits $ q_0 $ and $ q_1 $ storing an integer, and we are interested in checking whether this integer is equal to 3.\n",
    "\n",
    "Let $ q_2 $ be the qubit for output in state $ \\ket{0} $. We apply $X$ gate on $ q_2 $ if both $ q_0 $ and $q_1$ are in $ \\ket{1} $. The following circuit implements this, where the binary value of the integer $ b $ has two digits $ b_1b_0 $ and $ b_i $ is represented by $ q_i $ for $ i \\in \\{0,1\\} $.\n",
    "\n",
    "\n",
    "Note that the binary number $b_1b_0$ is assumed to be represented in the circuit such that $b_1$ corresponds to $q_1$ and $b_0$ corresponds to $q_0$ in the rest of the discussion."
   ]
  },
  {
   "cell_type": "code",
   "execution_count": null,
   "metadata": {},
   "outputs": [],
   "source": [
    "import cirq\n",
    "from cirq import X, CCX\n",
    "s = cirq.Simulator()\n",
    "\n",
    "qq = cirq.LineQubit.range(3)\n",
    "circuit = cirq.Circuit()\n",
    "\n",
    "# set qubits to 3\n",
    "circuit.append(X(qq[0]))\n",
    "circuit.append(X(qq[1]))\n",
    "\n",
    "# set qubits to 2 (should not work!)\n",
    "# circuit.append(X(qq[1]))\n",
    "\n",
    "# check wether both qubits are set to one\n",
    "circuit.append(CCX(qq[0], qq[1], qq[2]))\n",
    "circuit.append(cirq.measure(*qq, key='result'))\n",
    "\n",
    "samples = s.run(circuit, repetitions=1)\n",
    "result = samples.measurements[\"result\"]\n",
    "if result[0][2] == 1:\n",
    "    print(\"The number equals 3\")\n",
    "else:\n",
    "    print(\"The number does not equal 3\")\n",
    "\n",
    "print(circuit)"
   ]
  },
  {
   "cell_type": "markdown",
   "metadata": {},
   "source": [
    "Such a check is trivial when the binary representation of an integer contains only 1s, i.e., a multi-controled $NOT$ gate is applied on the output bit. Suppose that we have three qubits, and we are interested in checking whether their value is $ 101_2 = 5 $. In this case, the value of the output qubit is flipped if\n",
    "\n",
    "- the first qubit is in state $ \\ket{1} $,\n",
    "- the second qubit is in state $ \\ket{0} $, and\n",
    "- the third qubit is in state $ \\ket{1} $.\n",
    "\n",
    "To use a multi-controlled not gate, all control qubits should be in state $ \\ket{1} $. Therefore, this time we do pre- and post- processing for the middle qubit. We apply $X$ gate, and so the second qubit will be in state $ \\ket{1} $ when applying the multi-controlled not gate if it is originally in $ \\ket{0} $. After applying the multi-controlled not gate, we apply $X$ gate again to return the original value so that the change at this point will not affect the rest of computation.\n"
   ]
  },
  {
   "cell_type": "markdown",
   "metadata": {},
   "source": [
    "### Task 4\n",
    "Implement the algorithm that checks whether the first three qubits store the binary representation of number 5. Store the output on qubit 3."
   ]
  },
  {
   "cell_type": "code",
   "execution_count": null,
   "metadata": {},
   "outputs": [],
   "source": [
    "import cirq\n",
    "from cirq import X, I\n",
    "s = cirq.Simulator()\n",
    "\n",
    "qq = cirq.LineQubit.range(4)\n",
    "circuit = cirq.Circuit()\n",
    "\n",
    "# set qubits to 5\n",
    "circuit.append(X(qq[0]))\n",
    "circuit.append(I(qq[1]))\n",
    "circuit.append(X(qq[2]))\n",
    "\n",
    "# sanity check: set qubits to 3\n",
    "# circuit.append(X(qq[0]))\n",
    "# circuit.append(X(qq[1]))\n",
    "# circuit.append(I(qq[2]))\n",
    "\n",
    "#\n",
    "# your solution\n",
    "#\n",
    "\n",
    "circuit.append(cirq.measure(*qq, key='result'))\n",
    "\n",
    "samples = s.run(circuit, repetitions=1)\n",
    "result = samples.measurements[\"result\"]\n",
    "if result[0][3] == 1:\n",
    "    print(\"The number equals 5\")\n",
    "    if result[0][0] == 1 and result[0][1] == 0 and result[0][2] == 1:\n",
    "        print(\"You haven't forget to recover the qubits: Congratulations!\")\n",
    "    else:\n",
    "        print(\"Some of qubits have not been recoverd.\")\n",
    "else:\n",
    "    print(\"The number does not equal 5\")\n",
    "\n",
    "print(circuit)"
   ]
  },
  {
   "cell_type": "markdown",
   "metadata": {},
   "source": [
    "[click for our solution](B03_Adders_And_Numbers_Checking_Solutions.ipynb#task4)"
   ]
  },
  {
   "cell_type": "markdown",
   "metadata": {},
   "source": [
    "## Inequality constraints \n",
    "\n",
    "What if there are two qubits $ q_0 $ and $ q_1 $ storing an integer ($q_0 + 2\\cdot q_1$), and we are interested in checking whether this integer is greater than or equal to 2?\n",
    "\n",
    "In this case, we are interested in checking wheter the value of the two qubits is $10_2=2$ or $11_2=3$. In both cases, the qubit $q_1$ is in state $\\ket{1}$ and we are not interested in the state of the qubit $q_0$. Hence, the output qubit should be flipped if\n",
    "\n",
    "- the qubit $q_1$ is in state $\\ket{1}$.\n",
    "\n",
    "We can check this using a $CX$-gate where $q_1$ is the control and $q_2$ is the target qubit.\n",
    "\n",
    "The following program implements the above idea."
   ]
  },
  {
   "cell_type": "code",
   "execution_count": null,
   "metadata": {},
   "outputs": [],
   "source": [
    "import cirq\n",
    "from cirq import X, CX\n",
    "s = cirq.Simulator()\n",
    "\n",
    "for input in ['00','01','10','11']:\n",
    "    qq = cirq.LineQubit.range(4)\n",
    "    circuit = cirq.Circuit()\n",
    "\n",
    "    # initialization\n",
    "    if input[0] == '1':\n",
    "        circuit.append(X(qq[0]))\n",
    "    if input[1] == '1':\n",
    "        circuit.append(X(qq[1]))\n",
    "\n",
    "    circuit.append(CX(qq[1], qq[2]))\n",
    "    circuit.append(cirq.measure(*qq, key='result'))\n",
    "\n",
    "    samples = s.run(circuit, repetitions=1)\n",
    "    result = samples.measurements[\"result\"]\n",
    "    print(\"Input:\", input[0], input[1])\n",
    "    print(\"Value of the input:\", int(input[0])+2*int(input[1]))\n",
    "    if result[0][2] == 1:\n",
    "        print(\"The input is greater than or equal to 2\")\n",
    "    else:\n",
    "        print(\"The input is not greater than or equal to 2\")"
   ]
  },
  {
   "cell_type": "markdown",
   "metadata": {},
   "source": [
    "## Instance many-number checking \n",
    "\n",
    "We explained how to check the equality and inequality constraints. While classical computers are restricted to check one number at a time, quantum computers can do it instantly on a *superposition* of states. Hence, we can create a superposition of all possible integers represented by the input qubits using Hadamard gates, and then using the method above, we can check for equality or inequality constraints for the integers in superposition.\n",
    "\n",
    "The circuit below has four qubits. The first three qubits hold an integer, and the last qubit is the output that returns the decision of whether the input is greater than or equal to 4 or not. Note that when you measure, you will observe only one of the numbers and whether it is at least 4.\n",
    "\n",
    "Run the circuit several times to convince yourself the output is always correct."
   ]
  },
  {
   "cell_type": "code",
   "execution_count": null,
   "metadata": {},
   "outputs": [],
   "source": [
    "import cirq\n",
    "from cirq import X, H, CX\n",
    "s = cirq.Simulator()\n",
    "\n",
    "qq = cirq.LineQubit.range(4)\n",
    "circuit = cirq.Circuit()\n",
    "circuit.append(H.on_each(*(qq[0:3])))\n",
    "\n",
    "circuit.append(CX(qq[2], qq[3]))\n",
    "circuit.append(cirq.measure(*qq, key='result'))\n",
    "\n",
    "samples = s.run(circuit, repetitions=1)\n",
    "result = samples.measurements[\"result\"]\n",
    "\n",
    "number_measured = result[0][0] + 2*result[0][1] + 4*result[0][2]\n",
    "print(\"Measured input:\", number_measured)\n",
    "if result[0][3] == 1:\n",
    "    print(\"Input is greater than or equal to 4\")\n",
    "else:\n",
    "    print(\"Input is not greater than or equal to 4\")"
   ]
  },
  {
   "cell_type": "markdown",
   "metadata": {},
   "source": [
    "### Task 5\n",
    "Design a circuit that checks whether the first three qubits store either 4 or 5 in binary. \n",
    "\n",
    "*Hint:* Note that $4=100_2$ and $5=101_2$, hence the $\\ket{q_2}$ has to be set to $\\ket{1}$, and $\\ket{q_1}$ to $\\ket{0}_2$, while $\\ket{q_0}$ can be arbitrary.\n",
    "\n",
    "*Hint:* Don't forget to recover the original state of the qubit by applying $X$ gate!"
   ]
  },
  {
   "cell_type": "code",
   "execution_count": null,
   "metadata": {},
   "outputs": [],
   "source": [
    "import cirq\n",
    "from cirq import X, H\n",
    "s = cirq.Simulator()\n",
    "\n",
    "qq = cirq.LineQubit.range(4)\n",
    "circuit = cirq.Circuit()\n",
    "circuit.append(H.on_each(*(qq[0:3])))\n",
    "\n",
    "# \n",
    "# your solution\n",
    "# \n",
    "\n",
    "circuit.append(cirq.measure(*qq, key='result'))\n",
    "\n",
    "samples = s.run(circuit, repetitions=1)\n",
    "result = samples.measurements[\"result\"]\n",
    "number_measured = result[0][0] + 2*result[0][1] + 4*result[0][2]\n",
    "print(\"Number measured:\", number_measured)\n",
    "if result[0][3] == 1:\n",
    "    print(\"It is 4 or 5\")\n",
    "else:\n",
    "    print(\"It is neither 4 nor 5\")"
   ]
  },
  {
   "cell_type": "markdown",
   "metadata": {},
   "source": [
    "[click for our solution](B03_Adders_And_Numbers_Checking_Solutions.ipynb#task5)"
   ]
  }
 ],
 "metadata": {
  "kernelspec": {
   "display_name": "Python 3",
   "language": "python",
   "name": "python3"
  },
  "language_info": {
   "codemirror_mode": {
    "name": "ipython",
    "version": 3
   },
   "file_extension": ".py",
   "mimetype": "text/x-python",
   "name": "python",
   "nbconvert_exporter": "python",
   "pygments_lexer": "ipython3",
   "version": "3.7.3"
  }
 },
 "nbformat": 4,
 "nbformat_minor": 4
}
