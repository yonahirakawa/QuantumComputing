{
 "cells": [
  {
   "cell_type": "markdown",
   "metadata": {},
   "source": [
    "<table align=\"left\"  width=\"100%\"> <tr>\n",
    "        <td  style=\"background-color:#ffffff;\">\n",
    "            <a href=\"http://qworld.lu.lv\" target=\"_blank\"><img src=\"..\\images\\qworld.jpg\" width=\"35%\" align=\"left\"> </a></td>\n",
    "        <td style=\"background-color:#ffffff;vertical-align:bottom;text-align:right;\">\n",
    "            prepared by Maksim Dimitrijev (<a href=\"http://qworld.lu.lv/index.php/qlatvia/\" target=\"_blank\">QLatvia</a>)\n",
    "        </td>        \n",
    "</tr></table>"
   ]
  },
  {
   "cell_type": "markdown",
   "metadata": {},
   "source": [
    "<table width=\"100%\"><tr><td style=\"color:#bbbbbb;background-color:#ffffff;font-size:11px;font-style:italic;text-align:right;\">This cell contains some macros. If there is a problem with displaying mathematical formulas, please run this cell to load these macros. </td></tr></table>\n",
    "$ \\newcommand{\\bra}[1]{\\langle #1|} $\n",
    "$ \\newcommand{\\ket}[1]{|#1\\rangle} $\n",
    "$ \\newcommand{\\braket}[2]{\\langle #1|#2\\rangle} $\n",
    "$ \\newcommand{\\dot}[2]{ #1 \\cdot #2} $\n",
    "$ \\newcommand{\\biginner}[2]{\\left\\langle #1,#2\\right\\rangle} $\n",
    "$ \\newcommand{\\mymatrix}[2]{\\left( \\begin{array}{#1} #2\\end{array} \\right)} $\n",
    "$ \\newcommand{\\myvector}[1]{\\mymatrix{c}{#1}} $\n",
    "$ \\newcommand{\\myrvector}[1]{\\mymatrix{r}{#1}} $\n",
    "$ \\newcommand{\\mypar}[1]{\\left( #1 \\right)} $\n",
    "$ \\newcommand{\\mybigpar}[1]{ \\Big( #1 \\Big)} $\n",
    "$ \\newcommand{\\sqrttwo}{\\frac{1}{\\sqrt{2}}} $\n",
    "$ \\newcommand{\\dsqrttwo}{\\dfrac{1}{\\sqrt{2}}} $\n",
    "$ \\newcommand{\\onehalf}{\\frac{1}{2}} $\n",
    "$ \\newcommand{\\donehalf}{\\dfrac{1}{2}} $\n",
    "$ \\newcommand{\\hadamard}{ \\mymatrix{rr}{ \\sqrttwo & \\sqrttwo \\\\ \\sqrttwo & -\\sqrttwo }} $\n",
    "$ \\newcommand{\\vzero}{\\myvector{1\\\\0}} $\n",
    "$ \\newcommand{\\vone}{\\myvector{0\\\\1}} $\n",
    "$ \\newcommand{\\stateplus}{\\myvector{ \\sqrttwo \\\\  \\sqrttwo } } $\n",
    "$ \\newcommand{\\stateminus}{ \\myrvector{ \\sqrttwo \\\\ -\\sqrttwo } } $\n",
    "$ \\newcommand{\\myarray}[2]{ \\begin{array}{#1}#2\\end{array}} $\n",
    "$ \\newcommand{\\X}{ \\mymatrix{cc}{0 & 1 \\\\ 1 & 0}  } $\n",
    "$ \\newcommand{\\Z}{ \\mymatrix{rr}{1 & 0 \\\\ 0 & -1}  } $\n",
    "$ \\newcommand{\\Htwo}{ \\mymatrix{rrrr}{ \\frac{1}{2} & \\frac{1}{2} & \\frac{1}{2} & \\frac{1}{2} \\\\ \\frac{1}{2} & -\\frac{1}{2} & \\frac{1}{2} & -\\frac{1}{2} \\\\ \\frac{1}{2} & \\frac{1}{2} & -\\frac{1}{2} & -\\frac{1}{2} \\\\ \\frac{1}{2} & -\\frac{1}{2} & -\\frac{1}{2} & \\frac{1}{2} } } $\n",
    "$ \\newcommand{\\CNOT}{ \\mymatrix{cccc}{1 & 0 & 0 & 0 \\\\ 0 & 1 & 0 & 0 \\\\ 0 & 0 & 0 & 1 \\\\ 0 & 0 & 1 & 0} } $\n",
    "$ \\newcommand{\\norm}[1]{ \\left\\lVert #1 \\right\\rVert } $\n",
    "$ \\newcommand{\\pstate}[1]{ \\lceil \\mspace{-1mu} #1 \\mspace{-1.5mu} \\rfloor } $\n",
    "$ \\newcommand{\\Y}{ \\mymatrix{rr}{0 & -i \\\\ i & 0} } $ $ \\newcommand{\\S}{ \\mymatrix{rr}{1 & 0 \\\\ 0 & i} } $ \n",
    "$ \\newcommand{\\T}{ \\mymatrix{rr}{1 & 0 \\\\ 0 & e^{i \\frac{pi}{4}}} } $ \n",
    "$ \\newcommand{\\Sdg}{ \\mymatrix{rr}{1 & 0 \\\\ 0 & -i} } $ \n",
    "$ \\newcommand{\\Tdg}{ \\mymatrix{rr}{1 & 0 \\\\ 0 & e^{-i \\frac{pi}{4}}} } $"
   ]
  },
  {
   "cell_type": "markdown",
   "metadata": {},
   "source": [
    "<h1> State representation conversion and visualization </h1>"
   ]
  },
  {
   "cell_type": "markdown",
   "metadata": {},
   "source": [
    "Let's discuss whether we can convert $\\ket{\\psi} = \\alpha \\ket{0} + \\beta \\ket{1}$ into $\\ket{\\psi} = \\cos{\\frac{\\theta}{2}} \\ket{0} + e^{i\\phi} \\sin{\\frac{\\theta}{2}} \\ket{1}$ without too much pain."
   ]
  },
  {
   "cell_type": "markdown",
   "metadata": {},
   "source": [
    "<h2> Conversion </h2>\n",
    "\n",
    "For successful conversion we need to calculate $\\theta$ and $\\phi$. As the first step we can use the fact that probabilities of observing states $\\ket{0}$ and $\\ket{1}$ are:\n",
    "\n",
    "<ul>\n",
    "    <li>$\\mathopen|\\alpha\\mathclose|^2$ and $\\mathopen|\\beta\\mathclose|^2$,</li>\n",
    "    <li>$(\\cos{\\frac{\\theta}{2}})^2$ and $(\\sin{\\frac{\\theta}{2}})^2$,</li>\n",
    "</ul>\n",
    "\n",
    "respectively. From this fact we can find the value of $\\theta$, i.e., $\\frac{\\theta}{2} = arcsin \\mypar{ \\sqrt{ \\mathopen|\\beta\\mathclose|^2 } } = arcsin (\\mathopen|\\beta\\mathclose|)$. Since $0 \\leq \\theta \\leq \\pi$, $0 \\leq arcsin (|\\beta\\mathclose|) \\leq \\frac{\\pi}{2}$, and so we do not need to distinguish different cases, $arcsin$ gives us the exact angle. Therefore, we have $\\theta = 2 \\cdot arcsin (\\mathopen|\\beta\\mathclose|)$."
   ]
  },
  {
   "cell_type": "markdown",
   "metadata": {},
   "source": [
    "After that we need to calculate the local phase $e^{i\\phi}$. For this purpose we can first find $a' = \\frac{\\alpha}{\\mathopen|\\alpha\\mathclose|}$ and $b' = \\frac{\\beta}{\\mathopen|\\beta\\mathclose|}$, and we obtain $a'$ and $b'$ each with absolute value 1. Then we need to convert these complex numbers into their polar forms. \n",
    "\n",
    "How can we do this? \n",
    "\n",
    "If $a' = c + di$ and $a' = e^{i\\lambda}$, then we can calculate $\\lambda$ as $arcsin(\\mathopen| d \\mathclose|)$ and guess the quadrant of the angle $\\lambda$ by knowing the signs of $c$ and $d$:\n",
    "<ul>\n",
    "    <li>if $c \\geq 0$ and $d \\geq 0$, then $0 \\leq \\lambda \\leq \\frac{\\pi}{2}$;</li>\n",
    "    <li>if $c < 0$ and $d \\geq 0$, then $\\frac{\\pi}{2} < \\lambda \\leq \\pi$;</li>\n",
    "    <li>if $c < 0$ and $d < 0$, then $\\pi < \\lambda < \\frac{3\\pi}{2}$;</li>\n",
    "    <li>if $c \\geq 0$ and $d < 0$, then $\\frac{3\\pi}{2} \\leq \\lambda < 2\\pi$.</li>\n",
    "</ul>\n",
    "Similarly, we can calculate $\\eta$ for $b' = e^{i\\eta}$.\n",
    "\n",
    "The mentioned operations provide us $\\ket{\\psi} = e^{i\\lambda} \\cos{\\frac{\\theta}{2}} \\ket{0} + e^{i\\eta} \\sin{\\frac{\\theta}{2}} \\ket{1}$, and the final step is to get rid of global phase: \n",
    "\n",
    "$$e^{i\\lambda} \\cos{\\frac{\\theta}{2}} \\ket{0} + e^{i\\eta} \\sin{\\frac{\\theta}{2}} \\ket{1} = e^{i\\lambda} (\\cos{\\frac{\\theta}{2}} \\ket{0} + e^{i(\\eta - \\lambda)} \\sin{\\frac{\\theta}{2}} \\ket{1}) = \\cos{\\frac{\\theta}{2}} \\ket{0} + e^{i(\\eta - \\lambda)} \\sin{\\frac{\\theta}{2}} \\ket{1}.$$ \n",
    "\n",
    "We get $\\phi = \\eta - \\lambda$."
   ]
  },
  {
   "cell_type": "markdown",
   "metadata": {},
   "source": [
    "<h3> Task 1 </h3>\n",
    "\n",
    "Implement a function in Python that takes quantum state $\\alpha \\ket{0} + \\beta \\ket{1}$ as two complex numbers $\\alpha$ and $\\beta$ and returns the angles $\\theta$ and $\\phi$ of the corresponding state $\\ket{\\psi} = \\cos{\\frac{\\theta}{2}} \\ket{0} + e^{i\\phi} \\sin{\\frac{\\theta}{2}} \\ket{1}$.\n",
    "\n",
    "Test it with the state $\\frac{1}{\\sqrt{2}} \\ket{0} + \\frac{1}{\\sqrt{2}}i \\ket{1}$."
   ]
  },
  {
   "cell_type": "code",
   "execution_count": null,
   "metadata": {},
   "outputs": [],
   "source": [
    "#\n",
    "# your solution is here\n",
    "#\n"
   ]
  },
  {
   "cell_type": "markdown",
   "metadata": {},
   "source": [
    "<a href=\"C06_State_Conversion_And_Visualization_Solutions.ipynb#task1\">click for our solution</a>"
   ]
  },
  {
   "cell_type": "markdown",
   "metadata": {},
   "source": [
    "<h2> Visualization </h2>\n",
    "\n",
    "We can visualize the state $\\ket{\\psi} = \\cos{\\frac{\\theta}{2}} \\ket{0} + e^{i\\phi} \\sin{\\frac{\\theta}{2}} \\ket{1}$ by separately drawing angles $\\frac{\\theta}{2}$ and $\\phi$. In the next notebook we will combine the visualization of both angles.\n",
    "\n",
    "Suppose that we have $\\theta = \\frac{\\pi}{2}$ and $\\phi = \\frac{4\\pi}{3}$.\n",
    "\n",
    "First, we draw angle $\\frac{\\theta}{2}$ to see which state ($\\ket{0}$ or $\\ket{1}$) has higher probability to be observed - higher absolute value of the amplitude."
   ]
  },
  {
   "cell_type": "code",
   "execution_count": 2,
   "metadata": {},
   "outputs": [
    {
     "data": {
      "image/png": "[encoded data removed]",
      "text/plain": [
       "<Figure size 360x360 with 1 Axes>"
      ]
     },
     "metadata": {
      "needs_background": "light"
     },
     "output_type": "display_data"
    }
   ],
   "source": [
    "theta = 90 #pi/2\n",
    "myangle = theta/2\n",
    "\n",
    "from matplotlib.pyplot import figure,gca\n",
    "from matplotlib.patches import Arc\n",
    "from math import sin,cos,pi\n",
    "\n",
    "\n",
    "%run qlatvia.py\n",
    "%run drawing.py\n",
    "\n",
    "#matplotlib.pyplot.subplot(1, 2, 1)\n",
    "figure(figsize=(6,6), dpi=60)\n",
    "draw_real_part()\n",
    "gca().add_patch( Arc((0,0),2,2,angle=0,theta1=0,theta2=90,color=\"black\",linewidth=2) )\n",
    "gca().add_patch( Arc((0,0),2,2,angle=0,theta1=0,theta2=myangle,color=\"blue\",linewidth=2) )\n",
    "myangle_in_radian = 2*pi*(myangle/360)\n",
    "x = cos(myangle_in_radian)\n",
    "y = sin(myangle_in_radian)\n",
    "\n",
    "draw_quantum_state(x,y,\"|v>\")"
   ]
  },
  {
   "cell_type": "markdown",
   "metadata": {},
   "source": [
    "After that we draw angle $\\phi$ to see the local phase."
   ]
  },
  {
   "cell_type": "code",
   "execution_count": null,
   "metadata": {},
   "outputs": [],
   "source": [
    "from matplotlib.pyplot import figure,gca\n",
    "from matplotlib.patches import Arc\n",
    "from math import sin,cos,pi\n",
    "\n",
    "%run qlatvia.py\n",
    "%run drawing.py\n",
    "\n",
    "phi = 240\n",
    "\n",
    "draw_imaginary_part()\n",
    "gca().add_patch( Arc((0,0),2,2,angle=0,theta1=0,theta2=phi,color=\"blue\",linewidth=2) )\n",
    "myangle_in_radian = 2*pi*(phi/360)\n",
    "x = cos(myangle_in_radian)\n",
    "y = sin(myangle_in_radian)\n",
    "\n",
    "draw_quantum_state(x,y,\"|v>\")"
   ]
  },
  {
   "cell_type": "markdown",
   "metadata": {},
   "source": [
    "As you can see, the visualization of a complex quantum state in two parts is quite demonstrative. The visualization of angle $\\frac{\\theta}{2}$ gives us sense about which state has bigger amplitude, and so - higher probability to be observed. The angle $\\phi$ clearly represents the local phase, and also gives an idea about how to convert the value into regular form of a complex number. Note that since the absolute value is always equal to 1, this does not affect the probabilities of the states to be observed.\n",
    "\n",
    "To convert the representation of the state $\\ket{\\psi} = \\cos{\\frac{\\theta}{2}} \\ket{0} + e^{i\\phi} \\sin{\\frac{\\theta}{2}} \\ket{1}$ into $\\ket{\\psi} = \\alpha \\ket{0} + \\beta \\ket{1}$, we need the following operations:\n",
    "\n",
    "<ul>\n",
    "    <li>calculate $\\alpha = \\cos{\\frac{\\theta}{2}}$ and calculate $\\sin{\\frac{\\theta}{2}}$;</li>\n",
    "    <li>convert $e^{i\\phi} = \\cos \\phi + \\sin \\phi \\cdot i$, and so we get $\\beta = \\sin{\\frac{\\theta}{2}} (\\cos \\phi + \\sin \\phi \\cdot i)$.</li>\n",
    "</ul>\n",
    "\n",
    "As a result we obtain $\\ket{\\psi} = (\\cos{\\frac{\\theta}{2}}) \\ket{0} + (\\sin{\\frac{\\theta}{2}} (\\cos \\phi + \\sin \\phi \\cdot i)) \\ket{1} = \\cos{\\frac{\\theta}{2}} \\ket{0} + e^{i\\phi} \\sin{\\frac{\\theta}{2}} \\ket{1}$."
   ]
  },
  {
   "cell_type": "markdown",
   "metadata": {},
   "source": [
    "<h3> Task 2 </h3>\n",
    "\n",
    "Implement a function in Python that takes quantum state $\\cos{\\frac{\\theta}{2}} \\ket{0} + e^{i\\phi} \\sin{\\frac{\\theta}{2}} \\ket{1}$ as two numbers $\\frac{\\theta}{2}$ and $\\phi$ and returns the amplitudes $\\alpha$ and $\\beta$ of the corresponding state $\\alpha \\ket{0} + \\beta \\ket{1}$.\n",
    "\n",
    "Test it with the state $\\cos{\\frac{\\pi/2}{2}} \\ket{0} + e^{i\\frac{\\pi}{2}} \\sin{\\frac{\\pi/2}{2}} \\ket{1}$."
   ]
  },
  {
   "cell_type": "code",
   "execution_count": null,
   "metadata": {},
   "outputs": [],
   "source": [
    "#\n",
    "# your solution is here\n",
    "#\n"
   ]
  },
  {
   "cell_type": "markdown",
   "metadata": {},
   "source": [
    "<a href=\"C06_State_Conversion_And_Visualization_Solutions.ipynb#task2\">click for our solution</a>"
   ]
  },
  {
   "cell_type": "markdown",
   "metadata": {},
   "source": [
    "<h3> Task 3 </h3>\n",
    "\n",
    "Implement the code to visualize arbitrary state $\\ket{\\psi} = \\cos{\\frac{\\theta}{2}} \\ket{0} + e^{i\\phi} \\sin{\\frac{\\theta}{2}} \\ket{1}$.\n",
    "\n",
    "Test it with angles $\\frac{\\theta}{2} = \\frac{\\pi/2}{2}$ and $\\phi = \\frac{4\\pi}{3}$."
   ]
  },
  {
   "cell_type": "code",
   "execution_count": null,
   "metadata": {},
   "outputs": [],
   "source": [
    "#\n",
    "# your solution is here\n",
    "#\n"
   ]
  },
  {
   "cell_type": "markdown",
   "metadata": {},
   "source": [
    "<a href=\"C06_State_Conversion_And_Visualization_Solutions.ipynb#task3\">click for our solution</a>"
   ]
  },
  {
   "cell_type": "markdown",
   "metadata": {},
   "source": [
    "<h3> Task 4 </h3>\n",
    "\n",
    "Implement the code to visualize arbitrary state $\\ket{\\psi} = \\alpha \\ket{0} + \\beta \\ket{1}$. You can do the conversion first, and then use the visualization from the previous task.\n",
    "\n",
    "Test it with the state $\\frac{1}{\\sqrt{2}} \\ket{0} + \\frac{1}{\\sqrt{2}}i \\ket{1}$."
   ]
  },
  {
   "cell_type": "code",
   "execution_count": null,
   "metadata": {},
   "outputs": [],
   "source": [
    "#\n",
    "# your solution is here\n",
    "#\n"
   ]
  },
  {
   "cell_type": "markdown",
   "metadata": {},
   "source": [
    "<a href=\"C06_State_Conversion_And_Visualization_Solutions.ipynb#task4\">click for our solution</a>"
   ]
  }
 ],
 "metadata": {
  "kernelspec": {
   "display_name": "Python 3",
   "language": "python",
   "name": "python3"
  },
  "language_info": {
   "codemirror_mode": {
    "name": "ipython",
    "version": 3
   },
   "file_extension": ".py",
   "mimetype": "text/x-python",
   "name": "python",
   "nbconvert_exporter": "python",
   "pygments_lexer": "ipython3",
   "version": "3.7.3"
  }
 },
 "nbformat": 4,
 "nbformat_minor": 2
}
