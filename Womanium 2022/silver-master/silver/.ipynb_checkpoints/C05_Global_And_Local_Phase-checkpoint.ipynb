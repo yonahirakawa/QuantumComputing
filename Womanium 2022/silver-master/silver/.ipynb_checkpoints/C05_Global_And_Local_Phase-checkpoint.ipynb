{
 "cells": [
  {
   "cell_type": "markdown",
   "metadata": {},
   "source": [
    "<table align=\"left\"  width=\"100%\"> <tr>\n",
    "        <td  style=\"background-color:#ffffff;\">\n",
    "            <a href=\"http://qworld.lu.lv\" target=\"_blank\"><img src=\"..\\images\\qworld.jpg\" width=\"35%\" align=\"left\"> </a></td>\n",
    "        <td style=\"background-color:#ffffff;vertical-align:bottom;text-align:right;\">\n",
    "            prepared by Maksim Dimitrijev (<a href=\"http://qworld.lu.lv/index.php/qlatvia/\" target=\"_blank\">QLatvia</a>) and Aurél Gábris\n",
    "        </td>        \n",
    "</tr></table>"
   ]
  },
  {
   "cell_type": "markdown",
   "metadata": {},
   "source": [
    "<table width=\"100%\"><tr><td style=\"color:#bbbbbb;background-color:#ffffff;font-size:11px;font-style:italic;text-align:right;\">This cell contains some macros. If there is a problem with displaying mathematical formulas, please run this cell to load these macros. </td></tr></table>\n",
    "$ \\newcommand{\\bra}[1]{\\langle #1|} $\n",
    "$ \\newcommand{\\ket}[1]{|#1\\rangle} $\n",
    "$ \\newcommand{\\braket}[2]{\\langle #1|#2\\rangle} $\n",
    "$ \\newcommand{\\dot}[2]{ #1 \\cdot #2} $\n",
    "$ \\newcommand{\\biginner}[2]{\\left\\langle #1,#2\\right\\rangle} $\n",
    "$ \\newcommand{\\mymatrix}[2]{\\left( \\begin{array}{#1} #2\\end{array} \\right)} $\n",
    "$ \\newcommand{\\myvector}[1]{\\mymatrix{c}{#1}} $\n",
    "$ \\newcommand{\\myrvector}[1]{\\mymatrix{r}{#1}} $\n",
    "$ \\newcommand{\\mypar}[1]{\\left( #1 \\right)} $\n",
    "$ \\newcommand{\\mybigpar}[1]{ \\Big( #1 \\Big)} $\n",
    "$ \\newcommand{\\sqrttwo}{\\frac{1}{\\sqrt{2}}} $\n",
    "$ \\newcommand{\\dsqrttwo}{\\dfrac{1}{\\sqrt{2}}} $\n",
    "$ \\newcommand{\\onehalf}{\\frac{1}{2}} $\n",
    "$ \\newcommand{\\donehalf}{\\dfrac{1}{2}} $\n",
    "$ \\newcommand{\\hadamard}{ \\mymatrix{rr}{ \\sqrttwo & \\sqrttwo \\\\ \\sqrttwo & -\\sqrttwo }} $\n",
    "$ \\newcommand{\\vzero}{\\myvector{1\\\\0}} $\n",
    "$ \\newcommand{\\vone}{\\myvector{0\\\\1}} $\n",
    "$ \\newcommand{\\stateplus}{\\myvector{ \\sqrttwo \\\\  \\sqrttwo } } $\n",
    "$ \\newcommand{\\stateminus}{ \\myrvector{ \\sqrttwo \\\\ -\\sqrttwo } } $\n",
    "$ \\newcommand{\\myarray}[2]{ \\begin{array}{#1}#2\\end{array}} $\n",
    "$ \\newcommand{\\X}{ \\mymatrix{cc}{0 & 1 \\\\ 1 & 0}  } $\n",
    "$ \\newcommand{\\Z}{ \\mymatrix{rr}{1 & 0 \\\\ 0 & -1}  } $\n",
    "$ \\newcommand{\\Htwo}{ \\mymatrix{rrrr}{ \\frac{1}{2} & \\frac{1}{2} & \\frac{1}{2} & \\frac{1}{2} \\\\ \\frac{1}{2} & -\\frac{1}{2} & \\frac{1}{2} & -\\frac{1}{2} \\\\ \\frac{1}{2} & \\frac{1}{2} & -\\frac{1}{2} & -\\frac{1}{2} \\\\ \\frac{1}{2} & -\\frac{1}{2} & -\\frac{1}{2} & \\frac{1}{2} } } $\n",
    "$ \\newcommand{\\CNOT}{ \\mymatrix{cccc}{1 & 0 & 0 & 0 \\\\ 0 & 1 & 0 & 0 \\\\ 0 & 0 & 0 & 1 \\\\ 0 & 0 & 1 & 0} } $\n",
    "$ \\newcommand{\\norm}[1]{ \\left\\lVert #1 \\right\\rVert } $\n",
    "$ \\newcommand{\\pstate}[1]{ \\lceil \\mspace{-1mu} #1 \\mspace{-1.5mu} \\rfloor } $\n",
    "$ \\newcommand{\\Y}{ \\mymatrix{rr}{0 & -i \\\\ i & 0} } $ $ \\newcommand{\\S}{ \\mymatrix{rr}{1 & 0 \\\\ 0 & i} } $ \n",
    "$ \\newcommand{\\T}{ \\mymatrix{rr}{1 & 0 \\\\ 0 & e^{i \\frac{pi}{4}}} } $ \n",
    "$ \\newcommand{\\Sdg}{ \\mymatrix{rr}{1 & 0 \\\\ 0 & -i} } $ \n",
    "$ \\newcommand{\\Tdg}{ \\mymatrix{rr}{1 & 0 \\\\ 0 & e^{-i \\frac{pi}{4}}} } $\n",
    "$ \\newcommand{\\qgate}[1]{ \\mathop{\\textit{#1} } }$"
   ]
  },
  {
   "cell_type": "markdown",
   "metadata": {},
   "source": [
    "<h1> Global and local phase </h1>"
   ]
  },
  {
   "cell_type": "markdown",
   "metadata": {},
   "source": [
    "A generic qubit can be in state $\\ket{\\psi} = \\alpha \\ket{0} + \\beta \\ket{1}$, where $\\alpha, \\beta \\in \\mathbb{C}$ and $\\mathopen|\\alpha\\mathclose|^2 + \\mathopen|\\beta\\mathclose|^2 = 1$. Both amplitudes can be complex values, and each complex number has a real and an imaginary part. Therefore, we have 4 different numbers that describe the state of a qubit. \n",
    "\n",
    "Can we have more concise way to represent the state of a qubit? Understanding of complex numbers and global and local phase can help us to improve the situation."
   ]
  },
  {
   "cell_type": "markdown",
   "metadata": {},
   "source": [
    "<h2> Another representation of a state </h2>\n",
    "\n",
    "At the given moment we have 4 numbers to represent the state of a qubit. We can reduce this to three numbers, since $\\mathopen|\\alpha\\mathclose|^2 + \\mathopen|\\beta\\mathclose|^2 = 1$. How the result will look like? Since there is a correspondence between two amplitudes and complex numbers can be represented in polar form, the community has found the following representation of the state of a qubit with three angles:\n",
    "\n",
    "$$\n",
    "\\ket{\\psi} = e^{i\\delta} ( \\cos{\\frac{\\theta}{2}} \\ket{0} + e^{i\\phi} \\sin{\\frac{\\theta}{2}} \\ket{1} ),\n",
    "$$\n",
    "\n",
    "where $0 \\leq \\theta \\leq \\pi$ and $0 \\leq \\phi, \\delta < 2\\pi$."
   ]
  },
  {
   "cell_type": "markdown",
   "metadata": {},
   "source": [
    "<h2> Global phase </h2>\n",
    "\n",
    "Suppose that we have a qubit and its state is either $ \\ket{\\psi} $ or $ e^{i\\delta} \\ket{\\psi} $, where $0 \\leq \\delta < 2\\pi$.\n",
    "\n",
    "Is there any sequence of one-qubit gates such that we can measure different results after applying them?"
   ]
  },
  {
   "cell_type": "markdown",
   "metadata": {},
   "source": [
    "All one-qubit gates are $ 2 \\times 2 $ matrices, and their application is represented by a single matrix: $ A_n \\cdot \\cdots \\cdot A_2 \\cdot A_1 = A $.\n",
    "\n",
    "By linearity, if $ A \\ket{\\psi} = \\ket{u} $, then $ A e^{i\\delta} \\ket{\\psi} = e^{i\\delta} \\ket{u} $. Thus, after measurement, the probabilities of observing state $ \\ket{0} $ and state $ \\ket{1} $ are the same in both cases. Therefore, we cannot distinguish them.\n",
    "\n",
    "Even though the states $ \\ket{0} $ and $ e^{i\\delta} \\ket{0} $ are different mathematically, they are assumed the same from the physical point of view. "
   ]
  },
  {
   "cell_type": "markdown",
   "metadata": {},
   "source": [
    "The complex number $ e^{i\\delta} $ in front of $ e^{i\\delta} \\ket{\\psi} $ is called as _global phase_.\n",
    "\n",
    "Therefore, two vectors that differ by a global phase factor, in quantum mechanics are considered equivalent, and so we have $ \\ket{\\psi} \\equiv e^{i\\delta} \\ket{\\psi} $ for any quantum state $\\ket{\\psi}$ and any $0 \\leq \\delta < 2\\pi$.\n",
    "\n",
    "Now we can describe the state of a qubit with two numbers - angles $\\theta$ and $\\phi$:\n",
    "\n",
    "$$\n",
    "\\ket{\\psi} = \\cos{\\frac{\\theta}{2}} \\ket{0} + e^{i\\phi} \\sin{\\frac{\\theta}{2}} \\ket{1},\n",
    "$$\n",
    "\n",
    "where $0 \\leq \\theta \\leq \\pi$ and $0 \\leq \\phi < 2\\pi$."
   ]
  },
  {
   "cell_type": "markdown",
   "metadata": {},
   "source": [
    "<h2> Local phase </h2>\n",
    "\n",
    "In our last form of the state representation we have an amplitude multiplier $e^{i\\phi}$. What if we have a similar multiplier also for the amplitude of state $\\ket{0}$? \n",
    "\n",
    "Then we would have the following state: \n",
    "\n",
    "$$e^{i\\gamma} \\cos{\\frac{\\theta}{2}} \\ket{0} + e^{i\\phi} \\sin{\\frac{\\theta}{2}} \\ket{1} = e^{i\\gamma}(\\cos{\\frac{\\theta}{2}} \\ket{0} + e^{i(\\phi-\\gamma)} \\sin{\\frac{\\theta}{2}} \\ket{1}) = \\cos{\\frac{\\theta}{2}} \\ket{0} + e^{i(\\phi-\\gamma)} \\sin{\\frac{\\theta}{2}} \\ket{1}.$$ \n",
    "\n",
    "Therefore, there is no need for second such multiplier, and having one related to the state $\\ket{1}$ is a convention.\n",
    "\n",
    "One more useful fact is that $\\mathopen|e^{i\\phi}\\mathclose| = 1$ for any $\\phi$. This means that this multiplier does not affect the probabilities to observe state $\\ket{0}$ or $\\ket{1}$ after the measurement. This means that only parameter $\\theta$ influences the probability to observe state $\\ket{0}$ or $\\ket{1}$ after the measurement.\n",
    "\n",
    "Although $e^{i\\phi}$ does not influence the measurement outcome, it influences the overall computation, as you could notice in previous notebook, where we affected the phase for the state $\\ket{1}$. The number $e^{i\\phi}$ shows additional relation between states $\\ket{0}$ and $\\ket{1}$, like one more dimension added to the computation, and is called local phase. As you have noticed, local phase indeed is important for the computation."
   ]
  },
  {
   "cell_type": "markdown",
   "metadata": {},
   "source": [
    "<h3> Task 1 </h3>\n",
    "\n",
    "Find the probabilities of observing states $\\ket{0}$ and $\\ket{1}$ for the qubits in the following states:\n",
    "\n",
    "<ul>\n",
    "    <li>$\\cos{\\frac{\\pi}{3}} \\ket{0} + e^{i\\pi} \\sin{\\frac{\\pi}{3}} \\ket{1}$</li>\n",
    "    <li>$\\cos{\\frac{\\pi}{4}} \\ket{0} + e^{i\\frac{\\pi}{4}} \\sin{\\frac{\\pi}{4}} \\ket{1}$</li>\n",
    "    <li>$\\cos{\\frac{\\pi}{6}} \\ket{0} + i \\sin{\\frac{\\pi}{6}} \\ket{1}$</li>\n",
    "</ul>"
   ]
  },
  {
   "cell_type": "markdown",
   "metadata": {},
   "source": [
    "<a href=\"C05_Global_And_Local_Phase_Solutions.ipynb#task1\">click for our solution</a>"
   ]
  },
  {
   "cell_type": "markdown",
   "metadata": {},
   "source": [
    "<h3> Task 2 </h3>\n",
    "\n",
    "Implement a function that calculates the probabilities of observing states $\\ket{0}$ and $\\ket{1}$ given the angle of a quantum state. Assuming that the quantum state is of the form $\\cos{\\frac{\\theta}{2}} \\ket{0} + e^{i\\phi} \\sin{\\frac{\\theta}{2}} \\ket{1}$, $\\theta$ and $\\phi$ should be provided to the function as parameters. Check the quantum states given in Task 1 and compare the results."
   ]
  },
  {
   "cell_type": "code",
   "execution_count": null,
   "metadata": {},
   "outputs": [],
   "source": [
    "#\n",
    "# your solution is here\n",
    "#\n"
   ]
  },
  {
   "cell_type": "markdown",
   "metadata": {},
   "source": [
    "<a href=\"C05_Global_And_Local_Phase_Solutions.ipynb#task2\">click for our solution</a>"
   ]
  },
  {
   "cell_type": "markdown",
   "metadata": {},
   "source": [
    "<h2> An overall phase is significant for controlled operations </h2>\n",
    "<hr>"
   ]
  },
  {
   "cell_type": "markdown",
   "metadata": {},
   "source": [
    "<h3> $\\qgate{CRZ}$ and $\\qgate{CP}$ gates"
   ]
  },
  {
   "cell_type": "markdown",
   "metadata": {},
   "source": [
    "We have seen that an overall complex phase factor $e^{i\\varphi}$, called *global phase*, can be dropped or inserted into the mathematical expressions for quantum states $\\ket{\\psi}$. In the previous sections we have also observed that an overall multiplication of single qubit rotations are also irrelevant. For example, the phase gate,\n",
    "$$\n",
    "\\qgate{P}(\\lambda) = \\mymatrix{rr}{1 & 0 \\\\ 0& e^{i\\lambda} }\n",
    "$$\n",
    "and the $z$-rotation gate\n",
    "$$\n",
    "\\qgate{RZ}(\\lambda) = \\mymatrix{rr}{ e^{-i\\lambda/2} & 0 \\\\ 0& e^{i\\lambda/2} }\n",
    "$$\n",
    "are related to each other as\n",
    "$$\n",
    "    \\qgate{RZ}'(\\lambda) = e^{i\\lambda/2} \\qgate{RZ}(\\lambda),\n",
    "$$\n",
    "and lead to the same rotation on the Bloch sphere.\n",
    " \n",
    "We might think that their controlled versions, $\\qgate{CRZ}$ and $\\qgate{CP}$ will also lead to the same operations:"
   ]
  },
  {
   "cell_type": "code",
   "execution_count": 48,
   "metadata": {},
   "outputs": [
    {
     "data": {
      "image/png": "[encoded data removed]",
      "text/plain": [
       "<Figure size 146.652x204.68 with 1 Axes>"
      ]
     },
     "execution_count": 48,
     "metadata": {},
     "output_type": "execute_result"
    }
   ],
   "source": [
    "from qiskit import QuantumRegister, ClassicalRegister, QuantumCircuit, execute, Aer\n",
    "lambda_angle = pi/4\n",
    "circuit1 = QuantumCircuit(2,2)\n",
    "circuit1.crz(lambda_angle,1,0)\n",
    "circuit1.draw(output='mpl')"
   ]
  },
  {
   "cell_type": "code",
   "execution_count": 49,
   "metadata": {},
   "outputs": [
    {
     "data": {
      "image/png": "[encoded data removed]",
      "text/plain": [
       "<Figure size 206.852x204.68 with 1 Axes>"
      ]
     },
     "execution_count": 49,
     "metadata": {},
     "output_type": "execute_result"
    }
   ],
   "source": [
    "circuit2 = QuantumCircuit(2,2)\n",
    "circuit2.cp(lambda_angle, 1,0)\n",
    "circuit2.draw(output='mpl')"
   ]
  },
  {
   "cell_type": "markdown",
   "metadata": {},
   "source": [
    "These two controlled gates are, however, not equivalent. We can tell this immediately, by considering the effect of swapping the two qubits: $\\qgate{CRZ}'(\\lambda) := \\qgate{SWAP} \\qgate{CRZ}(\\lambda) \\qgate{SWAP}$ and $\\qgate{CP}'(\\lambda) := \\qgate{SWAP} \\qgate{CP}(\\lambda) \\qgate{SWAP}$. Then the basis states will be mapped as\n",
    "<ul>\n",
    "    <li>$ \\qgate{CRZ}'(\\lambda) \\ket{00} = \\ket{00} $, </li>\n",
    "    <li>$ \\qgate{CRZ}'(\\lambda) \\ket{01} = e^{-i\\lambda/2} \\ket{01} $, </li>\n",
    "    <li>$ \\qgate{CRZ}'(\\lambda) \\ket{10} = \\ket{10}$, </li>\n",
    "    <li>$ \\qgate{CRZ}'(\\lambda) \\ket{11} = e^{i\\lambda/2} \\ket{11}$,</li>\n",
    "</ul>\n",
    "and\n",
    "<ul>\n",
    "    <li>$ \\qgate{CP}'(\\lambda) \\ket{00} = \\ket{00} $, </li>\n",
    "    <li>$ \\qgate{CP}'(\\lambda) \\ket{01} = \\ket{01} $, </li>\n",
    "    <li>$ \\qgate{CP}'(\\lambda) \\ket{10} = \\ket{10}$, </li>\n",
    "    <li>$ \\qgate{CP}'(\\lambda) \\ket{11} = e^{i\\lambda} \\ket{11}$. </li>\n",
    "</ul>\n",
    "We see that while $RZ$ changes, the $\\qgate{CP}$ stays the same if we swap the to qubits. This latter property is reflected also in the quantum circuit notation: it is denoted by symmetric symbol. "
   ]
  },
  {
   "cell_type": "markdown",
   "metadata": {},
   "source": [
    "How the two $\\qgate{CRZ}$ and $\\qgate{CP}$ are related to each other? It turns out that this is very simple: the difference is just a single $\\qgate{P}(\\lambda/2)$ on the *control* qubit. Let us consider the quantum circuit depicted below."
   ]
  },
  {
   "cell_type": "code",
   "execution_count": 51,
   "metadata": {},
   "outputs": [
    {
     "data": {
      "image/png": "[encoded data removed]",
      "text/plain": [
       "<Figure size 206.852x204.68 with 1 Axes>"
      ]
     },
     "execution_count": 51,
     "metadata": {},
     "output_type": "execute_result"
    }
   ],
   "source": [
    "circuit3 = QuantumCircuit(2,2)\n",
    "circuit3.p(lambda_angle/2,1)\n",
    "circuit3.crz(lambda_angle,1,0)\n",
    "circuit3.draw(output='mpl')"
   ]
  },
  {
   "cell_type": "markdown",
   "metadata": {},
   "source": [
    "The effect of this circuit on the basis states can be computed:\n",
    "<ul>\n",
    "    <li>$ \\qgate{RZ}(\\lambda) (\\qgate{P}(\\lambda) \\otimes I) \\ket{00} = \\qgate{RZ}(\\lambda) \\ket{00} = \\ket{00} $, </li>\n",
    "    <li>$ \\qgate{RZ}(\\lambda) (\\qgate{P}(\\lambda) \\otimes I) \\ket{01} = \\qgate{RZ}(\\lambda) \\ket{01} = \\ket{01} $, </li>\n",
    "    <li>$ \\qgate{RZ}(\\lambda) (\\qgate{P}(\\lambda) \\otimes I) \\ket{10} = \\qgate{RZ}(\\lambda) e^{i\\lambda/2} \\ket{10} =  e^{i\\lambda/2}  \\qgate{RZ}(\\lambda)\\ket{10} =\\ket{10}$, </li>\n",
    "    <li>$ \\qgate{RZ}(\\lambda) (\\qgate{P}(\\lambda) \\otimes I) \\ket{11} = \\qgate{RZ}(\\lambda) e^{i\\lambda/2} \\ket{11} = e^{i\\lambda/2} \\qgate{RZ}(\\lambda) \\ket{11} =e^{i\\lambda} \\ket{11}$, </li>\n",
    "</ul>\n",
    "and is the same as the effect of the $\\qgate{CP}(\\lambda)$ gate. We can also convince ourselves that the order of $\\qgate{RZ}$ and $\\qgate{P}$ does not make any difference, i.e. we can shift the $\\qgate{P}$ gate left-right along the quantum wire."
   ]
  },
  {
   "cell_type": "markdown",
   "metadata": {},
   "source": [
    "Will this phase ever make a difference in the measurement statistics? The code below shows an example where it indeed does! The above relation to the single qubit phase $\\qgate{P}$ can help us to understanding why."
   ]
  },
  {
   "cell_type": "code",
   "execution_count": 95,
   "metadata": {},
   "outputs": [
    {
     "name": "stdout",
     "output_type": "stream",
     "text": [
      "Checking CRZ gate\n"
     ]
    },
    {
     "data": {
      "image/png": "[encoded data removed]",
      "text/plain": [
       "<Figure size 267.052x204.68 with 1 Axes>"
      ]
     },
     "metadata": {},
     "output_type": "display_data"
    },
    {
     "name": "stdout",
     "output_type": "stream",
     "text": [
      "00 🠖 {'10': 1024}\n",
      "01 🠖 {'11': 1024}\n",
      "10 🠖 {'00': 1024}\n",
      "11 🠖 {'01': 1024}\n",
      "\n",
      "\n",
      "---------------------------------\n",
      "Checking CP gate\n"
     ]
    },
    {
     "data": {
      "image/png": "[encoded data removed]",
      "text/plain": [
       "<Figure size 267.052x204.68 with 1 Axes>"
      ]
     },
     "metadata": {},
     "output_type": "display_data"
    },
    {
     "name": "stdout",
     "output_type": "stream",
     "text": [
      "00 🠖 {'00': 1024}\n",
      "01 🠖 {'01': 1024}\n",
      "10 🠖 {'10': 1024}\n",
      "11 🠖 {'11': 1024}\n"
     ]
    }
   ],
   "source": [
    "from qiskit import QuantumRegister, ClassicalRegister, QuantumCircuit, execute, Aer\n",
    "\n",
    "def check_controlled_gate_phase(cgate):\n",
    "    for i in range(4):\n",
    "        circuit4 = QuantumCircuit(2,2)\n",
    "        if (i&1)==1: circuit4.x(0)\n",
    "        if ((i>>1)&1)==1: circuit4.x(1)\n",
    "        \n",
    "        lambda_angle=2*pi\n",
    "\n",
    "        circuit4.h(1)\n",
    "        if (cgate=='crz'):\n",
    "            circuit4.crz(lambda_angle, 1,0)\n",
    "        if (cgate=='cp'):\n",
    "            circuit4.cp(lambda_angle, 1,0)\n",
    "        circuit4.h(1)\n",
    "      \n",
    "        if i==0:\n",
    "            display(circuit4.draw(output='mpl'))\n",
    "    \n",
    "        circuit4.measure([0,1], [0,1])\n",
    "    \n",
    "        job = execute(circuit4, Aer.get_backend('qasm_simulator'),shots=1024)\n",
    "        print(format(i,\"02b\"),\"🠖\", job.result().get_counts(circuit4))\n",
    "\n",
    "\n",
    "print(\"Checking CRZ gate\")\n",
    "check_controlled_gate_phase('crz')\n",
    "\n",
    "print(\"\\n\\n---------------------------------\")\n",
    "print(\"Checking CP gate\")\n",
    "check_controlled_gate_phase('cp')"
   ]
  },
  {
   "cell_type": "markdown",
   "metadata": {},
   "source": [
    "<h3> Task $n$ </h3>\n",
    "\n",
    "Construct the $\\qgate{CP}$ gate in a circuit using the $\\qgate{RZ}$ gate and the $\\qgate{P}$ gate."
   ]
  },
  {
   "cell_type": "code",
   "execution_count": null,
   "metadata": {},
   "outputs": [],
   "source": []
  }
 ],
 "metadata": {
  "kernelspec": {
   "display_name": "Python 3",
   "language": "python",
   "name": "python3"
  },
  "language_info": {
   "codemirror_mode": {
    "name": "ipython",
    "version": 3
   },
   "file_extension": ".py",
   "mimetype": "text/x-python",
   "name": "python",
   "nbconvert_exporter": "python",
   "pygments_lexer": "ipython3",
   "version": "3.7.3"
  }
 },
 "nbformat": 4,
 "nbformat_minor": 2
}
