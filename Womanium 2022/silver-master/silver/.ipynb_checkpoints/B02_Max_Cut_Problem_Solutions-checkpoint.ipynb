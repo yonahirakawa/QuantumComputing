{
 "cells": [
  {
   "cell_type": "markdown",
   "metadata": {},
   "source": [
    "<table  align=\"left\" width=\"100%\"> <tr>\n",
    "        <td  style=\"background-color:#ffffff;\"><a href=\"https://qsoftware.lu.lv/index.php/qworld/\" target=\"_blank\"><img src=\"..\\images\\qworld.jpg\" width=\"35%\" align=\"left\"></a></td>\n",
    "        <td  align=\"right\" style=\"background-color:#ffffff;vertical-align:bottom;horizontal-align:right\">\n",
    "            prepared by <a href=\"https://iitis.pl/pl/person/aglos\" target=\"_blank\"  >Adam Glos</a>\n",
    "        </td>        \n",
    "</tr></table>"
   ]
  },
  {
   "cell_type": "markdown",
   "metadata": {},
   "source": [
    "<table width=\"100%\"><tr><td style=\"color:#bbbbbb;background-color:#ffffff;font-size:11px;font-style:italic;text-align:right;\">This cell contains some macros. If there is a problem with displaying mathematical formulas, please run this cell to load these macros. </td></tr></table>\n",
    "$ \\newcommand{\\bra}[1]{\\langle #1|} $\n",
    "$ \\newcommand{\\ket}[1]{|#1\\rangle} $\n",
    "$ \\newcommand{\\braket}[2]{\\langle #1|#2\\rangle} $\n",
    "$ \\newcommand{\\dot}[2]{ #1 \\cdot #2} $\n",
    "$ \\newcommand{\\biginner}[2]{\\left\\langle #1,#2\\right\\rangle} $\n",
    "$ \\newcommand{\\mymatrix}[2]{\\left( \\begin{array}{#1} #2\\end{array} \\right)} $\n",
    "$ \\newcommand{\\myvector}[1]{\\mymatrix{c}{#1}} $\n",
    "$ \\newcommand{\\myrvector}[1]{\\mymatrix{r}{#1}} $\n",
    "$ \\newcommand{\\mypar}[1]{\\left( #1 \\right)} $\n",
    "$ \\newcommand{\\mybigpar}[1]{ \\Big( #1 \\Big)} $\n",
    "$ \\newcommand{\\sqrttwo}{\\frac{1}{\\sqrt{2}}} $\n",
    "$ \\newcommand{\\dsqrttwo}{\\dfrac{1}{\\sqrt{2}}} $\n",
    "$ \\newcommand{\\onehalf}{\\frac{1}{2}} $\n",
    "$ \\newcommand{\\donehalf}{\\dfrac{1}{2}} $\n",
    "$ \\newcommand{\\hadamard}{ \\mymatrix{rr}{ \\sqrttwo & \\sqrttwo \\\\ \\sqrttwo & -\\sqrttwo }} $\n",
    "$ \\newcommand{\\vzero}{\\myvector{1\\\\0}} $\n",
    "$ \\newcommand{\\vone}{\\myvector{0\\\\1}} $\n",
    "$ \\newcommand{\\vhadamardzero}{\\myvector{ \\sqrttwo \\\\  \\sqrttwo } } $\n",
    "$ \\newcommand{\\vhadamardone}{ \\myrvector{ \\sqrttwo \\\\ -\\sqrttwo } } $\n",
    "$ \\newcommand{\\myarray}[2]{ \\begin{array}{#1}#2\\end{array}} $\n",
    "$ \\newcommand{\\X}{ \\mymatrix{cc}{0 & 1 \\\\ 1 & 0}  } $\n",
    "$ \\newcommand{\\Z}{ \\mymatrix{rr}{1 & 0 \\\\ 0 & -1}  } $\n",
    "$ \\newcommand{\\Htwo}{ \\mymatrix{rrrr}{ \\frac{1}{2} & \\frac{1}{2} & \\frac{1}{2} & \\frac{1}{2} \\\\ \\frac{1}{2} & -\\frac{1}{2} & \\frac{1}{2} & -\\frac{1}{2} \\\\ \\frac{1}{2} & \\frac{1}{2} & -\\frac{1}{2} & -\\frac{1}{2} \\\\ \\frac{1}{2} & -\\frac{1}{2} & -\\frac{1}{2} & \\frac{1}{2} } } $\n",
    "$ \\newcommand{\\CNOT}{ \\mymatrix{cccc}{1 & 0 & 0 & 0 \\\\ 0 & 1 & 0 & 0 \\\\ 0 & 0 & 0 & 1 \\\\ 0 & 0 & 1 & 0} } $\n",
    "$ \\newcommand{\\norm}[1]{ \\left\\lVert #1 \\right\\rVert } $\n",
    "$ \\newcommand{\\pstate}[1]{ \\lceil \\mspace{-1mu} #1 \\mspace{-1.5mu} \\rfloor } $"
   ]
  },
  {
   "cell_type": "markdown",
   "metadata": {},
   "source": [
    "# <font color=\"blue\"> Solutions for </font> Max-Cut Problem"
   ]
  },
  {
   "cell_type": "markdown",
   "metadata": {},
   "source": [
    "<a id=\"task1\"></a>\n",
    "### Task 1\n",
    "    \n",
    "Let's implement the idea given above. We have a graph with 4 vertices, and so we have a circuit with 4 qubits. \n",
    "\n",
    "Represent the following coloring of the given graph in the quantum circuit.\n",
    "\n",
    "<img src=\"../images/graphcolor1.png\" width=\"25%\" align=\"center\">"
   ]
  },
  {
   "cell_type": "markdown",
   "metadata": {},
   "source": [
    "<h3> Solution </h3>"
   ]
  },
  {
   "cell_type": "code",
   "execution_count": null,
   "metadata": {},
   "outputs": [],
   "source": [
    "import cirq\n",
    "from cirq import X, I\n",
    "\n",
    "qq = cirq.LineQubit.range(4)\n",
    "circuit = cirq.Circuit()\n",
    "\n",
    "circuit.append(X(qq[1]))\n",
    "circuit.append(X(qq[2]))\n",
    "\n",
    "circuit.append(cirq.measure(*qq, key='result'))\n",
    "print(circuit)\n",
    "\n",
    "s = cirq.Simulator()\n",
    "samples = s.run(circuit, repetitions=1)\n",
    "result = samples.measurements[\"result\"]\n",
    "\n",
    "# decode the solution\n",
    "for qubit in range(4):\n",
    "    if result[0][qubit] == 0:\n",
    "        print(\"Qubit\",qubit, \"is red\")\n",
    "    else:\n",
    "        print(\"Qubit\",qubit, \"is blue\")"
   ]
  },
  {
   "cell_type": "markdown",
   "metadata": {},
   "source": [
    "<a id=\"task2\"></a>\n",
    "### Task 2\n",
    "\n",
    "For the given graph below, implement the first two steps of the oracle described above. \n",
    "\n",
    "The first four qubits are used for vertices.\n",
    "\n",
    "The next three qubits are used for edges.\n",
    "\n",
    "The last qubit is used for the output.\n",
    "\n",
    "Remark that the last qubit should be in state $ \\ket{1} $ (resp., $\\ket{0}$) if the coloring of the vertices is correct (resp., incorrect).\n",
    "\n",
    "Test your implementation with different colorings.\n",
    "\n",
    "<img src=\"../images/bipartite.png\" width=\"25%\" align=\"center\">"
   ]
  },
  {
   "cell_type": "markdown",
   "metadata": {},
   "source": [
    "<h3> Solution </h3>"
   ]
  },
  {
   "cell_type": "code",
   "execution_count": null,
   "metadata": {},
   "outputs": [],
   "source": [
    "import cirq\n",
    "from cirq import X, CX\n",
    "s = cirq.Simulator()\n",
    "\n",
    "qq = cirq.LineQubit.range(8)\n",
    "circuit = cirq.Circuit()\n",
    "# correct coloring\n",
    "circuit.append(X(qq[0]))\n",
    "circuit.append(X(qq[1]))\n",
    "\n",
    "# incorrect coloring\n",
    "# circuit.append(X(qq[0]))\n",
    "\n",
    "# check 0-2 edge and store at 4th qubit\n",
    "circuit.append(CX(qq[0], qq[4]))\n",
    "circuit.append(CX(qq[2], qq[4]))\n",
    "# check 0-3 edge and store at 5th qubit\n",
    "circuit.append(CX(qq[0], qq[5]))\n",
    "circuit.append(CX(qq[3], qq[5]))\n",
    "# check 1-3 edge and store at 6th qubit\n",
    "circuit.append(CX(qq[1], qq[6]))\n",
    "circuit.append(CX(qq[3], qq[6]))\n",
    "\n",
    "# check all edge qubits\n",
    "circuit.append(X(qq[7]).controlled_by(*(qq[4:7])))\n",
    "\n",
    "circuit.append(cirq.measure(*qq, key='result'))\n",
    "samples = s.run(circuit, repetitions=1)\n",
    "result = samples.measurements[\"result\"]\n",
    "# 0 - first (and only measurement)\n",
    "# 7 - last qubit\n",
    "output = result[0][7] \n",
    "print(\"Measurement output: \", output)\n",
    "if output == 1:\n",
    "    print(\"correct coloring (graph is bipartite)\")\n",
    "else:\n",
    "    print(\"incorrect coloring\")\n",
    "print(circuit)"
   ]
  },
  {
   "cell_type": "markdown",
   "metadata": {},
   "source": [
    "<a id=\"task3\"></a>\n",
    "### Task 3 \n",
    "\n",
    "For the given graphs below, iterate Grover’s search algorithm 2 steps to find the correct colorings. (There are indeed $k=2$ possible colorings, and so the oracle should be applied $\\frac{\\pi}{4}\\sqrt{\\frac{2^4}{k}}\\approx 2$ times.) \n",
    "\n",
    "You will use nine qubits: 4 for vertices, 4 for edges, and 1 for the output qubit.\n",
    "\n",
    "The diffusion operator is provided below.\n",
    "\n",
    "Observe which outcomes have the higher frequencies.\n",
    "\n",
    "\n",
    "<img src=\"../images/completebipartite.png\" width=\"25%\" align=\"center\">"
   ]
  },
  {
   "cell_type": "markdown",
   "metadata": {},
   "source": [
    "<h3> Solution </h3>"
   ]
  },
  {
   "cell_type": "code",
   "execution_count": null,
   "metadata": {},
   "outputs": [],
   "source": [
    "import cirq\n",
    "from cirq import X, H, Z, inverse, CX\n",
    "s = cirq.Simulator()\n",
    "\n",
    "qq = cirq.LineQubit.range(9)\n",
    "\n",
    "def edge_check(a, b, c):\n",
    "    yield CX(qq[a], qq[c])\n",
    "    yield CX(qq[b], qq[c])\n",
    "\n",
    "def oracle():\n",
    "    # check 0-2 edge and store at 4th qubit\n",
    "    yield edge_check(0, 2, 4)\n",
    "    # check 0-3 edge and store at 5th qubit\n",
    "    yield edge_check(0, 3, 5)\n",
    "    # check 1-2 edge and store at 6th qubit\n",
    "    yield edge_check(1, 2, 6)\n",
    "    # check 1-3 edge and store at 7th qubit\n",
    "    yield edge_check(1, 3, 7)\n",
    "\n",
    "    # check all edge qubits\n",
    "    yield X(qq[8]).controlled_by(*(qq[4:8]))\n",
    "    \n",
    "def oracle_computation():\n",
    "    yield oracle()\n",
    "    yield Z(qq[8])\n",
    "    yield inverse(oracle())    \n",
    "\n",
    "def grover_diffusion():\n",
    "    yield H.on_each(*qq)\n",
    "    yield X.on_each(*qq)\n",
    "    yield Z(qq[3]).controlled_by(*(qq[0:3]))\n",
    "    yield X.on_each(*qq)\n",
    "    yield H.on_each(*qq)\n",
    "\n",
    "circuit = cirq.Circuit()\n",
    "circuit.append(H.on_each(*(qq[0:4])))\n",
    "for i in range(2):\n",
    "    circuit.append(oracle_computation())\n",
    "    circuit.append(grover_diffusion())\n",
    "\n",
    "# we are only intertested in outputs of first 4 qubits\n",
    "circuit.append(cirq.measure(*(qq[0:4]), key='result'))\n",
    "\n",
    "# determine the statistics of the measurements\n",
    "trials_number = 1000\n",
    "samples = s.run(circuit, repetitions=trials_number)\n",
    "result = samples.measurements[\"result\"]\n",
    "\n",
    "def bitstring(bits):\n",
    "    return \"\".join(str(int(b)) for b in bits)\n",
    "\n",
    "counts = samples.histogram(key=\"result\",fold_func=bitstring)\n",
    "print(counts)"
   ]
  },
  {
   "cell_type": "markdown",
   "metadata": {},
   "source": [
    "Note that the states '0011' and '1100' are the most commonly observed states."
   ]
  },
  {
   "cell_type": "code",
   "execution_count": null,
   "metadata": {},
   "outputs": [],
   "source": [
    "print(\"Probability of measuring 0011: \", counts.get('0011')/trials_number)\n",
    "print(\"Probability of measuring 1100: \", counts.get('1100')/trials_number)"
   ]
  },
  {
   "cell_type": "markdown",
   "metadata": {},
   "source": [
    "<a id=\"task4\"></a>\n",
    "### Task 4\n",
    "\n",
    "Repeat Task 3 for the following graph.\n",
    "\n",
    "Does the following graph has any correct colorings or not? If not, what would you say in advance about the frequencies of the outcomes?\n",
    "\n",
    "\n",
    "<img src=\"../images/nonbipartite.png\" width=\"25%\" align=\"center\">"
   ]
  },
  {
   "cell_type": "markdown",
   "metadata": {},
   "source": [
    "<h3> Solution </h3>"
   ]
  },
  {
   "cell_type": "code",
   "execution_count": null,
   "metadata": {},
   "outputs": [],
   "source": [
    "import cirq\n",
    "from cirq import X, H, Z, inverse, CX\n",
    "s = cirq.Simulator()\n",
    "\n",
    "qq = cirq.LineQubit.range(9)\n",
    "\n",
    "def oracle_computation():\n",
    "    # check 0-1 edge and store at 4th qubit\n",
    "    yield edge_check(0, 1, 4)\n",
    "    # check 0-2 edge and store at 5th qubit\n",
    "    yield edge_check(0, 2, 5)\n",
    "    # check 0-3 edge and store at 6th qubit\n",
    "    yield edge_check(0, 3, 6)\n",
    "    # check 1-3 edge and store at 7th qubit\n",
    "    yield edge_check(1, 3, 7)\n",
    "\n",
    "    # check all edge qubits\n",
    "    yield X(qq[8]).controlled_by(*(qq[4:8]))\n",
    "\n",
    "def oracle():\n",
    "    yield oracle_computation()\n",
    "    yield Z(qq[8])\n",
    "    yield inverse(oracle_computation())    \n",
    "    \n",
    "def grover_diffusion():\n",
    "    yield H.on_each(*qq)\n",
    "    yield X.on_each(*qq)\n",
    "    yield Z(qq[3]).controlled_by(*(qq[0:3]))\n",
    "    yield X.on_each(*qq)\n",
    "    yield H.on_each(*qq)\n",
    "\n",
    "circuit = cirq.Circuit()\n",
    "circuit.append(H.on_each(*(qq[0:4])))\n",
    "\n",
    "for i in range(2):\n",
    "    circuit.append(oracle())\n",
    "    circuit.append(grover_diffusion())\n",
    "\n",
    "# we are only intertested in outputs of first 4 qubits\n",
    "circuit.append(cirq.measure(*(qq[0:4]), key='result'))\n",
    "\n",
    "# determine the statistics of the measurements\n",
    "trials_number = 10000\n",
    "samples = s.run(circuit, repetitions=trials_number)\n",
    "result = samples.measurements[\"result\"]\n",
    "\n",
    "# create an histogram of the result\n",
    "def bitstring(bits):\n",
    "    return \"\".join(str(int(b)) for b in bits)\n",
    "\n",
    "counts = samples.histogram(key=\"result\",fold_func=bitstring)\n",
    "print(counts)"
   ]
  },
  {
   "cell_type": "markdown",
   "metadata": {},
   "source": [
    "We observe that all strings have almost the same occurence. The reason is that there is no correct coloring."
   ]
  }
 ],
 "metadata": {
  "kernelspec": {
   "display_name": "Python 3",
   "language": "python",
   "name": "python3"
  },
  "language_info": {
   "codemirror_mode": {
    "name": "ipython",
    "version": 3
   },
   "file_extension": ".py",
   "mimetype": "text/x-python",
   "name": "python",
   "nbconvert_exporter": "python",
   "pygments_lexer": "ipython3",
   "version": "3.7.3"
  }
 },
 "nbformat": 4,
 "nbformat_minor": 4
}
