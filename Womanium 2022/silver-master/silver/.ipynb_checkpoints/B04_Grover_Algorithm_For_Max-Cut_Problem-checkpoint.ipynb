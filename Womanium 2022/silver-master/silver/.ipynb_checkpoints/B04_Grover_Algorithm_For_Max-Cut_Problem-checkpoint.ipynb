{
 "cells": [
  {
   "cell_type": "markdown",
   "metadata": {},
   "source": [
    "<table  align=\"left\" width=\"100%\"> <tr>\n",
    "        <td  style=\"background-color:#ffffff;\"><a href=\"https://qsoftware.lu.lv/index.php/qworld/\" target=\"_blank\"><img src=\"..\\images\\qworld.jpg\" width=\"35%\" align=\"left\"></a></td>\n",
    "        <td  align=\"right\" style=\"background-color:#ffffff;vertical-align:bottom;horizontal-align:right\">\n",
    "            prepared by <a href=\"https://iitis.pl/pl/person/aglos\" target=\"_blank\"  >Adam Glos</a> and Özlem Salehi\n",
    "        </td>        \n",
    "</tr></table>"
   ]
  },
  {
   "cell_type": "markdown",
   "metadata": {},
   "source": [
    "<table width=\"100%\"><tr><td style=\"color:#bbbbbb;background-color:#ffffff;font-size:11px;font-style:italic;text-align:right;\">This cell contains some macros. If there is a problem with displaying mathematical formulas, please run this cell to load these macros. </td></tr></table>\n",
    "$ \\newcommand{\\bra}[1]{\\langle #1|} $\n",
    "$ \\newcommand{\\ket}[1]{|#1\\rangle} $\n",
    "$ \\newcommand{\\braket}[2]{\\langle #1|#2\\rangle} $\n",
    "$ \\newcommand{\\dot}[2]{ #1 \\cdot #2} $\n",
    "$ \\newcommand{\\biginner}[2]{\\left\\langle #1,#2\\right\\rangle} $\n",
    "$ \\newcommand{\\mymatrix}[2]{\\left( \\begin{array}{#1} #2\\end{array} \\right)} $\n",
    "$ \\newcommand{\\myvector}[1]{\\mymatrix{c}{#1}} $\n",
    "$ \\newcommand{\\myrvector}[1]{\\mymatrix{r}{#1}} $\n",
    "$ \\newcommand{\\mypar}[1]{\\left( #1 \\right)} $\n",
    "$ \\newcommand{\\mybigpar}[1]{ \\Big( #1 \\Big)} $\n",
    "$ \\newcommand{\\sqrttwo}{\\frac{1}{\\sqrt{2}}} $\n",
    "$ \\newcommand{\\dsqrttwo}{\\dfrac{1}{\\sqrt{2}}} $\n",
    "$ \\newcommand{\\onehalf}{\\frac{1}{2}} $\n",
    "$ \\newcommand{\\donehalf}{\\dfrac{1}{2}} $\n",
    "$ \\newcommand{\\hadamard}{ \\mymatrix{rr}{ \\sqrttwo & \\sqrttwo \\\\ \\sqrttwo & -\\sqrttwo }} $\n",
    "$ \\newcommand{\\vzero}{\\myvector{1\\\\0}} $\n",
    "$ \\newcommand{\\vone}{\\myvector{0\\\\1}} $\n",
    "$ \\newcommand{\\vhadamardzero}{\\myvector{ \\sqrttwo \\\\  \\sqrttwo } } $\n",
    "$ \\newcommand{\\vhadamardone}{ \\myrvector{ \\sqrttwo \\\\ -\\sqrttwo } } $\n",
    "$ \\newcommand{\\myarray}[2]{ \\begin{array}{#1}#2\\end{array}} $\n",
    "$ \\newcommand{\\X}{ \\mymatrix{cc}{0 & 1 \\\\ 1 & 0}  } $\n",
    "$ \\newcommand{\\Z}{ \\mymatrix{rr}{1 & 0 \\\\ 0 & -1}  } $\n",
    "$ \\newcommand{\\Htwo}{ \\mymatrix{rrrr}{ \\frac{1}{2} & \\frac{1}{2} & \\frac{1}{2} & \\frac{1}{2} \\\\ \\frac{1}{2} & -\\frac{1}{2} & \\frac{1}{2} & -\\frac{1}{2} \\\\ \\frac{1}{2} & \\frac{1}{2} & -\\frac{1}{2} & -\\frac{1}{2} \\\\ \\frac{1}{2} & -\\frac{1}{2} & -\\frac{1}{2} & \\frac{1}{2} } } $\n",
    "$ \\newcommand{\\CNOT}{ \\mymatrix{cccc}{1 & 0 & 0 & 0 \\\\ 0 & 1 & 0 & 0 \\\\ 0 & 0 & 0 & 1 \\\\ 0 & 0 & 1 & 0} } $\n",
    "$ \\newcommand{\\norm}[1]{ \\left\\lVert #1 \\right\\rVert } $\n",
    "$ \\newcommand{\\pstate}[1]{ \\lceil \\mspace{-1mu} #1 \\mspace{-1.5mu} \\rfloor } $"
   ]
  },
  {
   "cell_type": "markdown",
   "metadata": {},
   "source": [
    "#  Grover Algorithm for Max-Cut Problem\n",
    "\n",
    "Finally, we are ready to implement the Grover algorithm for the Max-Cut problem. \n",
    "\n",
    "For the initialization, we will apply Hadamard gate to the qubits representing the color of each vertex. We know how to implement the Grover diffusion operator. Now we need to implement an oracle which will \"mark\" the colorings in which there are $k$ edges whose endpoints are colored using different colors.\n",
    "\n",
    "For the oracle, the procedure goes as follows:\n",
    "\n",
    "* Implement edge checking for each edge (check whether an edge has endpoints with different colors).\n",
    "* Sum the outputs of edge checking step.\n",
    "* Check whether the sum is equal to (or greater) $k$ and save the flag on the auxillary qubit.\n",
    "* Apply $Z$ gate on the auxillary qubit.\n",
    "\n",
    "The oracle works for the decision version of the problem which checks whether there exists a coloring such that there are at least $k$ edges whose endpoints are colored using different colors. How to find the maximum size for the cut?\n",
    "\n",
    "Suppose that $k$ is a three-digit number $b_2b_1b_0$. First, we should check whether there is a coloring such that $b_2$ is equal to 1. If it is, then we check if there is a coloring such that $b_2=1$ and $b_1=1$. Otherwise, we should check for the coloring such that $b_2=0$ and $b_1$=1. This way, by doing the binary search over binary representation, we can finally find the cut of maximal size."
   ]
  },
  {
   "cell_type": "markdown",
   "metadata": {},
   "source": [
    "Let us consider the following graph.\n",
    "<img src=\"../images/path3.png\" width=\"25%\" align=\"center\">\n",
    "\n",
    "We will check whether there is a coloring such that two edges connect vertices with a different color. To check that we will verify, whether for number $b_1b_0$, $b_1$ is set to 1. We will use:\n",
    "* Three qubits (0-2) for vertices.\n",
    "* Two qubits (3-4) for edges.\n",
    "* Two qubits (5-6) for storing the sum.\n",
    "* Single qubit (7) for the auxillary qubit.\n",
    "\n",
    "Since qubit 7 stores the flag, that is whether $b_1$ is set to 1 or not, we will apply the $Z$ gate on that qubit.\n",
    "\n",
    "Below we present the final Grover algorithm. Note that there are two such solutions, so we apply the oracle only once."
   ]
  },
  {
   "cell_type": "code",
   "execution_count": 1,
   "metadata": {},
   "outputs": [
    {
     "name": "stdout",
     "output_type": "stream",
     "text": [
      "Random guess probability: 0.125\n",
      "Probability of obsering 010 :  0.5003\n",
      "Probability of obsering 101 :  0.4997\n"
     ]
    }
   ],
   "source": [
    "import cirq\n",
    "from cirq import H, Z, X, inverse, CX, CCX\n",
    "s = cirq.Simulator()\n",
    "\n",
    "def oracle_computation():\n",
    "    #edge checking\n",
    "    yield CX(qq[0], qq[3])\n",
    "    yield CX(qq[1], qq[3])\n",
    "    yield CX(qq[1], qq[4])\n",
    "    yield CX(qq[2], qq[4])\n",
    "    \n",
    "    #adding qubit 3\n",
    "    yield CX(qq[3], qq[5])\n",
    "    \n",
    "    #adding qubit 4\n",
    "    yield CCX(qq[4], qq[5], qq[6])\n",
    "    yield CX(qq[4], qq[5])\n",
    "    \n",
    "    #check if b1 is equal to 1 and store the result in the auxillary qubit\n",
    "    yield CX(qq[6], qq[7])\n",
    "\n",
    "def oracle():\n",
    "    yield oracle_computation()\n",
    "    yield Z(qq[7])\n",
    "    yield inverse(oracle_computation())\n",
    "\n",
    "def grover_diffusion():\n",
    "    yield H.on_each(*(qq[:3]))\n",
    "    yield X.on_each(*(qq[:3]))\n",
    "    yield Z(qq[2]).controlled_by(qq[0], qq[1])\n",
    "    yield X.on_each(*(qq[:3]))\n",
    "    yield H.on_each(*(qq[:3]))\n",
    "\n",
    "\n",
    "# the Grover algorithm\n",
    "qq = cirq.LineQubit.range(8)\n",
    "circuit = cirq.Circuit()\n",
    "circuit.append(H.on_each(*(qq[0:3])))\n",
    "\n",
    "for i in range(1):\n",
    "    circuit.append(oracle())\n",
    "    circuit.append(grover_diffusion())\n",
    "    \n",
    "circuit.append(cirq.measure(*qq[0:3], key='result'))\n",
    "\n",
    "# determine the statistics of the measurements\n",
    "trials_number = 10_000\n",
    "samples = s.run(circuit, repetitions=trials_number)\n",
    "\n",
    "print(\"Random guess probability:\", 1./2**3)\n",
    "\n",
    "# create an histogram of the result\n",
    "def bitstring(bits):\n",
    "    return \"\".join(str(int(b)) for b in bits)\n",
    "counts = samples.histogram(key=\"result\",fold_func=bitstring)\n",
    "for state, c in counts.items():\n",
    "    print(\"Probability of obsering\", state, \": \" ,c/trials_number)"
   ]
  },
  {
   "cell_type": "markdown",
   "metadata": {},
   "source": [
    "We observe that the Grover's Search outputs 101 and 010, which are the two colorings where there are 2 edges connecting vertices with different colors. "
   ]
  },
  {
   "cell_type": "markdown",
   "metadata": {},
   "source": [
    "In the remaining of this notebook, you will apply the same algorithm for other graphs. "
   ]
  },
  {
   "cell_type": "markdown",
   "metadata": {},
   "source": [
    "### Task 1\n",
    "\n",
    "Implement the Grover algorithm for the following graph\n",
    "<img src=\"../images/completebipartite.png\" width=\"25%\" align=\"center\">\n",
    "\n",
    "and check whether there is a coloring in which there are exactly four edges connecting vertices with a different color. Apply the oracle twice."
   ]
  },
  {
   "cell_type": "code",
   "execution_count": null,
   "metadata": {},
   "outputs": [],
   "source": [
    "import cirq\n",
    "from cirq import H, Z, X, inverse, I, CX, CCX\n",
    "s = cirq.Simulator()\n",
    "\n",
    "# 0-3: vertices\n",
    "# ?-?: edge checking\n",
    "# ?-?: the number\n",
    "# ?-?: auxillary\n",
    "\n",
    "def oracle_computation():\n",
    "    #\n",
    "    # your solution goes here\n",
    "    # \n",
    "\n",
    "def oracle():    \n",
    "    #\n",
    "    # your solution goes here\n",
    "    # \n",
    "    \n",
    "def grover_diffusion():\n",
    "    #\n",
    "    # your solution goes here\n",
    "    # \n",
    "\n",
    "# the Grover algorithm\n",
    "qq = cirq.LineQubit.range(12) \n",
    "circuit = cirq.Circuit()\n",
    "circuit.append(H.on_each(*(qq[0:4])))\n",
    "\n",
    "for i in range(2):\n",
    "    circuit.append(oracle())\n",
    "    circuit.append(grover_diffusion())\n",
    "circuit.append(cirq.measure(*qq[0:4], key='result'))\n",
    "\n",
    "# determine the statistics of the measurements\n",
    "trials_number = 10_000\n",
    "samples = s.run(circuit, repetitions=trials_number)\n",
    "result = samples.measurements[\"result\"]\n",
    "\n",
    "print(\"Random guess probability:\", 1/2**4)\n",
    "# create an histogram of the result\n",
    "def bitstring(bits):\n",
    "    return \"\".join(str(int(b)) for b in bits)\n",
    "counts = samples.histogram(key=\"result\",fold_func=bitstring)\n",
    "for state, c in counts.items():\n",
    "    print(\"Probability of observing\", state, \": \" ,c/trials_number)"
   ]
  },
  {
   "cell_type": "markdown",
   "metadata": {},
   "source": [
    "[click for our solution](B04_Grover_Algorithm_For_Max-Cut_Problem_Solutions.ipynb#task1)"
   ]
  },
  {
   "cell_type": "markdown",
   "metadata": {},
   "source": [
    "### Task 2\n",
    "\n",
    "Implement the Grover Algorithm for the following graph\n",
    "<img src=\"../images/finalgrover1.png\" width=\"25%\" align=\"center\">\n",
    "\n",
    "and check whether there is coloring with six or more edges connecting vertices with a different color. Apply the oracle twice. \n",
    "\n",
    "*Hint*: Note that you may check only two bits of the number."
   ]
  },
  {
   "cell_type": "code",
   "execution_count": null,
   "metadata": {},
   "outputs": [],
   "source": [
    "import cirq\n",
    "from cirq import H, Z, X, inverse, CX, CCX\n",
    "s = cirq.Simulator()\n",
    "\n",
    "#\n",
    "# your solution\n",
    "# \n",
    "\n",
    "# determine the statistics of the measurements\n",
    "trials_number = 10_000\n",
    "samples = s.run(circuit, repetitions=trials_number)\n",
    "result = samples.measurements[\"result\"]\n",
    "\n",
    "print(\"Random guess probability:\", 1/2**5)\n",
    "# create an histogram of the result\n",
    "def bitstring(bits):\n",
    "    return \"\".join(str(int(b)) for b in bits)\n",
    "counts = samples.histogram(key=\"result\",fold_func=bitstring)\n",
    "for state, c in counts.items():\n",
    "    print(\"Probability of observing\", state, \": \" ,c/trials_number)"
   ]
  },
  {
   "cell_type": "markdown",
   "metadata": {},
   "source": [
    "[click for our solution](B04_Grover_Algorithm_For_Max-Cut_Problem_Solutions.ipynb#task2)"
   ]
  },
  {
   "cell_type": "markdown",
   "metadata": {},
   "source": [
    "## Final remarks\n",
    "\n",
    "We have successfully implemented the Grover's Search algorithm for the Max-Cut problem. Congratulations! However, there are several interesting additional facts.\n",
    "\n",
    "Currently for each edge, we have a separate qubit. We could reuse a single qubit at the cost of additional quantum gates. While the circuit would be longer, we could save some qubits.\n",
    "\n",
    "Next, for each task, the number of iterations was given. While for bipartiteness checking we know there are always exactly two answers, this may not be the case for the Max-Cut problem. Fortunately, there is a *quantum counting algorithm*, which can efficiently determine the number of solutions and hence the number of iterations."
   ]
  }
 ],
 "metadata": {
  "kernelspec": {
   "display_name": "Python 3",
   "language": "python",
   "name": "python3"
  },
  "language_info": {
   "codemirror_mode": {
    "name": "ipython",
    "version": 3
   },
   "file_extension": ".py",
   "mimetype": "text/x-python",
   "name": "python",
   "nbconvert_exporter": "python",
   "pygments_lexer": "ipython3",
   "version": "3.7.3"
  }
 },
 "nbformat": 4,
 "nbformat_minor": 4
}
