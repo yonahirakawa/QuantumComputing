{
 "cells": [
  {
   "cell_type": "markdown",
   "metadata": {},
   "source": [
    "<a href=\"https://qworld.net\" target=\"_blank\" align=\"left\"><img src=\"../qworld/images/header.jpg\"  align=\"left\"></a>\n",
    "$ \\newcommand{\\bra}[1]{\\langle #1|} $\n",
    "$ \\newcommand{\\ket}[1]{|#1\\rangle} $\n",
    "$ \\newcommand{\\braket}[2]{\\langle #1|#2\\rangle} $\n",
    "$ \\newcommand{\\dot}[2]{ #1 \\cdot #2} $\n",
    "$ \\newcommand{\\biginner}[2]{\\left\\langle #1,#2\\right\\rangle} $\n",
    "$ \\newcommand{\\mymatrix}[2]{\\left( \\begin{array}{#1} #2\\end{array} \\right)} $\n",
    "$ \\newcommand{\\myvector}[1]{\\mymatrix{c}{#1}} $\n",
    "$ \\newcommand{\\myrvector}[1]{\\mymatrix{r}{#1}} $\n",
    "$ \\newcommand{\\mypar}[1]{\\left( #1 \\right)} $\n",
    "$ \\newcommand{\\mybigpar}[1]{ \\Big( #1 \\Big)} $\n",
    "$ \\newcommand{\\sqrttwo}{\\frac{1}{\\sqrt{2}}} $\n",
    "$ \\newcommand{\\dsqrttwo}{\\dfrac{1}{\\sqrt{2}}} $\n",
    "$ \\newcommand{\\onehalf}{\\frac{1}{2}} $\n",
    "$ \\newcommand{\\donehalf}{\\dfrac{1}{2}} $\n",
    "$ \\newcommand{\\hadamard}{ \\mymatrix{rr}{ \\sqrttwo & \\sqrttwo \\\\ \\sqrttwo & -\\sqrttwo }} $\n",
    "$ \\newcommand{\\vzero}{\\myvector{1\\\\0}} $\n",
    "$ \\newcommand{\\vone}{\\myvector{0\\\\1}} $\n",
    "$ \\newcommand{\\stateplus}{\\myvector{ \\sqrttwo \\\\  \\sqrttwo } } $\n",
    "$ \\newcommand{\\stateminus}{ \\myrvector{ \\sqrttwo \\\\ -\\sqrttwo } } $\n",
    "$ \\newcommand{\\myarray}[2]{ \\begin{array}{#1}#2\\end{array}} $\n",
    "$ \\newcommand{\\X}{ \\mymatrix{cc}{0 & 1 \\\\ 1 & 0}  } $\n",
    "$ \\newcommand{\\I}{ \\mymatrix{rr}{1 & 0 \\\\ 0 & 1}  } $\n",
    "$ \\newcommand{\\Z}{ \\mymatrix{rr}{1 & 0 \\\\ 0 & -1}  } $\n",
    "$ \\newcommand{\\Htwo}{ \\mymatrix{rrrr}{ \\frac{1}{2} & \\frac{1}{2} & \\frac{1}{2} & \\frac{1}{2} \\\\ \\frac{1}{2} & -\\frac{1}{2} & \\frac{1}{2} & -\\frac{1}{2} \\\\ \\frac{1}{2} & \\frac{1}{2} & -\\frac{1}{2} & -\\frac{1}{2} \\\\ \\frac{1}{2} & -\\frac{1}{2} & -\\frac{1}{2} & \\frac{1}{2} } } $\n",
    "$ \\newcommand{\\CNOT}{ \\mymatrix{cccc}{1 & 0 & 0 & 0 \\\\ 0 & 1 & 0 & 0 \\\\ 0 & 0 & 0 & 1 \\\\ 0 & 0 & 1 & 0} } $\n",
    "$ \\newcommand{\\norm}[1]{ \\left\\lVert #1 \\right\\rVert } $\n",
    "$ \\newcommand{\\pstate}[1]{ \\lceil \\mspace{-1mu} #1 \\mspace{-1.5mu} \\rfloor } $\n",
    "$ \\newcommand{\\greenbit}[1] {\\mathbf{{\\color{green}#1}}} $\n",
    "$ \\newcommand{\\bluebit}[1] {\\mathbf{{\\color{blue}#1}}} $\n",
    "$ \\newcommand{\\redbit}[1] {\\mathbf{{\\color{red}#1}}} $\n",
    "$ \\newcommand{\\brownbit}[1] {\\mathbf{{\\color{brown}#1}}} $\n",
    "$ \\newcommand{\\blackbit}[1] {\\mathbf{{\\color{black}#1}}} $"
   ]
  },
  {
   "cell_type": "markdown",
   "metadata": {},
   "source": [
    "<font style=\"font-size:28px;\" align=\"left\"><b> Visualization of a (Real-Valued) Qubit </b></font>\n",
    "<br>\n",
    "_prepared by Abuzer Yakaryilmaz_\n",
    "<br><br>\n",
    "[<img src=\"../qworld/images/watch_lecture.jpg\" align=\"left\">](https://youtu.be/p4HjmbAmUh8)\n",
    "<br><br><br>"
   ]
  },
  {
   "cell_type": "markdown",
   "metadata": {},
   "source": [
    "_We use certain tools from python library \"<b>matplotlib.pyplot</b>\" for drawing. Check the notebook [Python: Drawing](../python/Python06_Drawing.ipynb) for the list of these tools._"
   ]
  },
  {
   "cell_type": "markdown",
   "metadata": {},
   "source": [
    "Suppose that we have a single qubit. \n",
    "\n",
    "Each possible (real-valued) quantum state of this qubit is a point on 2-dimensional space.\n",
    "\n",
    "It can also be represented as a vector from origin to that point.\n",
    "\n",
    "We start with the visual representation of the following quantum states: \n",
    "\n",
    "$$ \\ket{0} =  \\myvector{1\\\\0}, ~~ \\ket{1} = \\myvector{0\\\\1} , ~~ -\\ket{0} = \\myrvector{-1\\\\0}, ~~\\mbox{and}~~ -\\ket{1} = \\myrvector{0\\\\-1}. $$"
   ]
  },
  {
   "cell_type": "markdown",
   "metadata": {},
   "source": [
    "We draw these quantum states as points.\n",
    "\n",
    "We use one of our predefined functions for drawing axes: \"draw_axes()\". We include our predefined functions with the following line of code:\n",
    "\n",
    "    %run quantum.py"
   ]
  },
  {
   "cell_type": "code",
   "execution_count": 1,
   "metadata": {},
   "outputs": [
    {
     "data": {
      "image/png": "[encoded data removed]",
      "text/plain": [
       "<Figure size 480x480 with 1 Axes>"
      ]
     },
     "metadata": {
      "needs_background": "light"
     },
     "output_type": "display_data"
    }
   ],
   "source": [
    "# import the drawing methods\n",
    "from matplotlib.pyplot import plot, figure, show\n",
    "\n",
    "# draw a figure\n",
    "figure(figsize=(6,6), dpi=80)\n",
    "\n",
    "# include our predefined functions\n",
    "%run quantum.py\n",
    "\n",
    "# draw the axes\n",
    "draw_axes()\n",
    "\n",
    "# draw the origin\n",
    "plot(0,0,'ro') # a point in red color\n",
    "\n",
    "# draw these quantum states as points (in blue, green, yellow, and cyan colors)\n",
    "plot(1,0,'bo') \n",
    "plot(0,1,'go')\n",
    "plot(-1,0,'yo')\n",
    "plot(0,-1,'co')\n",
    "\n",
    "show()"
   ]
  },
  {
   "cell_type": "markdown",
   "metadata": {},
   "source": [
    "Now, we draw the quantum states as arrows (vectors):"
   ]
  },
  {
   "cell_type": "code",
   "execution_count": 2,
   "metadata": {},
   "outputs": [
    {
     "data": {
      "image/png": "[encoded data removed]",
      "text/plain": [
       "<Figure size 480x480 with 1 Axes>"
      ]
     },
     "metadata": {
      "needs_background": "light"
     },
     "output_type": "display_data"
    }
   ],
   "source": [
    "# import the drawing methods\n",
    "from matplotlib.pyplot import figure, arrow, show\n",
    "\n",
    "# draw a figure\n",
    "figure(figsize=(6,6), dpi=80)\n",
    "\n",
    "# include our predefined functions\n",
    "%run quantum.py\n",
    "\n",
    "# draw the axes\n",
    "draw_axes()\n",
    "\n",
    "# draw the quantum states as vectors (in red, blue, green, and yellow colors)\n",
    "arrow(0,0,0.92,0,head_width=0.04, head_length=0.08, color=\"r\")\n",
    "arrow(0,0,0,0.92,head_width=0.04, head_length=0.08, color=\"b\")\n",
    "arrow(0,0,-0.92,0,head_width=0.04, head_length=0.08, color=\"g\")\n",
    "arrow(0,0,0,-0.92,head_width=0.04, head_length=0.08, color=\"y\")\n",
    "\n",
    "show()"
   ]
  },
  {
   "cell_type": "markdown",
   "metadata": {},
   "source": [
    "<h3> Task 1 </h3>\n",
    "\n",
    "Write a function that returns a randomly created 2-dimensional (real-valued) quantum state.\n",
    "\n",
    "_You can use your code written for [a task given in notebook \"Quantum State](B28_Quantum_State.ipynb#task2)._\n",
    "\n",
    "Create 100 random quantum states by using your function and then draw all of them as points.\n",
    "\n",
    "Create 1000 random quantum states by using your function and then draw all of them as points.\n",
    "\n",
    "The different colors can be used when drawing the points ([matplotlib.colors](https://matplotlib.org/2.0.2/api/colors_api.html))."
   ]
  },
  {
   "cell_type": "code",
   "execution_count": null,
   "metadata": {},
   "outputs": [],
   "source": [
    "# import the drawing methods\n",
    "from matplotlib.pyplot import plot, figure\n",
    "\n",
    "# draw a figure\n",
    "figure(figsize=(6,6), dpi=60) \n",
    "\n",
    "# draw the origin\n",
    "plot(0,0,'ro') \n",
    "\n",
    "from random import randrange\n",
    "colors = ['ro','bo','go','yo','co','mo','ko']\n",
    "\n",
    "#\n",
    "# your solution is here\n",
    "#"
   ]
  },
  {
   "cell_type": "markdown",
   "metadata": {},
   "source": [
    "<a href=\"Q32_Visualization_of_a_Qubit_Solutions.ipynb#task1\">click for our solution</a>"
   ]
  },
  {
   "cell_type": "markdown",
   "metadata": {},
   "source": [
    "<h3> Task 2 </h3>\n",
    "\n",
    "Repeat the previous task by drawing the quantum states as vectors (arrows) instead of points.\n",
    "\n",
    "The different colors can be used when drawing the points ([matplotlib.colors](https://matplotlib.org/2.0.2/api/colors_api.html)).\n",
    "\n",
    "_Please keep the codes below for drawing axes for getting a better visual focus._"
   ]
  },
  {
   "cell_type": "code",
   "execution_count": null,
   "metadata": {},
   "outputs": [],
   "source": [
    "# import the drawing methods\n",
    "from matplotlib.pyplot import plot, figure, arrow\n",
    "\n",
    "# draw a figure\n",
    "figure(figsize=(6,6), dpi=60) \n",
    "\n",
    "# include our predefined functions\n",
    "%run quantum.py\n",
    "\n",
    "# draw the axes\n",
    "draw_axes()\n",
    "\n",
    "# draw the origin\n",
    "plot(0,0,'ro') \n",
    "\n",
    "from random import randrange\n",
    "colors = ['r','b','g','y','b','c','m']\n",
    "\n",
    "#\n",
    "# your solution is here\n",
    "#\n",
    "\n",
    "\n"
   ]
  },
  {
   "cell_type": "markdown",
   "metadata": {},
   "source": [
    "<a href=\"Q32_Visualization_of_a_Qubit_Solutions.ipynb#task2\">click for our solution</a>"
   ]
  },
  {
   "cell_type": "markdown",
   "metadata": {},
   "source": [
    "<h3> Unit circle </h3>\n",
    "\n",
    "All (real-valued) quantum states of a qubit form the unit circle.\n",
    "\n",
    "The length of each quantum state is 1.\n",
    "\n",
    "All points that are 1 unit away from the origin form the circle with radius 1 unit.\n",
    "\n",
    "We can draw the unit circle with python.\n",
    "\n",
    "We have a predefined function for drawing the unit circle: \"draw_unit_circle()\"."
   ]
  },
  {
   "cell_type": "code",
   "execution_count": null,
   "metadata": {},
   "outputs": [],
   "source": [
    "# define a figure\n",
    "from matplotlib.pyplot import figure\n",
    "figure(figsize=(6,6), dpi=80) # size of the figure\n",
    "\n",
    "# include our predefined functions\n",
    "%run quantum.py\n",
    "\n",
    "# draw axes\n",
    "draw_axes()\n",
    "\n",
    "# draw the unit circle\n",
    "draw_unit_circle()\n",
    "\n",
    "# show the diagram\n",
    "show_plt()"
   ]
  },
  {
   "cell_type": "markdown",
   "metadata": {},
   "source": [
    "<h3>Quantum state of a qubit</h3>"
   ]
  },
  {
   "cell_type": "markdown",
   "metadata": {},
   "source": [
    "Suppose that we have a single qubit. \n",
    "\n",
    "Each possible (real-valued) quantum state of this qubit is a point on 2-dimensional space.\n",
    "\n",
    "It can also be represented as a vector from origin to that point.\n",
    "\n",
    "We draw the quantum state $ \\myvector{3/5 \\\\ 4/5} $ and its elements."
   ]
  },
  {
   "cell_type": "markdown",
   "metadata": {},
   "source": [
    "<i style=\"font-size:10pt;\">\n",
    "Our predefined function \"draw_qubit()\" draws a figure, the origin, the axes, the unit circle, and base quantum states.\n",
    "<br>\n",
    "Our predefined function \"draw_quantum_state(x,y,name)\" draws an arrow from (0,0) to (x,y) and associates it with <u>name</u>.\n",
    "<br>\n",
    "We include our predefined functions with the following line of code:\n",
    "    \n",
    "    %run quantum.py\n",
    "</i>   "
   ]
  },
  {
   "cell_type": "code",
   "execution_count": null,
   "metadata": {},
   "outputs": [],
   "source": [
    "%run quantum.py\n",
    "\n",
    "draw_qubit()\n",
    "draw_quantum_state(3/5,4/5,\"|v>\")\n",
    "show_plt()"
   ]
  },
  {
   "cell_type": "markdown",
   "metadata": {},
   "source": [
    "Now, we draw its angle with $ \\ket{0} $-axis and its projections on both axes.\n",
    "\n",
    "<i> For drawing the angle, we use the method \"Arc\" from library \"matplotlib.patches\". </i> "
   ]
  },
  {
   "cell_type": "code",
   "execution_count": null,
   "metadata": {},
   "outputs": [],
   "source": [
    "%run quantum.py\n",
    "\n",
    "draw_qubit()\n",
    "\n",
    "draw_quantum_state(3/5,4/5,\"|v>\")\n",
    "\n",
    "from matplotlib.pyplot import arrow, text, gca\n",
    "\n",
    "# the projection on |0>-axis\n",
    "arrow(0,0,3/5,0,color=\"blue\",linewidth=1.5)\n",
    "arrow(0,4/5,3/5,0,color=\"blue\",linestyle='dotted')\n",
    "text(0.1,-0.1,\"cos(a)=3/5\")\n",
    "\n",
    "# the projection on |1>-axis\n",
    "arrow(0,0,0,4/5,color=\"blue\",linewidth=1.5)\n",
    "arrow(3/5,0,0,4/5,color=\"blue\",linestyle='dotted')\n",
    "text(-0.1,0.55,\"sin(a)=4/5\",rotation=\"90\")\n",
    "\n",
    "# drawing the angle with |0>-axis\n",
    "from matplotlib.patches import Arc\n",
    "gca().add_patch( Arc((0,0),0.4,0.4,angle=0,theta1=0,theta2=53) )\n",
    "text(0.08,0.05,'.',fontsize=30)\n",
    "text(0.21,0.09,'a')"
   ]
  },
  {
   "cell_type": "markdown",
   "metadata": {},
   "source": [
    "<b> Observations: </b>\n",
    "<ul>\n",
    "    <li> The angle of quantum state with state $ \\ket{0} $ is $a$.</li>    \n",
    "    <li> The amplitude of state $ \\ket{0} $ is $ \\cos(a) = \\frac{3}{5} $.</li>\n",
    "    <li> The probability of observing state $ \\ket{0} $ is $ \\cos^2(a) = \\frac{9}{25} $.</li>\n",
    "    <li> The amplitude of state $ \\ket{1} $ is $ \\sin(a) = \\frac{4}{5} $.</li>\n",
    "    <li> The probability of observing state $ \\ket{1} $ is $ \\sin^2(a) = \\frac{16}{25} $.</li>\n",
    "</ul>"
   ]
  },
  {
   "cell_type": "markdown",
   "metadata": {},
   "source": [
    "<h3> The angle of a quantum state </h3>\n",
    "\n",
    "The angle of a vector (in radians) on the unit circle is the length of arc in counter-clockwise direction that starts from $ (1,0) $ and with the points representing the vector.\n",
    "\n",
    "We execute the following code a couple of times to see different examples, where the angle is picked randomly in each run.\n",
    "\n",
    "You can also set the value of \"myangle\" manually for seeing a specific angle."
   ]
  },
  {
   "cell_type": "code",
   "execution_count": null,
   "metadata": {},
   "outputs": [],
   "source": [
    "# set the angle\n",
    "\n",
    "from random import randrange\n",
    "myangle = randrange(361)\n",
    "\n",
    "################################################\n",
    "\n",
    "from matplotlib.pyplot import figure,gca\n",
    "from matplotlib.patches import Arc\n",
    "from math import sin,cos,pi\n",
    "\n",
    "# draw a figure\n",
    "figure(figsize=(6,6), dpi=60)\n",
    "\n",
    "%run quantum.py\n",
    "\n",
    "draw_axes()\n",
    "\n",
    "print(\"the selected angle is\",myangle,\"degrees\")\n",
    "\n",
    "ratio_of_arc = ((1000*myangle/360)//1)/1000\n",
    "\n",
    "print(\"it is\",ratio_of_arc,\"of a full circle\")\n",
    "\n",
    "print(\"its length is\",ratio_of_arc,\"x 2\\u03C0\",\"=\",ratio_of_arc*2*pi)\n",
    "\n",
    "myangle_in_radian = 2*pi*(myangle/360)\n",
    "\n",
    "print(\"its radian value is\",myangle_in_radian)\n",
    "\n",
    "gca().add_patch( Arc((0,0),0.2,0.2,angle=0,theta1=0,theta2=myangle,color=\"red\",linewidth=2) )\n",
    "\n",
    "gca().add_patch( Arc((0,0),2,2,angle=0,theta1=0,theta2=myangle,color=\"brown\",linewidth=2) )\n",
    "\n",
    "x = cos(myangle_in_radian)\n",
    "y = sin(myangle_in_radian)\n",
    "\n",
    "draw_quantum_state(x,y,\"|v>\")\n",
    "\n",
    "# the projection on |0>-axis\n",
    "arrow(0,0,x,0,color=\"blue\",linewidth=1)\n",
    "arrow(0,y,x,0,color=\"blue\",linestyle='dashed')\n",
    "\n",
    "# the projection on |1>-axis\n",
    "arrow(0,0,0,y,color=\"blue\",linewidth=1)\n",
    "arrow(x,0,0,y,color=\"blue\",linestyle='dashed')\n",
    "\n",
    "print()\n",
    "print(\"the amplitude of state |0> is\",x)\n",
    "print(\"the amplitude of state |1> is\",y)\n",
    "print()\n",
    "print(\"the probability of observing state |0> is\",x*x)\n",
    "print(\"the probability of observing state |1> is\",y*y)\n",
    "print(\"the total probability is\",round(x*x+y*y,6))"
   ]
  },
  {
   "cell_type": "markdown",
   "metadata": {},
   "source": [
    "<h3> Random quantum states </h3>\n",
    "\n",
    "Any quantum state of a (real-valued) qubit is a point on the unit circle.\n",
    "\n",
    "We use this fact to create random quantum states by picking a random point on the unit circle. \n",
    "\n",
    "For this purpose, we randomly pick an angle between zero and 360 degrees and then find the amplitudes of the quantum state by using the basic trigonometric functions."
   ]
  },
  {
   "cell_type": "markdown",
   "metadata": {},
   "source": [
    "<a id=\"task3\"></a>\n",
    "<h3> Task 3 </h3>\n",
    "\n",
    "Define a function randomly creating a quantum state based on this idea.\n",
    "\n",
    "Randomly create a quantum state by using this function.\n",
    "\n",
    "Draw the quantum state on the unit circle.\n",
    "\n",
    "Repeat the task for a few times.\n",
    "\n",
    "Randomly create 100 quantum states and draw all of them."
   ]
  },
  {
   "cell_type": "markdown",
   "metadata": {},
   "source": [
    "<i> You can save your function for using later: comment out the first command, give an appropriate file name, and then run the cell.</i>"
   ]
  },
  {
   "cell_type": "code",
   "execution_count": null,
   "metadata": {},
   "outputs": [],
   "source": [
    "# %%writefile FILENAME.py \n",
    "# your function is here\n",
    "from math import cos, sin, pi\n",
    "from random import randrange\n",
    "def random_qstate_by_angle():\n",
    "    #\n",
    "    # your codes are here\n",
    "    #"
   ]
  },
  {
   "cell_type": "markdown",
   "metadata": {},
   "source": [
    "<i style=\"font-size:10pt;\">\n",
    "Our predefined function \"draw_qubit()\" draws a figure, the origin, the axes, the unit circle, and base quantum states.\n",
    "<br>\n",
    "Our predefined function \"draw_quantum_state(x,y,name)\" draws an arrow from (0,0) to (x,y) and associates it with <u>name</u>.\n",
    "<br>\n",
    "We include our predefined functions with the following line of code:\n",
    "    \n",
    "    %run quantum.py\n",
    "</i>  "
   ]
  },
  {
   "cell_type": "code",
   "execution_count": null,
   "metadata": {},
   "outputs": [],
   "source": [
    "# visually test your function\n",
    "%run quantum.py\n",
    "\n",
    "draw_qubit()\n",
    "\n",
    "#\n",
    "# your solution is here\n",
    "#\n",
    "\n",
    "# draw_quantum_state(x,y,\"\")"
   ]
  },
  {
   "cell_type": "markdown",
   "metadata": {},
   "source": [
    "<a href=\"Q32_Visualization_of_a_Qubit_Solutions.ipynb#task3\">click for our solution</a>"
   ]
  }
 ],
 "metadata": {
  "kernelspec": {
   "display_name": "Python 3 (ipykernel)",
   "language": "python",
   "name": "python3"
  },
  "language_info": {
   "codemirror_mode": {
    "name": "ipython",
    "version": 3
   },
   "file_extension": ".py",
   "mimetype": "text/x-python",
   "name": "python",
   "nbconvert_exporter": "python",
   "pygments_lexer": "ipython3",
   "version": "3.9.7"
  }
 },
 "nbformat": 4,
 "nbformat_minor": 2
}
