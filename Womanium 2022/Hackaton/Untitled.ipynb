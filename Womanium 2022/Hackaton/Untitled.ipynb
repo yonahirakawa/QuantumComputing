{
 "cells": [
  {
   "cell_type": "code",
   "execution_count": 1,
   "id": "a414d6cd-92e9-43d8-b5c2-712c46a250dd",
   "metadata": {},
   "outputs": [
    {
     "name": "stdout",
     "output_type": "stream",
     "text": [
      "Collecting bloch_sphere\n",
      "  Downloading bloch_sphere-0.4.0-py3-none-any.whl (11 kB)\n",
      "Collecting latextools\n",
      "  Downloading latextools-0.4.6-py3-none-any.whl (27 kB)\n",
      "Collecting hyperbolic\n",
      "  Downloading hyperbolic-1.4.0-py3-none-any.whl (32 kB)\n",
      "Collecting drawSvg\n",
      "  Downloading drawSvg-1.8.3-py3-none-any.whl (25 kB)\n",
      "Requirement already satisfied: numpy in c:\\users\\blueshift\\appdata\\local\\packages\\pythonsoftwarefoundation.python.3.10_qbz5n2kfra8p0\\localcache\\local-packages\\python310\\site-packages (from bloch_sphere) (1.22.3)\n",
      "Collecting cairoSVG\n",
      "  Downloading CairoSVG-2.5.2-py3-none-any.whl (45 kB)\n",
      "     -------------------------------------- 45.8/45.8 kB 756.3 kB/s eta 0:00:00\n",
      "Collecting imageio\n",
      "  Downloading imageio-2.21.1-py3-none-any.whl (3.4 MB)\n",
      "     ---------------------------------------- 3.4/3.4 MB 3.0 MB/s eta 0:00:00\n",
      "Collecting fs\n",
      "  Downloading fs-2.4.16-py2.py3-none-any.whl (135 kB)\n",
      "     -------------------------------------- 135.3/135.3 kB 1.6 MB/s eta 0:00:00\n",
      "Requirement already satisfied: tinycss2 in c:\\users\\blueshift\\appdata\\local\\packages\\pythonsoftwarefoundation.python.3.10_qbz5n2kfra8p0\\localcache\\local-packages\\python310\\site-packages (from cairoSVG->drawSvg->bloch_sphere) (1.1.1)\n",
      "Collecting cairocffi\n",
      "  Downloading cairocffi-1.3.0.tar.gz (88 kB)\n",
      "     ---------------------------------------- 88.8/88.8 kB 1.7 MB/s eta 0:00:00\n",
      "  Preparing metadata (setup.py): started\n",
      "  Preparing metadata (setup.py): finished with status 'done'\n",
      "Collecting pillow\n",
      "  Using cached Pillow-9.2.0-cp310-cp310-win_amd64.whl (3.3 MB)\n",
      "Collecting cssselect2\n",
      "  Downloading cssselect2-0.6.0-py3-none-any.whl (15 kB)\n",
      "Requirement already satisfied: defusedxml in c:\\users\\blueshift\\appdata\\local\\packages\\pythonsoftwarefoundation.python.3.10_qbz5n2kfra8p0\\localcache\\local-packages\\python310\\site-packages (from cairoSVG->drawSvg->bloch_sphere) (0.7.1)\n",
      "Requirement already satisfied: setuptools in c:\\program files\\windowsapps\\pythonsoftwarefoundation.python.3.10_3.10.1776.0_x64__qbz5n2kfra8p0\\lib\\site-packages (from fs->latextools->bloch_sphere) (63.2.0)\n",
      "Collecting appdirs~=1.4.3\n",
      "  Downloading appdirs-1.4.4-py2.py3-none-any.whl (9.6 kB)\n",
      "Requirement already satisfied: six~=1.10 in c:\\users\\blueshift\\appdata\\local\\packages\\pythonsoftwarefoundation.python.3.10_qbz5n2kfra8p0\\localcache\\local-packages\\python310\\site-packages (from fs->latextools->bloch_sphere) (1.16.0)\n",
      "Requirement already satisfied: cffi>=1.1.0 in c:\\users\\blueshift\\appdata\\local\\packages\\pythonsoftwarefoundation.python.3.10_qbz5n2kfra8p0\\localcache\\local-packages\\python310\\site-packages (from cairocffi->cairoSVG->drawSvg->bloch_sphere) (1.15.0)\n",
      "Requirement already satisfied: webencodings in c:\\users\\blueshift\\appdata\\local\\packages\\pythonsoftwarefoundation.python.3.10_qbz5n2kfra8p0\\localcache\\local-packages\\python310\\site-packages (from cssselect2->cairoSVG->drawSvg->bloch_sphere) (0.5.1)\n",
      "Requirement already satisfied: pycparser in c:\\users\\blueshift\\appdata\\local\\packages\\pythonsoftwarefoundation.python.3.10_qbz5n2kfra8p0\\localcache\\local-packages\\python310\\site-packages (from cffi>=1.1.0->cairocffi->cairoSVG->drawSvg->bloch_sphere) (2.21)\n",
      "Building wheels for collected packages: cairocffi\n",
      "  Building wheel for cairocffi (setup.py): started\n",
      "  Building wheel for cairocffi (setup.py): finished with status 'done'\n",
      "  Created wheel for cairocffi: filename=cairocffi-1.3.0-py3-none-any.whl size=89682 sha256=ec8a8750fc8a3a0357a1c19683ab2ae3bfbc736b8207a3378dedfab36c05bda7\n",
      "  Stored in directory: c:\\users\\blueshift\\appdata\\local\\pip\\cache\\wheels\\c3\\77\\5d\\2392b6f4bc3fa25bdcc58f3b63e23ab0f571a6e807836b22ab\n",
      "Successfully built cairocffi\n",
      "Installing collected packages: appdirs, pillow, hyperbolic, fs, latextools, imageio, cssselect2, cairocffi, cairoSVG, drawSvg, bloch_sphere\n",
      "Successfully installed appdirs-1.4.4 bloch_sphere-0.4.0 cairoSVG-2.5.2 cairocffi-1.3.0 cssselect2-0.6.0 drawSvg-1.8.3 fs-2.4.16 hyperbolic-1.4.0 imageio-2.21.1 latextools-0.4.6 pillow-9.2.0\n"
     ]
    },
    {
     "name": "stderr",
     "output_type": "stream",
     "text": [
      "  WARNING: The scripts imageio_download_bin.exe and imageio_remove_bin.exe are installed in 'C:\\Users\\BlueShift\\AppData\\Local\\Packages\\PythonSoftwareFoundation.Python.3.10_qbz5n2kfra8p0\\LocalCache\\local-packages\\Python310\\Scripts' which is not on PATH.\n",
      "  Consider adding this directory to PATH or, if you prefer to suppress this warning, use --no-warn-script-location.\n",
      "  WARNING: The script cairosvg.exe is installed in 'C:\\Users\\BlueShift\\AppData\\Local\\Packages\\PythonSoftwareFoundation.Python.3.10_qbz5n2kfra8p0\\LocalCache\\local-packages\\Python310\\Scripts' which is not on PATH.\n",
      "  Consider adding this directory to PATH or, if you prefer to suppress this warning, use --no-warn-script-location.\n",
      "  WARNING: The scripts animate_bloch.exe and animate_bloch2.exe are installed in 'C:\\Users\\BlueShift\\AppData\\Local\\Packages\\PythonSoftwareFoundation.Python.3.10_qbz5n2kfra8p0\\LocalCache\\local-packages\\Python310\\Scripts' which is not on PATH.\n",
      "  Consider adding this directory to PATH or, if you prefer to suppress this warning, use --no-warn-script-location.\n",
      "\n",
      "[notice] A new release of pip available: 22.2.1 -> 22.2.2\n",
      "[notice] To update, run: C:\\Users\\BlueShift\\AppData\\Local\\Microsoft\\WindowsApps\\PythonSoftwareFoundation.Python.3.10_qbz5n2kfra8p0\\python.exe -m pip install --upgrade pip\n"
     ]
    }
   ],
   "source": [
    "!pip install bloch_sphere"
   ]
  },
  {
   "cell_type": "code",
   "execution_count": null,
   "id": "e8cbad31-b47d-40c2-8ff0-3b93a9d3d850",
   "metadata": {},
   "outputs": [],
   "source": []
  }
 ],
 "metadata": {
  "kernelspec": {
   "display_name": "Python 3 (ipykernel)",
   "language": "python",
   "name": "python3"
  },
  "language_info": {
   "codemirror_mode": {
    "name": "ipython",
    "version": 3
   },
   "file_extension": ".py",
   "mimetype": "text/x-python",
   "name": "python",
   "nbconvert_exporter": "python",
   "pygments_lexer": "ipython3",
   "version": "3.10.6"
  }
 },
 "nbformat": 4,
 "nbformat_minor": 5
}
